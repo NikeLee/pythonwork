{
 "cells": [
  {
   "cell_type": "markdown",
   "id": "10b0eb7a",
   "metadata": {},
   "source": [
    "## 특징\n",
    "\n",
    "+ 벡터 및 행렬 연산과 관련된 편리한 기능을 제공(선형 대수 관련)\n",
    "+ 리스트에 비해 빠르고 메모리를 효율적으로 사용할 수 있는 배열(ndarray) 제공\n",
    "+ 반복문 없이 데이터 배열에 대한 처리를 지원(인덱싱, 질의)\n",
    "+ http://www.numpy.org"
   ]
  },
  {
   "cell_type": "code",
   "execution_count": 1,
   "id": "772b6b71",
   "metadata": {},
   "outputs": [],
   "source": [
    "import numpy as np"
   ]
  },
  {
   "cell_type": "markdown",
   "id": "5b50d2bc",
   "metadata": {},
   "source": [
    "## 1. 1차원 배열"
   ]
  },
  {
   "cell_type": "code",
   "execution_count": 7,
   "id": "a5fe19a6",
   "metadata": {},
   "outputs": [
    {
     "name": "stdout",
     "output_type": "stream",
     "text": [
      "[1, 2, 3, 4, 5, 10, 20, '가', '나']\n",
      "<class 'list'>\n"
     ]
    }
   ],
   "source": [
    "a1 = [1, 2, 3, 4, 5, 10, 20, \"가\", \"나\"]\n",
    "print(a1)\n",
    "print(type(a1))\n",
    "# print(a1.shape)\n",
    "# print(a1.dtype)"
   ]
  },
  {
   "cell_type": "code",
   "execution_count": 11,
   "id": "3e72a441",
   "metadata": {},
   "outputs": [
    {
     "name": "stdout",
     "output_type": "stream",
     "text": [
      "['1' '2' '3' '4' '5' '10' '20' '가' '나']\n",
      "(9,)\n",
      "<U11\n"
     ]
    }
   ],
   "source": [
    "a2 = np.array([1, 2, 3, 4, 5, 10, 20, \"가\", \"나\"])\n",
    "print(a2)\n",
    "print(a2.shape)\n",
    "print(a2.dtype)"
   ]
  },
  {
   "cell_type": "code",
   "execution_count": 15,
   "id": "b9d19aec",
   "metadata": {},
   "outputs": [
    {
     "name": "stdout",
     "output_type": "stream",
     "text": [
      "[ 1.  2.  3.  4.  5. 10. 20. 30. 40.]\n",
      "float64\n"
     ]
    }
   ],
   "source": [
    "# a3 = np.array([1, 2, 3, 4, 5, 10, 20, \"30\", \"40\"], dtype=float)\n",
    "a3 = np.array([1, 2, 3, 4, 5, 10, 20, \"30\", \"40\"], float)\n",
    "print(a3)\n",
    "print(a3.dtype)"
   ]
  },
  {
   "cell_type": "code",
   "execution_count": 19,
   "id": "df881335",
   "metadata": {},
   "outputs": [
    {
     "name": "stdout",
     "output_type": "stream",
     "text": [
      "[0, 1, 2, 3, 4, 5, 6, 7, 8, 9, 0, 1, 2, 3, 4, 5, 6, 7, 8, 9]\n"
     ]
    }
   ],
   "source": [
    "# 벡터화 연산\n",
    "\n",
    "data1 = [0, 1, 2, 3, 4, 5, 6, 7, 8, 9]\n",
    "print(data1 * 2)\n",
    "# print(data1 - 2)"
   ]
  },
  {
   "cell_type": "code",
   "execution_count": 23,
   "id": "f309a443",
   "metadata": {},
   "outputs": [
    {
     "name": "stdout",
     "output_type": "stream",
     "text": [
      "[ 0  2  4  6  8 10 12 14 16 18]\n",
      "[-2 -1  0  1  2  3  4  5  6  7]\n",
      "[ 2  3  4  5  6  7  8  9 10 11]\n"
     ]
    }
   ],
   "source": [
    "data2 = np.array(data1)\n",
    "print(data2 * 2)\n",
    "print(data2 - 2)\n",
    "print(data2 + 2)"
   ]
  },
  {
   "cell_type": "code",
   "execution_count": 24,
   "id": "daf0e2d0",
   "metadata": {},
   "outputs": [
    {
     "name": "stdout",
     "output_type": "stream",
     "text": [
      "0 1\n"
     ]
    }
   ],
   "source": [
    "# 인덱스 접근\n",
    "print(data2[0], data2[1])"
   ]
  },
  {
   "cell_type": "markdown",
   "id": "d51d0288",
   "metadata": {},
   "source": [
    "## 2. 2차원 배열"
   ]
  },
  {
   "cell_type": "code",
   "execution_count": 27,
   "id": "9dd413e6",
   "metadata": {},
   "outputs": [
    {
     "name": "stdout",
     "output_type": "stream",
     "text": [
      "[[1 2 3]\n",
      " [4 5 6]]\n",
      "(2, 3)\n",
      "int32\n"
     ]
    }
   ],
   "source": [
    "arr = np.array([[1, 2, 3], [4, 5, 6]])\n",
    "print(arr)\n",
    "print(arr.shape)\n",
    "print(arr.dtype)"
   ]
  },
  {
   "cell_type": "code",
   "execution_count": 31,
   "id": "5b40f2e5",
   "metadata": {},
   "outputs": [
    {
     "name": "stdout",
     "output_type": "stream",
     "text": [
      "[1 2 3]\n",
      "2\n",
      "-----------------\n",
      "2\n",
      "3\n"
     ]
    }
   ],
   "source": [
    "# 접근\n",
    "print(arr[0])\n",
    "print(arr[0][1])\n",
    "print(\"-----------------\")\n",
    "print(len(arr))\n",
    "print(len(arr[0]))"
   ]
  },
  {
   "cell_type": "markdown",
   "id": "bf2e5ceb",
   "metadata": {},
   "source": [
    "## 3. 3차원 배열"
   ]
  },
  {
   "cell_type": "code",
   "execution_count": 36,
   "id": "be632d3a",
   "metadata": {},
   "outputs": [
    {
     "name": "stdout",
     "output_type": "stream",
     "text": [
      "[[[ 1  2  3  4]\n",
      "  [ 3  4  5  6]]\n",
      "\n",
      " [[ 7  8  9 10]\n",
      "  [11 12 13 14]]]\n",
      "(2, 2, 4)\n",
      "3\n",
      "----------------------------\n",
      "[[1 2 3 4]\n",
      " [3 4 5 6]]\n",
      "----------------------------\n",
      "[1 2 3 4]\n",
      "----------------------------\n",
      "1\n",
      "----------------------------\n",
      "2 2 4\n"
     ]
    }
   ],
   "source": [
    "arr = np.array([[[1, 2, 3, 4], [3, 4, 5, 6]], [[7, 8, 9, 10], [11, 12, 13, 14]]])\n",
    "print(arr)\n",
    "print(arr.shape)\n",
    "print(arr.ndim)\n",
    "print(\"----------------------------\")\n",
    "print(arr[0])\n",
    "print(\"----------------------------\")\n",
    "print(arr[0][0])\n",
    "print(\"----------------------------\")\n",
    "print(arr[0][0][0])\n",
    "print(\"----------------------------\")\n",
    "print(len(arr), len(arr[0]), len(arr[0][0]))"
   ]
  },
  {
   "cell_type": "code",
   "execution_count": 45,
   "id": "1eda7fc2",
   "metadata": {},
   "outputs": [
    {
     "name": "stdout",
     "output_type": "stream",
     "text": [
      "[[[[10]]]]\n",
      "int32\n",
      "(1, 1, 1, 1)\n",
      "4\n"
     ]
    }
   ],
   "source": [
    "arr = np.array([[[[10]]]])\n",
    "print(arr)\n",
    "print(arr.dtype)\n",
    "print(arr.shape)\n",
    "print(arr.ndim)"
   ]
  },
  {
   "cell_type": "markdown",
   "id": "4beda50a",
   "metadata": {},
   "source": [
    "## 4. 집계 함수"
   ]
  },
  {
   "cell_type": "code",
   "execution_count": 46,
   "id": "89a6ee1a",
   "metadata": {},
   "outputs": [
    {
     "name": "stdout",
     "output_type": "stream",
     "text": [
      "[ 0.76213482  0.80747207  0.70180553 -0.35785291 -0.0781431  -0.86817205\n",
      "  1.49643229  0.40167962]\n",
      "[ 0.90189538 -1.1170294   0.7010319  -0.82193278  0.26154191  0.71655953\n",
      "  0.10117881 -0.11372381]\n"
     ]
    }
   ],
   "source": [
    "x = np.random.randn(8)\n",
    "y = np.random.randn(8)\n",
    "\n",
    "print(x)\n",
    "print(y)"
   ]
  },
  {
   "cell_type": "code",
   "execution_count": 47,
   "id": "6496d181",
   "metadata": {},
   "outputs": [
    {
     "data": {
      "text/plain": [
       "array([ 0.90189538,  0.80747207,  0.70180553, -0.35785291,  0.26154191,\n",
       "        0.71655953,  1.49643229,  0.40167962])"
      ]
     },
     "execution_count": 47,
     "metadata": {},
     "output_type": "execute_result"
    }
   ],
   "source": [
    "np.maximum(x, y)"
   ]
  },
  {
   "cell_type": "code",
   "execution_count": 48,
   "id": "1d4fdcb8",
   "metadata": {},
   "outputs": [
    {
     "data": {
      "text/plain": [
       "array([[ 0.51800867,  1.27953143,  0.83252095, -0.08877488],\n",
       "       [ 0.08511303,  0.43189923,  0.69153685, -0.9951772 ],\n",
       "       [-1.01603943, -0.95589528, -0.25339452, -0.24194202],\n",
       "       [-1.07960706,  0.65069577, -2.10299631, -0.12836436],\n",
       "       [ 0.52789694,  1.06707319, -2.37914843, -0.06180814]])"
      ]
     },
     "execution_count": 48,
     "metadata": {},
     "output_type": "execute_result"
    }
   ],
   "source": [
    "arr = np.random.randn(5, 4)\n",
    "arr"
   ]
  },
  {
   "cell_type": "code",
   "execution_count": 52,
   "id": "db63556c",
   "metadata": {},
   "outputs": [
    {
     "name": "stdout",
     "output_type": "stream",
     "text": [
      "-3.218871597435175\n",
      "[-0.96462786  2.47330434 -3.21148146 -1.51606661]\n",
      "[ 2.54128617  0.2133719  -2.46727126 -2.66027196 -0.84598645]\n"
     ]
    }
   ],
   "source": [
    "# ?np.sum\n",
    "print(arr.sum())\n",
    "print(arr.sum(axis=0))\n",
    "print(arr.sum(axis=1))"
   ]
  },
  {
   "cell_type": "markdown",
   "id": "e077f049",
   "metadata": {},
   "source": [
    "## 5. 배열의 인덱싱"
   ]
  },
  {
   "cell_type": "code",
   "execution_count": 56,
   "id": "1b6519ab",
   "metadata": {},
   "outputs": [
    {
     "name": "stdout",
     "output_type": "stream",
     "text": [
      "300 500 500 300\n"
     ]
    }
   ],
   "source": [
    "arr = np.array([100, 200, 300, 400, 500])\n",
    "\n",
    "print(arr[2], arr[4], arr[-1], arr[-3])"
   ]
  },
  {
   "cell_type": "code",
   "execution_count": 61,
   "id": "425d5fd8",
   "metadata": {},
   "outputs": [
    {
     "name": "stdout",
     "output_type": "stream",
     "text": [
      "2 2 5\n"
     ]
    }
   ],
   "source": [
    "arr = np.array([[0, 1, 2], [3, 4, 5]])\n",
    "\n",
    "print(arr[0][2], arr[0, 2], arr[-1, -1])"
   ]
  },
  {
   "cell_type": "code",
   "execution_count": 64,
   "id": "53d83aa3",
   "metadata": {},
   "outputs": [
    {
     "name": "stdout",
     "output_type": "stream",
     "text": [
      "[0 2 4 6 8]\n",
      "[0 2 4 6 8]\n"
     ]
    }
   ],
   "source": [
    "##### fancy index\n",
    "\n",
    "arr = np.array([i for i in range(10)])\n",
    "arr\n",
    "idx = np.array([True, False, True, False, True, False, True, False, True, False])\n",
    "\n",
    "print(arr[idx])\n",
    "print(arr[arr % 2 == 0])\n",
    "\n",
    "# arr에서 3의 배수를 찾아라\n",
    "\n",
    "\n",
    "# arr에서 4로 나누면 1이 남는 수를 찾아라\n",
    "\n",
    "\n",
    "# arr에서 3으로 나누면 나눠지고 4로 나누면 1이 남는 수를 찾아라"
   ]
  },
  {
   "cell_type": "markdown",
   "id": "5e88e591",
   "metadata": {},
   "source": [
    "## 6. 배열의 슬라이싱"
   ]
  },
  {
   "cell_type": "code",
   "execution_count": 72,
   "id": "ab605cff",
   "metadata": {},
   "outputs": [
    {
     "name": "stdout",
     "output_type": "stream",
     "text": [
      "[0 1]\n",
      "--------------------\n",
      "[[4 5]\n",
      " [8 9]]\n",
      "--------------------\n",
      "[0 1 2 3]\n",
      "--------------------\n",
      "[[0 1]\n",
      " [4 5]]\n",
      "--------------------\n",
      "[[ 8  9 10 11]\n",
      " [ 4  5  6  7]\n",
      " [ 0  1  2  3]]\n",
      "--------------------\n",
      "[[ 0  3]\n",
      " [ 4  7]\n",
      " [ 8 11]]\n"
     ]
    }
   ],
   "source": [
    "arr = np.array([[0, 1, 2, 3],\n",
    "               [4, 5, 6, 7],\n",
    "               [8, 9, 10, 11]])\n",
    "arr\n",
    "\n",
    "print(arr[0, 0:2])\n",
    "print(\"--------------------\")\n",
    "print(arr[1:3, 0:2])\n",
    "print(\"--------------------\")\n",
    "print(arr[0, :])\n",
    "print(\"--------------------\")\n",
    "\n",
    "#[[0, 1], [4, 5]] 출력 \n",
    "print(arr[:2, :2])\n",
    "print(\"--------------------\")\n",
    "print(arr[[2, 1, 0], :])\n",
    "print(\"--------------------\")\n",
    "print(arr[:, [0, 3]])"
   ]
  },
  {
   "cell_type": "markdown",
   "id": "d48cb6f4",
   "metadata": {},
   "source": [
    "## 7. numpy 자료형\n",
    "\n",
    "+ b : 불리언\n",
    "+ i : 정수형\n",
    "+ u : 부호없는 정수형\n",
    "+ f : 부동 소수점\n",
    "+ c : 복소수\n",
    "+ O : 객체\n",
    "+ S : 바이트 문자열\n",
    "+ U : 유니코드 문자열"
   ]
  },
  {
   "cell_type": "code",
   "execution_count": 76,
   "id": "2bac152f",
   "metadata": {},
   "outputs": [
    {
     "name": "stdout",
     "output_type": "stream",
     "text": [
      ">i4\n",
      "int32\n",
      ">i8\n",
      "int64\n"
     ]
    }
   ],
   "source": [
    "a1 = np.dtype(\">i4\")\n",
    "print(a1)\n",
    "print(a1.name)\n",
    "\n",
    "a2 = np.dtype(\">i8\")\n",
    "print(a2)\n",
    "print(a2.name)"
   ]
  },
  {
   "cell_type": "code",
   "execution_count": 81,
   "id": "2eaeda09",
   "metadata": {},
   "outputs": [
    {
     "name": "stdout",
     "output_type": "stream",
     "text": [
      "float16\n",
      "3.0\n",
      "--------------------------------\n",
      "<U1\n",
      "12\n"
     ]
    }
   ],
   "source": [
    "# arr = np.array([1, 2, 3], dtype=\"f\")\n",
    "arr = np.array([1, 2, 3], dtype=np.float16)\n",
    "print(arr.dtype)\n",
    "print(arr[0] + arr[1])\n",
    "\n",
    "print(\"--------------------------------\")\n",
    "\n",
    "arr = np.array([1, 2, 3], dtype=\"U\")\n",
    "print(arr.dtype)\n",
    "print(arr[0] + arr[1])"
   ]
  },
  {
   "cell_type": "markdown",
   "id": "aaca33d6",
   "metadata": {},
   "source": [
    "## 8. 배열 생성"
   ]
  },
  {
   "cell_type": "code",
   "execution_count": 93,
   "id": "b3350f10",
   "metadata": {
    "collapsed": true
   },
   "outputs": [
    {
     "name": "stdout",
     "output_type": "stream",
     "text": [
      "[0. 0. 0. 0. 0.]\n",
      "float64\n",
      "<class 'numpy.ndarray'>\n",
      "---------------------------------\n",
      "[0 0 0 0 0]\n",
      "int64\n",
      "---------------------------------\n",
      "['' '' '' '' '']\n",
      "<U4\n",
      "['abc' 'abcd' 'abcd' '' '']\n",
      "---------------------------------\n",
      "[[0. 0. 0.]\n",
      " [0. 0. 0.]]\n"
     ]
    }
   ],
   "source": [
    "arr = np.zeros(5)\n",
    "print(arr)\n",
    "print(arr.dtype)\n",
    "print(type(arr))\n",
    "\n",
    "print(\"---------------------------------\")\n",
    "\n",
    "arr = np.zeros(5, dtype=\"i8\")\n",
    "print(arr)\n",
    "print(arr.dtype)\n",
    "\n",
    "print(\"---------------------------------\")\n",
    "\n",
    "arr = np.zeros(5, dtype=\"U4\")\n",
    "print(arr)\n",
    "print(arr.dtype)\n",
    "arr[0] = \"abc\"\n",
    "arr[1] = \"abcd\"\n",
    "arr[2] = \"abcde\"\n",
    "print(arr)\n",
    "\n",
    "print(\"---------------------------------\")\n",
    "\n",
    "arr = np.zeros((2, 3))\n",
    "print(arr)"
   ]
  },
  {
   "cell_type": "code",
   "execution_count": 100,
   "id": "d5af631b",
   "metadata": {
    "collapsed": true
   },
   "outputs": [
    {
     "name": "stdout",
     "output_type": "stream",
     "text": [
      "[[[1. 1. 1. 1.]\n",
      "  [1. 1. 1. 1.]\n",
      "  [1. 1. 1. 1.]]\n",
      "\n",
      " [[1. 1. 1. 1.]\n",
      "  [1. 1. 1. 1.]\n",
      "  [1. 1. 1. 1.]]]\n",
      "---------------------------------\n",
      "[[1. 1. 1.]\n",
      " [1. 1. 1.]]\n",
      "---------------------------------\n",
      "[[1.07047043e-311 3.16202013e-322 0.00000000e+000]\n",
      " [0.00000000e+000 0.00000000e+000 1.28025175e+161]\n",
      " [5.63979007e-062 3.92813886e-033 2.57594013e-056]\n",
      " [5.45625130e-066 1.20075044e-075 6.87182511e-038]]\n",
      "---------------------------------\n",
      "[0 1 2 3 4 5 6 7 8 9]\n",
      "---------------------------------\n",
      "[  1.    25.75  50.5   75.25 100.  ]\n"
     ]
    }
   ],
   "source": [
    "arr = np.ones((2, 3, 4))\n",
    "print(arr)\n",
    "\n",
    "print(\"---------------------------------\")\n",
    "\n",
    "arr1 = np.zeros((2, 3))\n",
    "arr2 = np.ones_like(arr1)\n",
    "print(arr2)\n",
    "\n",
    "print(\"---------------------------------\")\n",
    "\n",
    "arr = np.empty((4, 3))\n",
    "print(arr)\n",
    "\n",
    "print(\"---------------------------------\")\n",
    "\n",
    "arr = np.arange(10)\n",
    "print(arr)\n",
    "\n",
    "print(\"---------------------------------\")\n",
    "\n",
    "arr = np.linspace(1, 100, 5)\n",
    "print(arr)"
   ]
  },
  {
   "cell_type": "markdown",
   "id": "1ff8f699",
   "metadata": {},
   "source": [
    "## 9. 전치 연산(Transpose)"
   ]
  },
  {
   "cell_type": "code",
   "execution_count": 105,
   "id": "f7963a2e",
   "metadata": {},
   "outputs": [
    {
     "name": "stdout",
     "output_type": "stream",
     "text": [
      "[[1 2 3]\n",
      " [4 5 6]]\n",
      "[[1 4]\n",
      " [2 5]\n",
      " [3 6]]\n"
     ]
    }
   ],
   "source": [
    "arr = np.array([[1, 2, 3], [4, 5, 6]])\n",
    "print(arr)\n",
    "print(arr.T)"
   ]
  },
  {
   "cell_type": "markdown",
   "id": "108bc3ee",
   "metadata": {},
   "source": [
    "## 10. 배열의 크기 변형 : reshape(), flatten(), ravel()"
   ]
  },
  {
   "cell_type": "code",
   "execution_count": 107,
   "id": "767be4e5",
   "metadata": {},
   "outputs": [
    {
     "name": "stdout",
     "output_type": "stream",
     "text": [
      "[ 0  1  2  3  4  5  6  7  8  9 10 11]\n",
      "(12,)\n"
     ]
    }
   ],
   "source": [
    "arr = np.arange(12)\n",
    "print(arr)\n",
    "print(arr.shape)"
   ]
  },
  {
   "cell_type": "code",
   "execution_count": 109,
   "id": "d9fa3ef0",
   "metadata": {},
   "outputs": [
    {
     "name": "stdout",
     "output_type": "stream",
     "text": [
      "[[ 0  1  2  3]\n",
      " [ 4  5  6  7]\n",
      " [ 8  9 10 11]]\n",
      "(3, 4)\n"
     ]
    }
   ],
   "source": [
    "arr1 = arr.reshape(3, 4)\n",
    "print(arr1)\n",
    "print(arr1.shape)\n",
    "\n",
    "print(\"-----------------------------------------\")\n",
    "\n",
    "arr1 = arr.reshape(3, -1)\n",
    "print(arr1)\n",
    "print(arr1.shape)\n",
    "\n",
    "print(\"-----------------------------------------\")\n",
    "\n",
    "arr1 = arr.reshape(-1, 4)\n",
    "print(arr1)\n",
    "print(arr1.shape)"
   ]
  },
  {
   "cell_type": "code",
   "execution_count": 114,
   "id": "2c62087c",
   "metadata": {},
   "outputs": [
    {
     "name": "stdout",
     "output_type": "stream",
     "text": [
      "[[[ 0  1  2]\n",
      "  [ 3  4  5]]\n",
      "\n",
      " [[ 6  7  8]\n",
      "  [ 9 10 11]]]\n",
      "(2, 2, 3)\n",
      "-----------------------------------------\n",
      "[[[ 0  1  2]\n",
      "  [ 3  4  5]]\n",
      "\n",
      " [[ 6  7  8]\n",
      "  [ 9 10 11]]]\n",
      "(2, 2, 3)\n",
      "-----------------------------------------\n",
      "[[[ 0  1  2]\n",
      "  [ 3  4  5]]\n",
      "\n",
      " [[ 6  7  8]\n",
      "  [ 9 10 11]]]\n",
      "(2, 2, 3)\n",
      "-----------------------------------------\n",
      "[[[ 0  1  2]\n",
      "  [ 3  4  5]]\n",
      "\n",
      " [[ 6  7  8]\n",
      "  [ 9 10 11]]]\n",
      "(2, 2, 3)\n"
     ]
    }
   ],
   "source": [
    "arr2 = arr.reshape(2, 2, 3)\n",
    "print(arr2)\n",
    "print(arr2.shape)\n",
    "\n",
    "print(\"-----------------------------------------\")\n",
    "\n",
    "arr2 = arr.reshape(2, 2, -1)\n",
    "print(arr2)\n",
    "print(arr2.shape)\n",
    "\n",
    "print(\"-----------------------------------------\")\n",
    "\n",
    "arr2 = arr.reshape(2, -1, 3)\n",
    "print(arr2)\n",
    "print(arr2.shape)\n",
    "\n",
    "print(\"-----------------------------------------\")\n",
    "\n",
    "arr2 = arr.reshape(-1, 2, 3)\n",
    "print(arr2)\n",
    "print(arr2.shape)"
   ]
  },
  {
   "cell_type": "code",
   "execution_count": 119,
   "id": "5c8717b1",
   "metadata": {},
   "outputs": [
    {
     "name": "stdout",
     "output_type": "stream",
     "text": [
      "[ 0  1  2  3  4  5  6  7  8  9 10 11]\n",
      "[ 0  1  2  3  4  5  6  7  8  9 10 11]\n",
      "-------------------------------------\n",
      "[ 0  1  2  3  4  5  6  7  8  9 10 11]\n",
      "[ 0  1  2  3  4  5  6  7  8  9 10 11]\n"
     ]
    }
   ],
   "source": [
    "print(arr1.flatten())\n",
    "print(arr1.ravel())\n",
    "\n",
    "print(\"-------------------------------------\")\n",
    "\n",
    "print(arr2.flatten())\n",
    "print(arr2.ravel())"
   ]
  },
  {
   "cell_type": "code",
   "execution_count": 124,
   "id": "3b4a1725",
   "metadata": {
    "collapsed": true
   },
   "outputs": [
    {
     "name": "stdout",
     "output_type": "stream",
     "text": [
      "[[0 1 2 3 4]]\n",
      "[[0]\n",
      " [1]\n",
      " [2]\n",
      " [3]\n",
      " [4]]\n",
      "----------------------------------\n",
      "[[0]\n",
      " [1]\n",
      " [2]\n",
      " [3]\n",
      " [4]]\n",
      "[[0 1 2 3 4]]\n",
      "----------------------------------\n",
      "[[0]\n",
      " [1]\n",
      " [2]\n",
      " [3]\n",
      " [4]]\n"
     ]
    }
   ],
   "source": [
    "arr = np.arange(5)\n",
    "\n",
    "print(arr.reshape(1, 5))\n",
    "print(arr.reshape(5, 1))\n",
    "\n",
    "print(\"----------------------------------\")\n",
    "\n",
    "print(arr.reshape(1, 5).T)\n",
    "print(arr.reshape(5, 1).T)\n",
    "\n",
    "print(\"----------------------------------\")\n",
    "\n",
    "print(arr[:, np.newaxis])"
   ]
  },
  {
   "cell_type": "markdown",
   "id": "54c388a0",
   "metadata": {},
   "source": [
    "## 11. 배열 연결(병합) : stack(), hstack(), vstack(), dstack(), title()"
   ]
  },
  {
   "cell_type": "code",
   "execution_count": 131,
   "id": "41e26246",
   "metadata": {},
   "outputs": [
    {
     "name": "stdout",
     "output_type": "stream",
     "text": [
      "[[1. 1. 1.]\n",
      " [1. 1. 1.]]\n",
      "[[1. 1.]\n",
      " [1. 1.]]\n",
      "[[1. 1. 1. 1. 1.]\n",
      " [1. 1. 1. 1. 1.]]\n"
     ]
    }
   ],
   "source": [
    "##### hstack(), vstack()\n",
    "\n",
    "arr1 = np.ones((2, 3))\n",
    "arr2 = np.ones((2, 2))\n",
    "\n",
    "print(arr1)\n",
    "print(arr2)\n",
    "\n",
    "arr3 = np.hstack([arr1, arr2])\n",
    "print(arr3)\n",
    "\n",
    "# arr3 = np.vstack([arr1, arr2])"
   ]
  },
  {
   "cell_type": "code",
   "execution_count": 141,
   "id": "b64c1a0b",
   "metadata": {},
   "outputs": [
    {
     "name": "stdout",
     "output_type": "stream",
     "text": [
      "[[1. 1. 1. 1.]\n",
      " [1. 1. 1. 1.]\n",
      " [1. 1. 1. 1.]]\n",
      "[[1. 1. 1. 1.]\n",
      " [1. 1. 1. 1.]\n",
      " [1. 1. 1. 1.]]\n",
      "----------------------------------\n",
      "[[[1. 1. 1.]\n",
      "  [1. 1. 1.]\n",
      "  [1. 1. 1.]\n",
      "  [1. 1. 1.]]\n",
      "\n",
      " [[1. 1. 1.]\n",
      "  [1. 1. 1.]\n",
      "  [1. 1. 1.]\n",
      "  [1. 1. 1.]]\n",
      "\n",
      " [[1. 1. 1.]\n",
      "  [1. 1. 1.]\n",
      "  [1. 1. 1.]\n",
      "  [1. 1. 1.]]]\n",
      "(3, 4, 3)\n"
     ]
    }
   ],
   "source": [
    "##### dstack()\n",
    "\n",
    "arr1 = np.ones((3, 4))\n",
    "arr2 = np.ones((3, 4))\n",
    "\n",
    "print(arr1)\n",
    "print(arr2)\n",
    "\n",
    "print(\"----------------------------------\")\n",
    "\n",
    "# 3, 4, 2\n",
    "arr3 = np.dstack([arr1, arr2])\n",
    "print(arr4)\n",
    "print(arr4.shape)"
   ]
  },
  {
   "cell_type": "code",
   "execution_count": 140,
   "id": "cbdee392",
   "metadata": {},
   "outputs": [
    {
     "name": "stdout",
     "output_type": "stream",
     "text": [
      "[[[1. 1. 1. 1.]\n",
      "  [1. 1. 1. 1.]\n",
      "  [1. 1. 1. 1.]]\n",
      "\n",
      " [[1. 1. 1. 1.]\n",
      "  [1. 1. 1. 1.]\n",
      "  [1. 1. 1. 1.]]]\n",
      "(2, 3, 4)\n",
      "-------------------------------------------\n",
      "[[[1. 1. 1. 1.]\n",
      "  [1. 1. 1. 1.]\n",
      "  [1. 1. 1. 1.]]\n",
      "\n",
      " [[1. 1. 1. 1.]\n",
      "  [1. 1. 1. 1.]\n",
      "  [1. 1. 1. 1.]]]\n",
      "(2, 3, 4)\n",
      "-------------------------------------------\n",
      "[[[1. 1. 1. 1.]\n",
      "  [1. 1. 1. 1.]]\n",
      "\n",
      " [[1. 1. 1. 1.]\n",
      "  [1. 1. 1. 1.]]\n",
      "\n",
      " [[1. 1. 1. 1.]\n",
      "  [1. 1. 1. 1.]]]\n",
      "(3, 2, 4)\n",
      "-------------------------------------------\n",
      "[[[1. 1.]\n",
      "  [1. 1.]\n",
      "  [1. 1.]\n",
      "  [1. 1.]]\n",
      "\n",
      " [[1. 1.]\n",
      "  [1. 1.]\n",
      "  [1. 1.]\n",
      "  [1. 1.]]\n",
      "\n",
      " [[1. 1.]\n",
      "  [1. 1.]\n",
      "  [1. 1.]\n",
      "  [1. 1.]]]\n",
      "(3, 4, 2)\n"
     ]
    }
   ],
   "source": [
    "##### stack()\n",
    "# axis = 새로운 축을 세울 위치\n",
    "\n",
    "arr1 = np.ones((3, 4))\n",
    "arr2 = np.ones((3, 4))\n",
    "\n",
    "arr3 = np.stack([arr1, arr2])\n",
    "print(arr3)\n",
    "print(arr3.shape)\n",
    "\n",
    "print(\"-------------------------------------------\")\n",
    "\n",
    "arr3 = np.stack([arr1, arr2], axis=0)\n",
    "print(arr3)\n",
    "print(arr3.shape)\n",
    "\n",
    "print(\"-------------------------------------------\")\n",
    "\n",
    "arr3 = np.stack([arr1, arr2], axis=1)\n",
    "print(arr3)\n",
    "print(arr3.shape)\n",
    "\n",
    "print(\"-------------------------------------------\")\n",
    "\n",
    "arr3 = np.stack([arr1, arr2], axis=2)\n",
    "print(arr3)\n",
    "print(arr3.shape)"
   ]
  },
  {
   "cell_type": "code",
   "execution_count": 143,
   "id": "103e21a4",
   "metadata": {},
   "outputs": [
    {
     "name": "stdout",
     "output_type": "stream",
     "text": [
      "[[0 1 2 0 1 2]\n",
      " [3 4 5 3 4 5]]\n",
      "-------------------------------\n",
      "[[0 1 2 0 1 2]\n",
      " [3 4 5 3 4 5]\n",
      " [0 1 2 0 1 2]\n",
      " [3 4 5 3 4 5]\n",
      " [0 1 2 0 1 2]\n",
      " [3 4 5 3 4 5]]\n"
     ]
    }
   ],
   "source": [
    "##### tile()\n",
    "\n",
    "arr = np.array([[0, 1, 2], [3, 4, 5]])\n",
    "\n",
    "print(np.tile(arr, 2))\n",
    "\n",
    "print(\"-------------------------------\")\n",
    "\n",
    "print(np.tile(arr, (3, 2)))"
   ]
  },
  {
   "cell_type": "markdown",
   "id": "c9eed27f",
   "metadata": {},
   "source": [
    "## 12. 2차원 그리드 포인트 생성 : meshgrid()"
   ]
  },
  {
   "cell_type": "code",
   "execution_count": 144,
   "id": "f261241b",
   "metadata": {},
   "outputs": [
    {
     "data": {
      "text/plain": [
       "array([0, 1, 2])"
      ]
     },
     "execution_count": 144,
     "metadata": {},
     "output_type": "execute_result"
    }
   ],
   "source": [
    "x = np.arange(3)\n",
    "x"
   ]
  },
  {
   "cell_type": "code",
   "execution_count": 145,
   "id": "0e45db28",
   "metadata": {},
   "outputs": [
    {
     "data": {
      "text/plain": [
       "array([0, 1, 2, 3, 4])"
      ]
     },
     "execution_count": 145,
     "metadata": {},
     "output_type": "execute_result"
    }
   ],
   "source": [
    "y = np.arange(5)\n",
    "y"
   ]
  },
  {
   "cell_type": "code",
   "execution_count": 147,
   "id": "a5e084e5",
   "metadata": {},
   "outputs": [
    {
     "name": "stdout",
     "output_type": "stream",
     "text": [
      "[[0 1 2]\n",
      " [0 1 2]\n",
      " [0 1 2]\n",
      " [0 1 2]\n",
      " [0 1 2]]\n",
      "--------------------\n",
      "[[0 0 0]\n",
      " [1 1 1]\n",
      " [2 2 2]\n",
      " [3 3 3]\n",
      " [4 4 4]]\n"
     ]
    }
   ],
   "source": [
    "X, Y = np.meshgrid(x, y)\n",
    "print(X)\n",
    "print(\"--------------------\")\n",
    "print(Y)"
   ]
  },
  {
   "cell_type": "code",
   "execution_count": 148,
   "id": "ee5136ea",
   "metadata": {},
   "outputs": [
    {
     "name": "stderr",
     "output_type": "stream",
     "text": [
      "Matplotlib is building the font cache; this may take a moment.\n"
     ]
    },
    {
     "data": {
      "text/plain": [
       "<matplotlib.collections.PathCollection at 0x1f87ada0700>"
      ]
     },
     "execution_count": 148,
     "metadata": {},
     "output_type": "execute_result"
    },
    {
     "data": {
      "image/png": "[encoded data removed]",
      "text/plain": [
       "<Figure size 432x288 with 1 Axes>"
      ]
     },
     "metadata": {
      "needs_background": "light"
     },
     "output_type": "display_data"
    }
   ],
   "source": [
    "import matplotlib.pylab as plt\n",
    "plt.scatter(X, Y)"
   ]
  },
  {
   "cell_type": "markdown",
   "id": "5041f491",
   "metadata": {},
   "source": [
    "## 13. BroadCasting\n",
    "\n",
    "+ 크기가 서로 다른 행렬(벡터)끼리 연산을 가능하게 하는 것"
   ]
  },
  {
   "cell_type": "code",
   "execution_count": 159,
   "id": "bdba099e",
   "metadata": {},
   "outputs": [
    {
     "name": "stdout",
     "output_type": "stream",
     "text": [
      "[[0 1 2]\n",
      " [1 2 3]\n",
      " [2 3 4]\n",
      " [3 4 5]\n",
      " [4 5 6]]\n",
      "[[0]\n",
      " [1]\n",
      " [2]\n",
      " [3]\n",
      " [4]]\n",
      "[[ 0  1  2]\n",
      " [ 2  3  4]\n",
      " [ 4  5  6]\n",
      " [ 6  7  8]\n",
      " [ 8  9 10]]\n",
      "--------------------------------\n",
      "[[0 2 4]\n",
      " [1 3 5]\n",
      " [2 4 6]\n",
      " [3 5 7]\n",
      " [4 6 8]]\n"
     ]
    }
   ],
   "source": [
    "x = np.vstack([range(7)[i:i+3] for i in range(5)])\n",
    "print(x)\n",
    "\n",
    "y = np.arange(5)[:, np.newaxis]\n",
    "print(y)\n",
    "\n",
    "print(x + y)\n",
    "\n",
    "print(\"--------------------------------\")\n",
    "\n",
    "y = np.arange(3)\n",
    "\n",
    "print(x + y)"
   ]
  },
  {
   "cell_type": "markdown",
   "id": "ec4ac3fa",
   "metadata": {},
   "source": [
    "## 14. 차원 축소(dimension reduction) 연산\n",
    "\n",
    "+ 최대값 / 최소값 : max(), min(), argmax(), argmin()\n",
    "+ 대표값 : sum(), mean(), median(), std(), var()\n",
    "+ 논리값 : all(), any()\n",
    "\n",
    "---\n",
    "행렬의 하나의 행에 있는 원소들을 하나의 데이터 집합으로 보고 그 집합의 평균을 구하면 각 행에 대해 하나의 숫자가 나오게 된다. 이러한 연산을 차원 축소 연산이라고 한다."
   ]
  },
  {
   "cell_type": "code",
   "execution_count": 161,
   "id": "e72a0c5a",
   "metadata": {},
   "outputs": [
    {
     "name": "stdout",
     "output_type": "stream",
     "text": [
      "3\n",
      "-----------------------\n",
      "1\n"
     ]
    }
   ],
   "source": [
    "x = np.array([1, 3, 2, -3])\n",
    "\n",
    "result = np.argmin(x)\n",
    "print(result)\n",
    "\n",
    "print(\"-----------------------\")\n",
    "\n",
    "result = np.argmax(x)\n",
    "print(result)"
   ]
  },
  {
   "cell_type": "markdown",
   "id": "716cca40",
   "metadata": {},
   "source": [
    "## 15. 기술 통계\n",
    "\n",
    "+ len()\n",
    "+ sum(), mean()\n",
    "+ var(), std()\n",
    "+ max(), min()\n",
    "+ median()\n",
    "+ percentile()\n",
    "+ ..."
   ]
  },
  {
   "cell_type": "code",
   "execution_count": 162,
   "id": "9ade86eb",
   "metadata": {},
   "outputs": [
    {
     "data": {
      "text/plain": [
       "DescribeResult(nobs=20, minmax=(-3.0433882007271458, 2.0883064854329465), mean=0.3172176839446842, variance=1.3598227476512237, skewness=-0.9914755559179309, kurtosis=1.6188169921125253)"
      ]
     },
     "execution_count": 162,
     "metadata": {},
     "output_type": "execute_result"
    }
   ],
   "source": [
    "from scipy.stats import describe\n",
    "\n",
    "x = np.random.randn(20)\n",
    "describe(x)\n",
    "\n",
    "# skewness : 왜도 (좌우 비대칭)\n",
    "# kurtosis : 첨도 (위 아래 뾰족한 정도)"
   ]
  },
  {
   "cell_type": "markdown",
   "id": "808d1b75",
   "metadata": {},
   "source": [
    "## 16. 정렬"
   ]
  },
  {
   "cell_type": "code",
   "execution_count": 165,
   "id": "912afb8c",
   "metadata": {},
   "outputs": [
    {
     "name": "stdout",
     "output_type": "stream",
     "text": [
      "[[ 3  4  5  7]\n",
      " [ 1  9 11 12]\n",
      " [ 1  2 14 15]]\n",
      "---------------------\n",
      "[[ 3  4  5  7]\n",
      " [ 1  9 11 12]\n",
      " [ 1  2 14 15]]\n",
      "---------------------\n",
      "[[ 1  3  1  7]\n",
      " [ 2 12  5  9]\n",
      " [ 4 15 11 14]]\n"
     ]
    }
   ],
   "source": [
    "arr = np.array([[4, 3, 5, 7],\n",
    "               [1, 12, 11, 9],\n",
    "               [2, 15, 1, 14]])\n",
    "\n",
    "print(np.sort(arr))\n",
    "print(\"---------------------\")\n",
    "print(np.sort(arr, axis=1))\n",
    "print(\"---------------------\")\n",
    "print(np.sort(arr, axis=0))"
   ]
  },
  {
   "cell_type": "code",
   "execution_count": 166,
   "id": "68ee2330",
   "metadata": {},
   "outputs": [
    {
     "name": "stdout",
     "output_type": "stream",
     "text": [
      "[[ 4  3  5  7]\n",
      " [ 1 12 11  9]\n",
      " [ 2 15  1 14]]\n"
     ]
    }
   ],
   "source": [
    "print(arr)\n",
    "\n",
    "# 원본에 적용\n",
    "arr = np.sort(arr)\n",
    "\n",
    "# 또는\n",
    "arr.sort()"
   ]
  },
  {
   "cell_type": "code",
   "execution_count": 170,
   "id": "3d6e6cc7",
   "metadata": {},
   "outputs": [
    {
     "name": "stdout",
     "output_type": "stream",
     "text": [
      "[2 3 1 0]\n",
      "[12 25 38 42]\n"
     ]
    }
   ],
   "source": [
    "##### argsort\n",
    "\n",
    "arr = np.array([42, 38, 12, 25])\n",
    "idx = np.argsort(arr)\n",
    "print(idx)\n",
    "\n",
    "print(arr[idx])"
   ]
  },
  {
   "cell_type": "code",
   "execution_count": 178,
   "id": "9441b4b9",
   "metadata": {},
   "outputs": [
    {
     "name": "stdout",
     "output_type": "stream",
     "text": [
      "[42 38 25 12]\n",
      "[42 38 25 12]\n"
     ]
    }
   ],
   "source": [
    "##### 내림 차순\n",
    "\n",
    "print(np.sort(arr)[::-1])\n",
    "\n",
    "# 또는\n",
    "print(arr[np.argsort(-arr)])"
   ]
  },
  {
   "cell_type": "code",
   "execution_count": 177,
   "id": "9dab6aa0",
   "metadata": {},
   "outputs": [
    {
     "name": "stdout",
     "output_type": "stream",
     "text": [
      "[0, 1, 2, 3, 4, 5, 6, 7, 8, 9]\n",
      "[0, 2, 4, 6, 8]\n",
      "[9, 8, 7, 6, 5, 4, 3, 2, 1, 0]\n",
      "[9, 7, 5, 3, 1]\n"
     ]
    }
   ],
   "source": [
    "# 슬라이스 : 배열[시작위치 : 끝위치 : 간격]\n",
    "\n",
    "ex = range(10)\n",
    "list(ex)\n",
    "\n",
    "print(list(ex[::1]))\n",
    "print(list(ex[::2]))\n",
    "print(list(ex[::-1]))\n",
    "print(list(ex[::-2]))"
   ]
  },
  {
   "cell_type": "markdown",
   "id": "e73c68ec",
   "metadata": {},
   "source": [
    "## 17. 난수\n",
    "\n",
    "+ rand() : 0 ~ 1 사이의 균일분포\n",
    "+ randn() : 표준 정규 분포\n",
    "+ randint() : 균일분포의 정수"
   ]
  },
  {
   "cell_type": "code",
   "execution_count": 3,
   "id": "87a5d5e7",
   "metadata": {},
   "outputs": [
    {
     "name": "stdout",
     "output_type": "stream",
     "text": [
      "[0.68027336 0.09941    0.94936902 0.21840859 0.70880249 0.85380079\n",
      " 0.13048144 0.2833979  0.63015789 0.39340082]\n",
      "---------------------------------------\n",
      "[[0.02950635 0.96290502 0.62542777 0.52269931 0.38500577]\n",
      " [0.95068302 0.83775215 0.9173476  0.96216534 0.71958199]\n",
      " [0.54611062 0.67484357 0.72186059 0.30373112 0.26442128]]\n"
     ]
    }
   ],
   "source": [
    "print(np.random.rand(10))\n",
    "print(\"---------------------------------------\")\n",
    "print(np.random.rand(3, 5))"
   ]
  },
  {
   "cell_type": "code",
   "execution_count": 15,
   "id": "e8cddada",
   "metadata": {},
   "outputs": [
    {
     "name": "stdout",
     "output_type": "stream",
     "text": [
      "6\n",
      "---------------------------------------\n",
      "18\n",
      "---------------------------------------\n",
      "[19 16 12 19 17 16 15 12 16 12 16 13 14 15 19 17 18 17 12 14 12 14 12 14\n",
      " 19 16 17 19 13 13 18 17 13 14 18 17 13 12 19 16 16 17 15 18 12 12 14 17\n",
      " 13 18 17 12 11 17 15 19 18 18 14 17 16 17 19 15 12 14 18 14 18 18 15 14\n",
      " 14 14 15 14 15 17 17 17 16 18 14 16 11 17 16 18 11 11 12 16 13 11 11 17\n",
      " 15 14 17 16]\n",
      "---------------------------------------\n",
      "[[17 13 13 15]\n",
      " [14 16 18 15]\n",
      " [19 19 18 14]]\n"
     ]
    }
   ],
   "source": [
    "print(np.random.randint(10)) # 0~9까지 사이의 난수 1개\n",
    "print(\"---------------------------------------\")\n",
    "print(np.random.randint(11, 20))\n",
    "print(\"---------------------------------------\")\n",
    "print(np.random.randint(11, 20, size=100))\n",
    "print(\"---------------------------------------\")\n",
    "print(np.random.randint(11, 20, size=(3, 4)))"
   ]
  },
  {
   "cell_type": "code",
   "execution_count": 24,
   "id": "1b8ab8da",
   "metadata": {},
   "outputs": [
    {
     "data": {
      "text/plain": [
       "array([0.54340494, 0.27836939])"
      ]
     },
     "execution_count": 24,
     "metadata": {},
     "output_type": "execute_result"
    }
   ],
   "source": [
    "##### 재현성(난수 고정)\n",
    "\n",
    "np.random.seed(100)\n",
    "\n",
    "np.random.rand(2)"
   ]
  },
  {
   "cell_type": "code",
   "execution_count": 29,
   "id": "3db3f7c8",
   "metadata": {},
   "outputs": [
    {
     "name": "stdout",
     "output_type": "stream",
     "text": [
      "[0 1 2 3 4 5 6 7 8 9]\n",
      "[0 2 1 6 9 8 7 4 3 5]\n"
     ]
    }
   ],
   "source": [
    "##### 데이터의 순서 바꾸기\n",
    "\n",
    "x = np.arange(10)\n",
    "print(x)\n",
    "\n",
    "np.random.shuffle(x)\n",
    "print(x)"
   ]
  },
  {
   "cell_type": "code",
   "execution_count": 44,
   "id": "07ebdaf8",
   "metadata": {},
   "outputs": [
    {
     "name": "stdout",
     "output_type": "stream",
     "text": [
      "[3 2 1 4 4 1 4]\n",
      "--------------------------------------\n",
      "[4 1 0 2 3]\n",
      "--------------------------------------\n",
      "[2 3 3 2 2 3 2 3 3 3]\n"
     ]
    }
   ],
   "source": [
    "##### 샘플링 : 복원(default), 비복원\n",
    "\n",
    "print(np.random.choice(5, 7)) # 0~4까지의 숫자 중에서 7번 추출(복원 추출)\n",
    "print(\"--------------------------------------\")\n",
    "print(np.random.choice(5, 5, replace=False)) \n",
    "print(\"--------------------------------------\")\n",
    "print(np.random.choice(5, 10, p=[0.1, 0, 0.3, 0.6, 0]))"
   ]
  },
  {
   "cell_type": "markdown",
   "id": "a2491a18",
   "metadata": {},
   "source": [
    "## 18. 정수형 데이터 카운팅 : unique(), bincount()"
   ]
  },
  {
   "cell_type": "code",
   "execution_count": 48,
   "id": "14686699",
   "metadata": {},
   "outputs": [
    {
     "name": "stdout",
     "output_type": "stream",
     "text": [
      "5\n",
      "['a' 'b' 'c']\n",
      "3\n",
      "-------------------------------------------\n",
      "['a' 'b' 'c'] [2 2 1]\n"
     ]
    }
   ],
   "source": [
    "##### unique\n",
    "\n",
    "arr = np.array(['a', 'b', 'b', 'c', 'a'])\n",
    "\n",
    "print(len(arr))\n",
    "print(np.unique(arr))\n",
    "print(len(np.unique(arr)))\n",
    "\n",
    "print(\"-------------------------------------------\")\n",
    "\n",
    "idx, cnt = np.unique(arr, return_counts=True)\n",
    "print(idx, cnt)\n"
   ]
  },
  {
   "cell_type": "code",
   "execution_count": 50,
   "id": "41ff4556",
   "metadata": {},
   "outputs": [
    {
     "name": "stdout",
     "output_type": "stream",
     "text": [
      "(array([1, 2, 3]), array([2, 3, 1], dtype=int64))\n",
      "[0 2 3 1 0 0]\n"
     ]
    }
   ],
   "source": [
    "##### bincount : 발생하지 않은 사건에 대해서도 카운팅\n",
    "\n",
    "arr = np.array([1, 1, 2, 2, 2, 3])\n",
    "\n",
    "print(np.unique(arr, return_counts=True))\n",
    "print(np.bincount(arr, minlength=6))"
   ]
  },
  {
   "cell_type": "markdown",
   "id": "5eef6392",
   "metadata": {},
   "source": [
    "## 실습 : 영화 평점 데이터\n",
    "\n",
    "+ https://grouplens.org/datasets/movielens/\n",
    "    - Older Dataset에서 MovieLens 1M DataSet 받기 : ml-1m.zip"
   ]
  },
  {
   "cell_type": "code",
   "execution_count": 51,
   "id": "351dec4a",
   "metadata": {},
   "outputs": [],
   "source": [
    "data = np.loadtxt(\"data/ml-1m/ratings.dat\", delimiter=\"::\", dtype=np.int64)"
   ]
  },
  {
   "cell_type": "code",
   "execution_count": 53,
   "id": "95b369b4",
   "metadata": {},
   "outputs": [
    {
     "name": "stdout",
     "output_type": "stream",
     "text": [
      "[[        1      1193         5 978300760]\n",
      " [        1       661         3 978302109]\n",
      " [        1       914         3 978301968]\n",
      " ...\n",
      " [     6040       562         5 956704746]\n",
      " [     6040      1096         4 956715648]\n",
      " [     6040      1097         4 956715569]]\n",
      "(1000209, 4)\n"
     ]
    }
   ],
   "source": [
    "print(data)\n",
    "print(data.shape)"
   ]
  },
  {
   "cell_type": "code",
   "execution_count": 54,
   "id": "7b699b90",
   "metadata": {},
   "outputs": [],
   "source": [
    "# 첫행부터 20행까지 출력\n"
   ]
  },
  {
   "cell_type": "code",
   "execution_count": 55,
   "id": "534dd9d9",
   "metadata": {},
   "outputs": [],
   "source": [
    "# 21행부터 30행까지 userid와  movieid만 출력"
   ]
  },
  {
   "cell_type": "code",
   "execution_count": 56,
   "id": "c99a84bf",
   "metadata": {},
   "outputs": [],
   "source": [
    "# 전체 평점에 대한 평균"
   ]
  },
  {
   "cell_type": "code",
   "execution_count": 57,
   "id": "d1d5a731",
   "metadata": {},
   "outputs": [],
   "source": [
    "# 사용자별로 평점 평균(10명 출력)"
   ]
  },
  {
   "cell_type": "code",
   "execution_count": null,
   "id": "ad182697",
   "metadata": {},
   "outputs": [],
   "source": [
    "# 위의 결과 중 최고 평점 평균을 구하기(userid와 함께)"
   ]
  }
 ],
 "metadata": {
  "kernelspec": {
   "display_name": "Python 3",
   "language": "python",
   "name": "python3"
  },
  "language_info": {
   "codemirror_mode": {
    "name": "ipython",
    "version": 3
   },
   "file_extension": ".py",
   "mimetype": "text/x-python",
   "name": "python",
   "nbconvert_exporter": "python",
   "pygments_lexer": "ipython3",
   "version": "3.8.8"
  }
 },
 "nbformat": 4,
 "nbformat_minor": 5
}
