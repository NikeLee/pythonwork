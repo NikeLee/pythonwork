{
 "cells": [
  {
   "cell_type": "code",
   "execution_count": 1,
   "id": "bdc01dda",
   "metadata": {},
   "outputs": [],
   "source": [
    "import numpy as np\n",
    "import pandas as pd\n",
    "import matplotlib.pyplot as plt\n",
    "import seaborn as sns\n",
    "\n",
    "import warnings\n",
    "warnings.filterwarnings(action=\"ignore\")\n",
    "\n",
    "import matplotlib.font_manager as fm\n",
    "font_name = fm.FontProperties(fname=\"C:/Windows/Fonts/malgun.ttf\").get_name()\n",
    "plt.rc(\"font\", family=font_name)\n",
    "\n",
    "import matplotlib as mpl\n",
    "mpl.rcParams[\"axes.unicode_minus\"] = False\n",
    "\n",
    "import urllib.request as req\n",
    "from urllib.request import urlopen\n",
    "from urllib.error import HTTPError, URLError\n",
    "import urllib.parse\n",
    "from bs4 import BeautifulSoup\n",
    "import requests"
   ]
  },
  {
   "cell_type": "markdown",
   "id": "02d45081",
   "metadata": {},
   "source": [
    "# Selenium\n",
    "\n",
    "+ Chrome Driver 또는 PhantomJS\n",
    "    - 구글에서 \"chrome driver\"로 검색하여 현재 버전에 맞는 프로그램을 다운로드\n",
    "  \n",
    "  \n",
    "+ pip install selenium"
   ]
  },
  {
   "cell_type": "code",
   "execution_count": 2,
   "id": "ba448a19",
   "metadata": {},
   "outputs": [],
   "source": [
    "from selenium import webdriver"
   ]
  },
  {
   "cell_type": "code",
   "execution_count": 5,
   "id": "dc48261e",
   "metadata": {},
   "outputs": [],
   "source": [
    "driver = webdriver.Chrome(\"C:/netsong7/download/chromedriver.exe\")\n",
    "driver.get(\"https://www.naver.com\")"
   ]
  },
  {
   "cell_type": "code",
   "execution_count": 6,
   "id": "91b91016",
   "metadata": {},
   "outputs": [
    {
     "data": {
      "text/plain": [
       "True"
      ]
     },
     "execution_count": 6,
     "metadata": {},
     "output_type": "execute_result"
    }
   ],
   "source": [
    "driver.save_screenshot(\"data/001.png\")"
   ]
  },
  {
   "cell_type": "code",
   "execution_count": 7,
   "id": "5aad290c",
   "metadata": {},
   "outputs": [],
   "source": [
    "driver.close()"
   ]
  },
  {
   "cell_type": "code",
   "execution_count": 9,
   "id": "8cdda101",
   "metadata": {},
   "outputs": [],
   "source": [
    "driver = webdriver.Chrome(\"C:/netsong7/download/chromedriver.exe\")\n",
    "driver.get(\"https://logins.daum.net/accounts/signinform.do?url=https%3A%2F%2Fwww.daum.net%2F\")"
   ]
  },
  {
   "cell_type": "code",
   "execution_count": 14,
   "id": "15c4ea88",
   "metadata": {},
   "outputs": [],
   "source": [
    "elem_login = driver.find_element_by_id(\"id\")\n",
    "elem_login.clear()\n",
    "elem_login.send_keys(\"whitejeongwoo\")\n",
    "\n",
    "elem_pwd = driver.find_element_by_id(\"inputPwd\")\n",
    "elem_pwd.clear()\n",
    "elem_pwd.send_keys(\"xxx\")\n",
    "\n",
    "xpath = \"\"\"//*[@id=\"loginBtn\"]\"\"\"\n",
    "driver.find_element_by_xpath(xpath).click()"
   ]
  },
  {
   "cell_type": "code",
   "execution_count": 15,
   "id": "0235797d",
   "metadata": {},
   "outputs": [],
   "source": [
    "driver.close()"
   ]
  },
  {
   "cell_type": "markdown",
   "id": "1c6e1ab0",
   "metadata": {},
   "source": [
    "---\n",
    "# 셀프 주유소는 과연 저렴한가?\n",
    "\n",
    "+ 실제 셀프 주유소가 저렴한지에 대한 팩트 체크\n",
    "+ 가장 싼 주유소는 어디인가?\n",
    "+ http://www.opinet.co.kr"
   ]
  },
  {
   "cell_type": "markdown",
   "id": "c2f45d34",
   "metadata": {},
   "source": [
    "### 1. 서울시 구별 주유소 가격 정보 가져오기"
   ]
  },
  {
   "cell_type": "markdown",
   "id": "8b794d0e",
   "metadata": {},
   "source": [
    "#### (1) Sample Code"
   ]
  },
  {
   "cell_type": "code",
   "execution_count": 4,
   "id": "0087c69d",
   "metadata": {},
   "outputs": [],
   "source": [
    "driver = webdriver.Chrome(\"C:/netsong7/download/chromedriver.exe\")\n",
    "driver.get(\"https://www.opinet.co.kr/searRgSelect.do\")"
   ]
  },
  {
   "cell_type": "code",
   "execution_count": 5,
   "id": "019e54fc",
   "metadata": {
    "collapsed": true
   },
   "outputs": [
    {
     "data": {
      "text/plain": [
       "['서울특별시',\n",
       " '부산광역시',\n",
       " '대구광역시',\n",
       " '인천광역시',\n",
       " '광주광역시',\n",
       " '대전광역시',\n",
       " '울산광역시',\n",
       " '세종특별자치시',\n",
       " '경기도',\n",
       " '강원도',\n",
       " '충청북도',\n",
       " '충청남도',\n",
       " '전라북도',\n",
       " '전라남도',\n",
       " '경상북도',\n",
       " '경상남도',\n",
       " '제주특별자치도']"
      ]
     },
     "execution_count": 5,
     "metadata": {},
     "output_type": "execute_result"
    }
   ],
   "source": [
    "##### 시 목록 가져오기\n",
    "\n",
    "si_list_raw = driver.find_element_by_xpath(\"\"\"//*[@id=\"SIDO_NM0\"]\"\"\")\n",
    "si_list = si_list_raw.find_elements_by_tag_name(\"option\")\n",
    "si_list\n",
    "si_list[1].get_attribute(\"value\")\n",
    "\n",
    "si_names = [option.get_attribute(\"value\") for option in si_list]\n",
    "si_names.remove(\"\")\n",
    "si_names"
   ]
  },
  {
   "cell_type": "code",
   "execution_count": 6,
   "id": "32072935",
   "metadata": {},
   "outputs": [],
   "source": [
    "##### 시 선택하기\n",
    "element = driver.find_element_by_id(\"SIDO_NM0\")\n",
    "element.send_keys(si_names[0])"
   ]
  },
  {
   "cell_type": "code",
   "execution_count": 7,
   "id": "7d3d1b10",
   "metadata": {},
   "outputs": [
    {
     "data": {
      "text/plain": [
       "['강남구',\n",
       " '강동구',\n",
       " '강북구',\n",
       " '강서구',\n",
       " '관악구',\n",
       " '광진구',\n",
       " '구로구',\n",
       " '금천구',\n",
       " '노원구',\n",
       " '도봉구',\n",
       " '동대문구',\n",
       " '동작구',\n",
       " '마포구',\n",
       " '서대문구',\n",
       " '서초구',\n",
       " '성동구',\n",
       " '성북구',\n",
       " '송파구',\n",
       " '양천구',\n",
       " '영등포구',\n",
       " '용산구',\n",
       " '은평구',\n",
       " '종로구',\n",
       " '중구',\n",
       " '중랑구']"
      ]
     },
     "execution_count": 7,
     "metadata": {},
     "output_type": "execute_result"
    }
   ],
   "source": [
    "##### 구 목록 가져오기\n",
    "\n",
    "gu_list_raw = driver.find_element_by_xpath(\"\"\"//*[@id=\"SIGUNGU_NM0\"]\"\"\")\n",
    "gu_list = gu_list_raw.find_elements_by_tag_name(\"option\")\n",
    "gu_list\n",
    "gu_list[1].get_attribute(\"value\")\n",
    "\n",
    "gu_names = [option.get_attribute(\"value\") for option in gu_list]\n",
    "gu_names.remove(\"\")\n",
    "gu_names"
   ]
  },
  {
   "cell_type": "code",
   "execution_count": 40,
   "id": "83b9fdab",
   "metadata": {},
   "outputs": [],
   "source": [
    "##### 구 선택하기\n",
    "\n",
    "element = driver.find_element_by_id(\"SIGUNGU_NM0\")\n",
    "element.send_keys(gu_names[11])"
   ]
  },
  {
   "cell_type": "code",
   "execution_count": 41,
   "id": "0cefeaf2",
   "metadata": {},
   "outputs": [],
   "source": [
    "##### 조회 버튼 누르기\n",
    "\n",
    "driver.find_element_by_xpath(\"\"\"//*[@id=\"searRgSelect\"]/span\"\"\").click()"
   ]
  },
  {
   "cell_type": "code",
   "execution_count": 42,
   "id": "a2f79b03",
   "metadata": {},
   "outputs": [],
   "source": [
    "##### 엑셀 저장 버튼 누르기\n",
    "# C:\\Users\\acorn\\Downloads\n",
    "\n",
    "driver.find_element_by_xpath(\"\"\"//*[@id=\"glopopd_excel\"]/span\"\"\").click()"
   ]
  },
  {
   "cell_type": "markdown",
   "id": "663a33e6",
   "metadata": {},
   "source": [
    "#### (2) 지역별(구 별)로 주유소 정보를 엑셀파일로 저장"
   ]
  },
  {
   "cell_type": "code",
   "execution_count": 3,
   "id": "687a034e",
   "metadata": {},
   "outputs": [],
   "source": [
    "from tqdm import tqdm_notebook\n",
    "import time"
   ]
  },
  {
   "cell_type": "code",
   "execution_count": 9,
   "id": "a8beee6b",
   "metadata": {
    "collapsed": true
   },
   "outputs": [
    {
     "data": {
      "application/vnd.jupyter.widget-view+json": {
       "model_id": "03577138e9144045a6b43b36dd8d68c7",
       "version_major": 2,
       "version_minor": 0
      },
      "text/plain": [
       "  0%|          | 0/25 [00:00<?, ?it/s]"
      ]
     },
     "metadata": {},
     "output_type": "display_data"
    },
    {
     "ename": "ElementClickInterceptedException",
     "evalue": "Message: element click intercepted: Element <span>...</span> is not clickable at point (286, 803). Other element would receive the click: <div id=\"mpopup_bg\" style=\"position: absolute; z-index: 32001; top: 0px; left: 0px; width: 100%; height: 948px; margin: 0px; padding: 0px; border: 0px solid black; display: block;\">...</div>\n  (Session info: chrome=95.0.4638.69)\nStacktrace:\nBacktrace:\n\tOrdinal0 [0x004A0C43+2493507]\n\tOrdinal0 [0x0043A4B1+2073777]\n\tOrdinal0 [0x00342608+1058312]\n\tOrdinal0 [0x00372B39+1256249]\n\tOrdinal0 [0x00370E78+1248888]\n\tOrdinal0 [0x0036EC4D+1240141]\n\tOrdinal0 [0x0036DA98+1235608]\n\tOrdinal0 [0x00363787+1193863]\n\tOrdinal0 [0x00385943+1333571]\n\tOrdinal0 [0x003635A6+1193382]\n\tOrdinal0 [0x00385A2A+1333802]\n\tOrdinal0 [0x00395038+1396792]\n\tOrdinal0 [0x0038580B+1333259]\n\tOrdinal0 [0x00362314+1188628]\n\tOrdinal0 [0x0036316F+1192303]\n\tGetHandleVerifier [0x00627BF6+1548950]\n\tGetHandleVerifier [0x006D461C+2256060]\n\tGetHandleVerifier [0x0052C13B+518107]\n\tGetHandleVerifier [0x0052B1E0+514176]\n\tOrdinal0 [0x0043F53D+2094397]\n\tOrdinal0 [0x00443418+2110488]\n\tOrdinal0 [0x00443552+2110802]\n\tOrdinal0 [0x0044CE81+2150017]\n\tBaseThreadInitThunk [0x773BFA29+25]\n\tRtlGetAppContainerNamedObjectPath [0x77967A9E+286]\n\tRtlGetAppContainerNamedObjectPath [0x77967A6E+238]\n",
     "output_type": "error",
     "traceback": [
      "\u001b[1;31m---------------------------------------------------------------------------\u001b[0m",
      "\u001b[1;31mElementClickInterceptedException\u001b[0m          Traceback (most recent call last)",
      "\u001b[1;32m<ipython-input-9-1f1d7c5769d5>\u001b[0m in \u001b[0;36m<module>\u001b[1;34m\u001b[0m\n\u001b[0;32m      9\u001b[0m     \u001b[0mtime\u001b[0m\u001b[1;33m.\u001b[0m\u001b[0msleep\u001b[0m\u001b[1;33m(\u001b[0m\u001b[1;36m1\u001b[0m\u001b[1;33m)\u001b[0m\u001b[1;33m\u001b[0m\u001b[1;33m\u001b[0m\u001b[0m\n\u001b[0;32m     10\u001b[0m \u001b[1;33m\u001b[0m\u001b[0m\n\u001b[1;32m---> 11\u001b[1;33m     \u001b[0mdriver\u001b[0m\u001b[1;33m.\u001b[0m\u001b[0mfind_element_by_xpath\u001b[0m\u001b[1;33m(\u001b[0m\u001b[1;34m\"\"\"//*[@id=\"glopopd_excel\"]/span\"\"\"\u001b[0m\u001b[1;33m)\u001b[0m\u001b[1;33m.\u001b[0m\u001b[0mclick\u001b[0m\u001b[1;33m(\u001b[0m\u001b[1;33m)\u001b[0m\u001b[1;33m\u001b[0m\u001b[1;33m\u001b[0m\u001b[0m\n\u001b[0m\u001b[0;32m     12\u001b[0m \u001b[1;33m\u001b[0m\u001b[0m\n\u001b[0;32m     13\u001b[0m     \u001b[0mtime\u001b[0m\u001b[1;33m.\u001b[0m\u001b[0msleep\u001b[0m\u001b[1;33m(\u001b[0m\u001b[1;36m1\u001b[0m\u001b[1;33m)\u001b[0m\u001b[1;33m\u001b[0m\u001b[1;33m\u001b[0m\u001b[0m\n",
      "\u001b[1;32m~\\Anaconda3\\lib\\site-packages\\selenium\\webdriver\\remote\\webelement.py\u001b[0m in \u001b[0;36mclick\u001b[1;34m(self)\u001b[0m\n\u001b[0;32m     78\u001b[0m     \u001b[1;32mdef\u001b[0m \u001b[0mclick\u001b[0m\u001b[1;33m(\u001b[0m\u001b[0mself\u001b[0m\u001b[1;33m)\u001b[0m \u001b[1;33m->\u001b[0m \u001b[1;32mNone\u001b[0m\u001b[1;33m:\u001b[0m\u001b[1;33m\u001b[0m\u001b[1;33m\u001b[0m\u001b[0m\n\u001b[0;32m     79\u001b[0m         \u001b[1;34m\"\"\"Clicks the element.\"\"\"\u001b[0m\u001b[1;33m\u001b[0m\u001b[1;33m\u001b[0m\u001b[0m\n\u001b[1;32m---> 80\u001b[1;33m         \u001b[0mself\u001b[0m\u001b[1;33m.\u001b[0m\u001b[0m_execute\u001b[0m\u001b[1;33m(\u001b[0m\u001b[0mCommand\u001b[0m\u001b[1;33m.\u001b[0m\u001b[0mCLICK_ELEMENT\u001b[0m\u001b[1;33m)\u001b[0m\u001b[1;33m\u001b[0m\u001b[1;33m\u001b[0m\u001b[0m\n\u001b[0m\u001b[0;32m     81\u001b[0m \u001b[1;33m\u001b[0m\u001b[0m\n\u001b[0;32m     82\u001b[0m     \u001b[1;32mdef\u001b[0m \u001b[0msubmit\u001b[0m\u001b[1;33m(\u001b[0m\u001b[0mself\u001b[0m\u001b[1;33m)\u001b[0m\u001b[1;33m:\u001b[0m\u001b[1;33m\u001b[0m\u001b[1;33m\u001b[0m\u001b[0m\n",
      "\u001b[1;32m~\\Anaconda3\\lib\\site-packages\\selenium\\webdriver\\remote\\webelement.py\u001b[0m in \u001b[0;36m_execute\u001b[1;34m(self, command, params)\u001b[0m\n\u001b[0;32m    691\u001b[0m             \u001b[0mparams\u001b[0m \u001b[1;33m=\u001b[0m \u001b[1;33m{\u001b[0m\u001b[1;33m}\u001b[0m\u001b[1;33m\u001b[0m\u001b[1;33m\u001b[0m\u001b[0m\n\u001b[0;32m    692\u001b[0m         \u001b[0mparams\u001b[0m\u001b[1;33m[\u001b[0m\u001b[1;34m'id'\u001b[0m\u001b[1;33m]\u001b[0m \u001b[1;33m=\u001b[0m \u001b[0mself\u001b[0m\u001b[1;33m.\u001b[0m\u001b[0m_id\u001b[0m\u001b[1;33m\u001b[0m\u001b[1;33m\u001b[0m\u001b[0m\n\u001b[1;32m--> 693\u001b[1;33m         \u001b[1;32mreturn\u001b[0m \u001b[0mself\u001b[0m\u001b[1;33m.\u001b[0m\u001b[0m_parent\u001b[0m\u001b[1;33m.\u001b[0m\u001b[0mexecute\u001b[0m\u001b[1;33m(\u001b[0m\u001b[0mcommand\u001b[0m\u001b[1;33m,\u001b[0m \u001b[0mparams\u001b[0m\u001b[1;33m)\u001b[0m\u001b[1;33m\u001b[0m\u001b[1;33m\u001b[0m\u001b[0m\n\u001b[0m\u001b[0;32m    694\u001b[0m \u001b[1;33m\u001b[0m\u001b[0m\n\u001b[0;32m    695\u001b[0m     \u001b[1;32mdef\u001b[0m \u001b[0mfind_element\u001b[0m\u001b[1;33m(\u001b[0m\u001b[0mself\u001b[0m\u001b[1;33m,\u001b[0m \u001b[0mby\u001b[0m\u001b[1;33m=\u001b[0m\u001b[0mBy\u001b[0m\u001b[1;33m.\u001b[0m\u001b[0mID\u001b[0m\u001b[1;33m,\u001b[0m \u001b[0mvalue\u001b[0m\u001b[1;33m=\u001b[0m\u001b[1;32mNone\u001b[0m\u001b[1;33m)\u001b[0m\u001b[1;33m:\u001b[0m\u001b[1;33m\u001b[0m\u001b[1;33m\u001b[0m\u001b[0m\n",
      "\u001b[1;32m~\\Anaconda3\\lib\\site-packages\\selenium\\webdriver\\remote\\webdriver.py\u001b[0m in \u001b[0;36mexecute\u001b[1;34m(self, driver_command, params)\u001b[0m\n\u001b[0;32m    416\u001b[0m         \u001b[0mresponse\u001b[0m \u001b[1;33m=\u001b[0m \u001b[0mself\u001b[0m\u001b[1;33m.\u001b[0m\u001b[0mcommand_executor\u001b[0m\u001b[1;33m.\u001b[0m\u001b[0mexecute\u001b[0m\u001b[1;33m(\u001b[0m\u001b[0mdriver_command\u001b[0m\u001b[1;33m,\u001b[0m \u001b[0mparams\u001b[0m\u001b[1;33m)\u001b[0m\u001b[1;33m\u001b[0m\u001b[1;33m\u001b[0m\u001b[0m\n\u001b[0;32m    417\u001b[0m         \u001b[1;32mif\u001b[0m \u001b[0mresponse\u001b[0m\u001b[1;33m:\u001b[0m\u001b[1;33m\u001b[0m\u001b[1;33m\u001b[0m\u001b[0m\n\u001b[1;32m--> 418\u001b[1;33m             \u001b[0mself\u001b[0m\u001b[1;33m.\u001b[0m\u001b[0merror_handler\u001b[0m\u001b[1;33m.\u001b[0m\u001b[0mcheck_response\u001b[0m\u001b[1;33m(\u001b[0m\u001b[0mresponse\u001b[0m\u001b[1;33m)\u001b[0m\u001b[1;33m\u001b[0m\u001b[1;33m\u001b[0m\u001b[0m\n\u001b[0m\u001b[0;32m    419\u001b[0m             response['value'] = self._unwrap_value(\n\u001b[0;32m    420\u001b[0m                 response.get('value', None))\n",
      "\u001b[1;32m~\\Anaconda3\\lib\\site-packages\\selenium\\webdriver\\remote\\errorhandler.py\u001b[0m in \u001b[0;36mcheck_response\u001b[1;34m(self, response)\u001b[0m\n\u001b[0;32m    241\u001b[0m                 \u001b[0malert_text\u001b[0m \u001b[1;33m=\u001b[0m \u001b[0mvalue\u001b[0m\u001b[1;33m[\u001b[0m\u001b[1;34m'alert'\u001b[0m\u001b[1;33m]\u001b[0m\u001b[1;33m.\u001b[0m\u001b[0mget\u001b[0m\u001b[1;33m(\u001b[0m\u001b[1;34m'text'\u001b[0m\u001b[1;33m)\u001b[0m\u001b[1;33m\u001b[0m\u001b[1;33m\u001b[0m\u001b[0m\n\u001b[0;32m    242\u001b[0m             \u001b[1;32mraise\u001b[0m \u001b[0mexception_class\u001b[0m\u001b[1;33m(\u001b[0m\u001b[0mmessage\u001b[0m\u001b[1;33m,\u001b[0m \u001b[0mscreen\u001b[0m\u001b[1;33m,\u001b[0m \u001b[0mstacktrace\u001b[0m\u001b[1;33m,\u001b[0m \u001b[0malert_text\u001b[0m\u001b[1;33m)\u001b[0m  \u001b[1;31m# type: ignore[call-arg]  # mypy is not smart enough here\u001b[0m\u001b[1;33m\u001b[0m\u001b[1;33m\u001b[0m\u001b[0m\n\u001b[1;32m--> 243\u001b[1;33m         \u001b[1;32mraise\u001b[0m \u001b[0mexception_class\u001b[0m\u001b[1;33m(\u001b[0m\u001b[0mmessage\u001b[0m\u001b[1;33m,\u001b[0m \u001b[0mscreen\u001b[0m\u001b[1;33m,\u001b[0m \u001b[0mstacktrace\u001b[0m\u001b[1;33m)\u001b[0m\u001b[1;33m\u001b[0m\u001b[1;33m\u001b[0m\u001b[0m\n\u001b[0m\u001b[0;32m    244\u001b[0m \u001b[1;33m\u001b[0m\u001b[0m\n\u001b[0;32m    245\u001b[0m     \u001b[1;32mdef\u001b[0m \u001b[0m_value_or_default\u001b[0m\u001b[1;33m(\u001b[0m\u001b[0mself\u001b[0m\u001b[1;33m,\u001b[0m \u001b[0mobj\u001b[0m\u001b[1;33m:\u001b[0m \u001b[0mMapping\u001b[0m\u001b[1;33m[\u001b[0m\u001b[0m_KT\u001b[0m\u001b[1;33m,\u001b[0m \u001b[0m_VT\u001b[0m\u001b[1;33m]\u001b[0m\u001b[1;33m,\u001b[0m \u001b[0mkey\u001b[0m\u001b[1;33m:\u001b[0m \u001b[0m_KT\u001b[0m\u001b[1;33m,\u001b[0m \u001b[0mdefault\u001b[0m\u001b[1;33m:\u001b[0m \u001b[0m_VT\u001b[0m\u001b[1;33m)\u001b[0m \u001b[1;33m->\u001b[0m \u001b[0m_VT\u001b[0m\u001b[1;33m:\u001b[0m\u001b[1;33m\u001b[0m\u001b[1;33m\u001b[0m\u001b[0m\n",
      "\u001b[1;31mElementClickInterceptedException\u001b[0m: Message: element click intercepted: Element <span>...</span> is not clickable at point (286, 803). Other element would receive the click: <div id=\"mpopup_bg\" style=\"position: absolute; z-index: 32001; top: 0px; left: 0px; width: 100%; height: 948px; margin: 0px; padding: 0px; border: 0px solid black; display: block;\">...</div>\n  (Session info: chrome=95.0.4638.69)\nStacktrace:\nBacktrace:\n\tOrdinal0 [0x004A0C43+2493507]\n\tOrdinal0 [0x0043A4B1+2073777]\n\tOrdinal0 [0x00342608+1058312]\n\tOrdinal0 [0x00372B39+1256249]\n\tOrdinal0 [0x00370E78+1248888]\n\tOrdinal0 [0x0036EC4D+1240141]\n\tOrdinal0 [0x0036DA98+1235608]\n\tOrdinal0 [0x00363787+1193863]\n\tOrdinal0 [0x00385943+1333571]\n\tOrdinal0 [0x003635A6+1193382]\n\tOrdinal0 [0x00385A2A+1333802]\n\tOrdinal0 [0x00395038+1396792]\n\tOrdinal0 [0x0038580B+1333259]\n\tOrdinal0 [0x00362314+1188628]\n\tOrdinal0 [0x0036316F+1192303]\n\tGetHandleVerifier [0x00627BF6+1548950]\n\tGetHandleVerifier [0x006D461C+2256060]\n\tGetHandleVerifier [0x0052C13B+518107]\n\tGetHandleVerifier [0x0052B1E0+514176]\n\tOrdinal0 [0x0043F53D+2094397]\n\tOrdinal0 [0x00443418+2110488]\n\tOrdinal0 [0x00443552+2110802]\n\tOrdinal0 [0x0044CE81+2150017]\n\tBaseThreadInitThunk [0x773BFA29+25]\n\tRtlGetAppContainerNamedObjectPath [0x77967A9E+286]\n\tRtlGetAppContainerNamedObjectPath [0x77967A6E+238]\n"
     ]
    }
   ],
   "source": [
    "for gu in tqdm_notebook(gu_names):\n",
    "    element = driver.find_element_by_id(\"SIGUNGU_NM0\")\n",
    "    element.send_keys(gu)\n",
    "    \n",
    "    time.sleep(1)\n",
    "    \n",
    "    driver.find_element_by_xpath(\"\"\"//*[@id=\"searRgSelect\"]/span\"\"\").click()\n",
    "    \n",
    "    time.sleep(1)\n",
    "    \n",
    "    driver.find_element_by_xpath(\"\"\"//*[@id=\"glopopd_excel\"]/span\"\"\").click()\n",
    "    \n",
    "    time.sleep(1)\n",
    "    \n",
    "driver.close()"
   ]
  },
  {
   "cell_type": "markdown",
   "id": "9c96e172",
   "metadata": {},
   "source": [
    "### 2. Data Preprocessing"
   ]
  },
  {
   "cell_type": "markdown",
   "id": "821732c2",
   "metadata": {},
   "source": [
    "#### (1) 저장된 엑셀 파일 불러오기"
   ]
  },
  {
   "cell_type": "code",
   "execution_count": 10,
   "id": "a410aaab",
   "metadata": {},
   "outputs": [],
   "source": [
    "from glob import glob"
   ]
  },
  {
   "cell_type": "code",
   "execution_count": 12,
   "id": "491367ab",
   "metadata": {},
   "outputs": [],
   "source": [
    "station_files = glob(\"data/oil/지역*.xls\")\n",
    "station_files\n",
    "\n",
    "tmp_raw = []\n",
    "for fname in station_files:\n",
    "    tmp = pd.read_excel(fname, header=2)\n",
    "    tmp_raw.append(tmp)"
   ]
  },
  {
   "cell_type": "code",
   "execution_count": 15,
   "id": "5d169208",
   "metadata": {},
   "outputs": [
    {
     "data": {
      "text/plain": [
       "25"
      ]
     },
     "execution_count": 15,
     "metadata": {},
     "output_type": "execute_result"
    }
   ],
   "source": [
    "len(tmp_raw)"
   ]
  },
  {
   "cell_type": "code",
   "execution_count": 18,
   "id": "a6940560",
   "metadata": {},
   "outputs": [
    {
     "name": "stdout",
     "output_type": "stream",
     "text": [
      "<class 'pandas.core.frame.DataFrame'>\n",
      "Int64Index: 486 entries, 0 to 38\n",
      "Data columns (total 10 columns):\n",
      " #   Column  Non-Null Count  Dtype \n",
      "---  ------  --------------  ----- \n",
      " 0   지역      486 non-null    object\n",
      " 1   상호      486 non-null    object\n",
      " 2   주소      486 non-null    object\n",
      " 3   상표      486 non-null    object\n",
      " 4   전화번호    486 non-null    object\n",
      " 5   셀프여부    486 non-null    object\n",
      " 6   고급휘발유   486 non-null    object\n",
      " 7   휘발유     486 non-null    object\n",
      " 8   경유      486 non-null    object\n",
      " 9   실내등유    486 non-null    object\n",
      "dtypes: object(10)\n",
      "memory usage: 41.8+ KB\n"
     ]
    }
   ],
   "source": [
    "##### 데이터 프레임으로 합치기\n",
    "\n",
    "station_raw = pd.concat(tmp_raw)\n",
    "station_raw.head(30)\n",
    "station_raw.info()"
   ]
  },
  {
   "cell_type": "code",
   "execution_count": 19,
   "id": "16a11fd4",
   "metadata": {
    "collapsed": true
   },
   "outputs": [
    {
     "data": {
      "text/html": [
       "<div>\n",
       "<style scoped>\n",
       "    .dataframe tbody tr th:only-of-type {\n",
       "        vertical-align: middle;\n",
       "    }\n",
       "\n",
       "    .dataframe tbody tr th {\n",
       "        vertical-align: top;\n",
       "    }\n",
       "\n",
       "    .dataframe thead th {\n",
       "        text-align: right;\n",
       "    }\n",
       "</style>\n",
       "<table border=\"1\" class=\"dataframe\">\n",
       "  <thead>\n",
       "    <tr style=\"text-align: right;\">\n",
       "      <th></th>\n",
       "      <th>Oil_store</th>\n",
       "      <th>주소</th>\n",
       "      <th>가격</th>\n",
       "      <th>셀프</th>\n",
       "      <th>상표</th>\n",
       "    </tr>\n",
       "  </thead>\n",
       "  <tbody>\n",
       "    <tr>\n",
       "      <th>0</th>\n",
       "      <td>재건에너지 재정제2주유소 고속셀프지점</td>\n",
       "      <td>서울특별시 강동구  천호대로 1246 (둔촌제2동)</td>\n",
       "      <td>1549</td>\n",
       "      <td>Y</td>\n",
       "      <td>현대오일뱅크</td>\n",
       "    </tr>\n",
       "    <tr>\n",
       "      <th>1</th>\n",
       "      <td>구천면주유소</td>\n",
       "      <td>서울 강동구 구천면로 357 (암사동)</td>\n",
       "      <td>1603</td>\n",
       "      <td>N</td>\n",
       "      <td>현대오일뱅크</td>\n",
       "    </tr>\n",
       "    <tr>\n",
       "      <th>2</th>\n",
       "      <td>지에스칼텍스㈜ 동서울주유소</td>\n",
       "      <td>서울 강동구 천호대로 1456 (상일동)</td>\n",
       "      <td>1635</td>\n",
       "      <td>Y</td>\n",
       "      <td>GS칼텍스</td>\n",
       "    </tr>\n",
       "    <tr>\n",
       "      <th>3</th>\n",
       "      <td>현대오일뱅크㈜직영 명일셀프주유소</td>\n",
       "      <td>서울 강동구 고덕로 168 (명일동)</td>\n",
       "      <td>1635</td>\n",
       "      <td>Y</td>\n",
       "      <td>현대오일뱅크</td>\n",
       "    </tr>\n",
       "    <tr>\n",
       "      <th>4</th>\n",
       "      <td>대성석유(주)직영 길동주유소</td>\n",
       "      <td>서울 강동구 천호대로 1168</td>\n",
       "      <td>1638</td>\n",
       "      <td>N</td>\n",
       "      <td>GS칼텍스</td>\n",
       "    </tr>\n",
       "  </tbody>\n",
       "</table>\n",
       "</div>"
      ],
      "text/plain": [
       "              Oil_store                            주소    가격 셀프      상표\n",
       "0  재건에너지 재정제2주유소 고속셀프지점  서울특별시 강동구  천호대로 1246 (둔촌제2동)  1549  Y  현대오일뱅크\n",
       "1                구천면주유소         서울 강동구 구천면로 357 (암사동)  1603  N  현대오일뱅크\n",
       "2        지에스칼텍스㈜ 동서울주유소        서울 강동구 천호대로 1456 (상일동)  1635  Y   GS칼텍스\n",
       "3     현대오일뱅크㈜직영 명일셀프주유소          서울 강동구 고덕로 168 (명일동)  1635  Y  현대오일뱅크\n",
       "4       대성석유(주)직영 길동주유소              서울 강동구 천호대로 1168  1638  N   GS칼텍스"
      ]
     },
     "execution_count": 19,
     "metadata": {},
     "output_type": "execute_result"
    }
   ],
   "source": [
    "stations = pd.DataFrame({\"Oil_store\":station_raw[\"상호\"], \n",
    "                        \"주소\":station_raw[\"주소\"],\n",
    "                        \"가격\":station_raw[\"휘발유\"],\n",
    "                        \"셀프\":station_raw[\"셀프여부\"],\n",
    "                        \"상표\":station_raw[\"상표\"]})\n",
    "stations.head()"
   ]
  },
  {
   "cell_type": "code",
   "execution_count": 20,
   "id": "71c90217",
   "metadata": {
    "collapsed": true
   },
   "outputs": [
    {
     "data": {
      "text/html": [
       "<div>\n",
       "<style scoped>\n",
       "    .dataframe tbody tr th:only-of-type {\n",
       "        vertical-align: middle;\n",
       "    }\n",
       "\n",
       "    .dataframe tbody tr th {\n",
       "        vertical-align: top;\n",
       "    }\n",
       "\n",
       "    .dataframe thead th {\n",
       "        text-align: right;\n",
       "    }\n",
       "</style>\n",
       "<table border=\"1\" class=\"dataframe\">\n",
       "  <thead>\n",
       "    <tr style=\"text-align: right;\">\n",
       "      <th></th>\n",
       "      <th>Oil_store</th>\n",
       "      <th>주소</th>\n",
       "      <th>가격</th>\n",
       "      <th>셀프</th>\n",
       "      <th>상표</th>\n",
       "      <th>구</th>\n",
       "    </tr>\n",
       "  </thead>\n",
       "  <tbody>\n",
       "    <tr>\n",
       "      <th>0</th>\n",
       "      <td>재건에너지 재정제2주유소 고속셀프지점</td>\n",
       "      <td>서울특별시 강동구  천호대로 1246 (둔촌제2동)</td>\n",
       "      <td>1549</td>\n",
       "      <td>Y</td>\n",
       "      <td>현대오일뱅크</td>\n",
       "      <td>강동구</td>\n",
       "    </tr>\n",
       "    <tr>\n",
       "      <th>1</th>\n",
       "      <td>구천면주유소</td>\n",
       "      <td>서울 강동구 구천면로 357 (암사동)</td>\n",
       "      <td>1603</td>\n",
       "      <td>N</td>\n",
       "      <td>현대오일뱅크</td>\n",
       "      <td>강동구</td>\n",
       "    </tr>\n",
       "    <tr>\n",
       "      <th>2</th>\n",
       "      <td>지에스칼텍스㈜ 동서울주유소</td>\n",
       "      <td>서울 강동구 천호대로 1456 (상일동)</td>\n",
       "      <td>1635</td>\n",
       "      <td>Y</td>\n",
       "      <td>GS칼텍스</td>\n",
       "      <td>강동구</td>\n",
       "    </tr>\n",
       "    <tr>\n",
       "      <th>3</th>\n",
       "      <td>현대오일뱅크㈜직영 명일셀프주유소</td>\n",
       "      <td>서울 강동구 고덕로 168 (명일동)</td>\n",
       "      <td>1635</td>\n",
       "      <td>Y</td>\n",
       "      <td>현대오일뱅크</td>\n",
       "      <td>강동구</td>\n",
       "    </tr>\n",
       "    <tr>\n",
       "      <th>4</th>\n",
       "      <td>대성석유(주)직영 길동주유소</td>\n",
       "      <td>서울 강동구 천호대로 1168</td>\n",
       "      <td>1638</td>\n",
       "      <td>N</td>\n",
       "      <td>GS칼텍스</td>\n",
       "      <td>강동구</td>\n",
       "    </tr>\n",
       "  </tbody>\n",
       "</table>\n",
       "</div>"
      ],
      "text/plain": [
       "              Oil_store                            주소    가격 셀프      상표    구\n",
       "0  재건에너지 재정제2주유소 고속셀프지점  서울특별시 강동구  천호대로 1246 (둔촌제2동)  1549  Y  현대오일뱅크  강동구\n",
       "1                구천면주유소         서울 강동구 구천면로 357 (암사동)  1603  N  현대오일뱅크  강동구\n",
       "2        지에스칼텍스㈜ 동서울주유소        서울 강동구 천호대로 1456 (상일동)  1635  Y   GS칼텍스  강동구\n",
       "3     현대오일뱅크㈜직영 명일셀프주유소          서울 강동구 고덕로 168 (명일동)  1635  Y  현대오일뱅크  강동구\n",
       "4       대성석유(주)직영 길동주유소              서울 강동구 천호대로 1168  1638  N   GS칼텍스  강동구"
      ]
     },
     "execution_count": 20,
     "metadata": {},
     "output_type": "execute_result"
    }
   ],
   "source": [
    "##### 구 컬럼 추출\n",
    "\n",
    "stations[\"구\"] = [addr.split()[1] for addr in stations[\"주소\"]]\n",
    "stations.head()"
   ]
  },
  {
   "cell_type": "code",
   "execution_count": 22,
   "id": "f82bab07",
   "metadata": {},
   "outputs": [
    {
     "name": "stdout",
     "output_type": "stream",
     "text": [
      "['강동구' '동대문구' '동작구' '마포구' '서대문구' '서초구' '성동구' '성북구' '송파구' '양천구' '영등포구'\n",
      " '강북구' '용산구' '은평구' '종로구' '중구' '중랑구' '강서구' '관악구' '광진구' '구로구' '금천구' '노원구'\n",
      " '도봉구' '강남구']\n",
      "25\n"
     ]
    }
   ],
   "source": [
    "print(stations[\"구\"].unique())\n",
    "print(len(stations[\"구\"].unique()))"
   ]
  },
  {
   "cell_type": "code",
   "execution_count": 26,
   "id": "f4184501",
   "metadata": {},
   "outputs": [],
   "source": [
    "##### 가격이 없는 주유소 제외\n",
    "\n",
    "stations[\"가격\"].unique()\n",
    "\n",
    "stations[stations[\"가격\"] == \"-\"]\n",
    "\n",
    "stations = stations[stations[\"가격\"] != \"-\"]"
   ]
  },
  {
   "cell_type": "code",
   "execution_count": 28,
   "id": "22b656fe",
   "metadata": {},
   "outputs": [
    {
     "name": "stdout",
     "output_type": "stream",
     "text": [
      "<class 'pandas.core.frame.DataFrame'>\n",
      "Int64Index: 474 entries, 0 to 36\n",
      "Data columns (total 6 columns):\n",
      " #   Column     Non-Null Count  Dtype \n",
      "---  ------     --------------  ----- \n",
      " 0   Oil_store  474 non-null    object\n",
      " 1   주소         474 non-null    object\n",
      " 2   가격         474 non-null    object\n",
      " 3   셀프         474 non-null    object\n",
      " 4   상표         474 non-null    object\n",
      " 5   구          474 non-null    object\n",
      "dtypes: object(6)\n",
      "memory usage: 25.9+ KB\n"
     ]
    }
   ],
   "source": [
    "stations.info()"
   ]
  },
  {
   "cell_type": "code",
   "execution_count": 30,
   "id": "b586af6e",
   "metadata": {},
   "outputs": [
    {
     "name": "stdout",
     "output_type": "stream",
     "text": [
      "<class 'pandas.core.frame.DataFrame'>\n",
      "Int64Index: 474 entries, 0 to 36\n",
      "Data columns (total 6 columns):\n",
      " #   Column     Non-Null Count  Dtype  \n",
      "---  ------     --------------  -----  \n",
      " 0   Oil_store  474 non-null    object \n",
      " 1   주소         474 non-null    object \n",
      " 2   가격         474 non-null    float64\n",
      " 3   셀프         474 non-null    object \n",
      " 4   상표         474 non-null    object \n",
      " 5   구          474 non-null    object \n",
      "dtypes: float64(1), object(5)\n",
      "memory usage: 25.9+ KB\n"
     ]
    }
   ],
   "source": [
    "##### 가격 정보를 수치로 변환\n",
    "\n",
    "stations[\"가격\"] = [float(val) for val in stations[\"가격\"]]\n",
    "stations.info()"
   ]
  },
  {
   "cell_type": "code",
   "execution_count": 31,
   "id": "b513eeaf",
   "metadata": {},
   "outputs": [
    {
     "data": {
      "text/html": [
       "<div>\n",
       "<style scoped>\n",
       "    .dataframe tbody tr th:only-of-type {\n",
       "        vertical-align: middle;\n",
       "    }\n",
       "\n",
       "    .dataframe tbody tr th {\n",
       "        vertical-align: top;\n",
       "    }\n",
       "\n",
       "    .dataframe thead th {\n",
       "        text-align: right;\n",
       "    }\n",
       "</style>\n",
       "<table border=\"1\" class=\"dataframe\">\n",
       "  <thead>\n",
       "    <tr style=\"text-align: right;\">\n",
       "      <th></th>\n",
       "      <th>Oil_store</th>\n",
       "      <th>주소</th>\n",
       "      <th>가격</th>\n",
       "      <th>셀프</th>\n",
       "      <th>상표</th>\n",
       "      <th>구</th>\n",
       "    </tr>\n",
       "  </thead>\n",
       "  <tbody>\n",
       "    <tr>\n",
       "      <th>0</th>\n",
       "      <td>재건에너지 재정제2주유소 고속셀프지점</td>\n",
       "      <td>서울특별시 강동구  천호대로 1246 (둔촌제2동)</td>\n",
       "      <td>1549.0</td>\n",
       "      <td>Y</td>\n",
       "      <td>현대오일뱅크</td>\n",
       "      <td>강동구</td>\n",
       "    </tr>\n",
       "    <tr>\n",
       "      <th>1</th>\n",
       "      <td>구천면주유소</td>\n",
       "      <td>서울 강동구 구천면로 357 (암사동)</td>\n",
       "      <td>1603.0</td>\n",
       "      <td>N</td>\n",
       "      <td>현대오일뱅크</td>\n",
       "      <td>강동구</td>\n",
       "    </tr>\n",
       "    <tr>\n",
       "      <th>2</th>\n",
       "      <td>지에스칼텍스㈜ 동서울주유소</td>\n",
       "      <td>서울 강동구 천호대로 1456 (상일동)</td>\n",
       "      <td>1635.0</td>\n",
       "      <td>Y</td>\n",
       "      <td>GS칼텍스</td>\n",
       "      <td>강동구</td>\n",
       "    </tr>\n",
       "    <tr>\n",
       "      <th>3</th>\n",
       "      <td>현대오일뱅크㈜직영 명일셀프주유소</td>\n",
       "      <td>서울 강동구 고덕로 168 (명일동)</td>\n",
       "      <td>1635.0</td>\n",
       "      <td>Y</td>\n",
       "      <td>현대오일뱅크</td>\n",
       "      <td>강동구</td>\n",
       "    </tr>\n",
       "    <tr>\n",
       "      <th>4</th>\n",
       "      <td>대성석유(주)직영 길동주유소</td>\n",
       "      <td>서울 강동구 천호대로 1168</td>\n",
       "      <td>1638.0</td>\n",
       "      <td>N</td>\n",
       "      <td>GS칼텍스</td>\n",
       "      <td>강동구</td>\n",
       "    </tr>\n",
       "    <tr>\n",
       "      <th>5</th>\n",
       "      <td>방아다리주유소</td>\n",
       "      <td>서울 강동구 동남로 811 (명일동)</td>\n",
       "      <td>1648.0</td>\n",
       "      <td>Y</td>\n",
       "      <td>SK에너지</td>\n",
       "      <td>강동구</td>\n",
       "    </tr>\n",
       "    <tr>\n",
       "      <th>6</th>\n",
       "      <td>지에스칼텍스㈜ 신월주유소</td>\n",
       "      <td>서울 강동구 양재대로 1323 (성내동)</td>\n",
       "      <td>1649.0</td>\n",
       "      <td>N</td>\n",
       "      <td>GS칼텍스</td>\n",
       "      <td>강동구</td>\n",
       "    </tr>\n",
       "    <tr>\n",
       "      <th>7</th>\n",
       "      <td>주)지유에너지직영 오렌지주유소</td>\n",
       "      <td>서울 강동구 성안로 102 (성내동)</td>\n",
       "      <td>1653.0</td>\n",
       "      <td>N</td>\n",
       "      <td>SK에너지</td>\n",
       "      <td>강동구</td>\n",
       "    </tr>\n",
       "    <tr>\n",
       "      <th>8</th>\n",
       "      <td>(주)퍼스트오일 코알라주유소</td>\n",
       "      <td>서울특별시 강동구  올림픽로 556 (성내동)</td>\n",
       "      <td>1658.0</td>\n",
       "      <td>Y</td>\n",
       "      <td>S-OIL</td>\n",
       "      <td>강동구</td>\n",
       "    </tr>\n",
       "    <tr>\n",
       "      <th>9</th>\n",
       "      <td>sk해뜨는주유소</td>\n",
       "      <td>서울 강동구  상일로 132 (강일동)</td>\n",
       "      <td>1659.0</td>\n",
       "      <td>Y</td>\n",
       "      <td>SK에너지</td>\n",
       "      <td>강동구</td>\n",
       "    </tr>\n",
       "    <tr>\n",
       "      <th>10</th>\n",
       "      <td>현대오일뱅크㈜직영 암사셀프주유소</td>\n",
       "      <td>서울 강동구 올림픽로 749 (암사동)</td>\n",
       "      <td>1663.0</td>\n",
       "      <td>Y</td>\n",
       "      <td>현대오일뱅크</td>\n",
       "      <td>강동구</td>\n",
       "    </tr>\n",
       "    <tr>\n",
       "      <th>11</th>\n",
       "      <td>천호현대주유소</td>\n",
       "      <td>서울 강동구 천중로 67 (천호동)</td>\n",
       "      <td>1677.0</td>\n",
       "      <td>N</td>\n",
       "      <td>현대오일뱅크</td>\n",
       "      <td>강동구</td>\n",
       "    </tr>\n",
       "    <tr>\n",
       "      <th>12</th>\n",
       "      <td>(주)삼표에너지 고덕주유소</td>\n",
       "      <td>서울 강동구 고덕로 39 (암사동)</td>\n",
       "      <td>1678.0</td>\n",
       "      <td>N</td>\n",
       "      <td>GS칼텍스</td>\n",
       "      <td>강동구</td>\n",
       "    </tr>\n",
       "    <tr>\n",
       "      <th>13</th>\n",
       "      <td>(주)소모에너지엔테크놀러지 성내주유소</td>\n",
       "      <td>서울 강동구 올림픽로 578 (성내동)</td>\n",
       "      <td>1748.0</td>\n",
       "      <td>Y</td>\n",
       "      <td>GS칼텍스</td>\n",
       "      <td>강동구</td>\n",
       "    </tr>\n",
       "    <tr>\n",
       "      <th>14</th>\n",
       "      <td>광성주유소</td>\n",
       "      <td>서울 강동구 올림픽로 673 (천호동)</td>\n",
       "      <td>1748.0</td>\n",
       "      <td>N</td>\n",
       "      <td>S-OIL</td>\n",
       "      <td>강동구</td>\n",
       "    </tr>\n",
       "    <tr>\n",
       "      <th>15</th>\n",
       "      <td>강동주유소</td>\n",
       "      <td>서울 강동구 양재대로 1509 (길동)</td>\n",
       "      <td>2078.0</td>\n",
       "      <td>N</td>\n",
       "      <td>SK에너지</td>\n",
       "      <td>강동구</td>\n",
       "    </tr>\n",
       "    <tr>\n",
       "      <th>0</th>\n",
       "      <td>열린주유소</td>\n",
       "      <td>서울 동대문구 한천로 263 (휘경동)</td>\n",
       "      <td>1544.0</td>\n",
       "      <td>N</td>\n",
       "      <td>S-OIL</td>\n",
       "      <td>동대문구</td>\n",
       "    </tr>\n",
       "    <tr>\n",
       "      <th>1</th>\n",
       "      <td>풍한주유소</td>\n",
       "      <td>서울 동대문구 안암로 168</td>\n",
       "      <td>1545.0</td>\n",
       "      <td>N</td>\n",
       "      <td>SK에너지</td>\n",
       "      <td>동대문구</td>\n",
       "    </tr>\n",
       "    <tr>\n",
       "      <th>2</th>\n",
       "      <td>재정제2주유소</td>\n",
       "      <td>서울 동대문구 사가정로 90 (전농동)</td>\n",
       "      <td>1549.0</td>\n",
       "      <td>Y</td>\n",
       "      <td>현대오일뱅크</td>\n",
       "      <td>동대문구</td>\n",
       "    </tr>\n",
       "    <tr>\n",
       "      <th>3</th>\n",
       "      <td>동일석유(주)강남주유소</td>\n",
       "      <td>서울특별시 동대문구  사가정로 103 (전농동)</td>\n",
       "      <td>1549.0</td>\n",
       "      <td>N</td>\n",
       "      <td>SK에너지</td>\n",
       "      <td>동대문구</td>\n",
       "    </tr>\n",
       "    <tr>\n",
       "      <th>4</th>\n",
       "      <td>재정주유소</td>\n",
       "      <td>서울 동대문구 전농로 121 (전농동)</td>\n",
       "      <td>1549.0</td>\n",
       "      <td>N</td>\n",
       "      <td>현대오일뱅크</td>\n",
       "      <td>동대문구</td>\n",
       "    </tr>\n",
       "    <tr>\n",
       "      <th>5</th>\n",
       "      <td>(주)경동주유소</td>\n",
       "      <td>서울 동대문구 이문로 191 (이문동)</td>\n",
       "      <td>1567.0</td>\n",
       "      <td>Y</td>\n",
       "      <td>S-OIL</td>\n",
       "      <td>동대문구</td>\n",
       "    </tr>\n",
       "    <tr>\n",
       "      <th>6</th>\n",
       "      <td>배봉로주유소</td>\n",
       "      <td>서울 동대문구 서울시립대로 108</td>\n",
       "      <td>1575.0</td>\n",
       "      <td>Y</td>\n",
       "      <td>현대오일뱅크</td>\n",
       "      <td>동대문구</td>\n",
       "    </tr>\n",
       "    <tr>\n",
       "      <th>7</th>\n",
       "      <td>(주)파랑에너지</td>\n",
       "      <td>서울 동대문구 망우로 126</td>\n",
       "      <td>1585.0</td>\n",
       "      <td>Y</td>\n",
       "      <td>GS칼텍스</td>\n",
       "      <td>동대문구</td>\n",
       "    </tr>\n",
       "    <tr>\n",
       "      <th>8</th>\n",
       "      <td>답십리주유소</td>\n",
       "      <td>서울 동대문구 답십리로 223 (답십리동)</td>\n",
       "      <td>1594.0</td>\n",
       "      <td>N</td>\n",
       "      <td>SK에너지</td>\n",
       "      <td>동대문구</td>\n",
       "    </tr>\n",
       "    <tr>\n",
       "      <th>9</th>\n",
       "      <td>삼영주유소</td>\n",
       "      <td>서울 동대문구 답십리로 258 (장안동)</td>\n",
       "      <td>1597.0</td>\n",
       "      <td>N</td>\n",
       "      <td>SK에너지</td>\n",
       "      <td>동대문구</td>\n",
       "    </tr>\n",
       "    <tr>\n",
       "      <th>10</th>\n",
       "      <td>삼미상사(주)장안킹셀프주유소</td>\n",
       "      <td>서울 동대문구  한천로 100 (장안동)</td>\n",
       "      <td>1597.0</td>\n",
       "      <td>Y</td>\n",
       "      <td>SK에너지</td>\n",
       "      <td>동대문구</td>\n",
       "    </tr>\n",
       "    <tr>\n",
       "      <th>11</th>\n",
       "      <td>(주)안국에너지 삼원셀프주유소</td>\n",
       "      <td>서울 동대문구 망우로 90 (휘경동)</td>\n",
       "      <td>1598.0</td>\n",
       "      <td>Y</td>\n",
       "      <td>SK에너지</td>\n",
       "      <td>동대문구</td>\n",
       "    </tr>\n",
       "    <tr>\n",
       "      <th>12</th>\n",
       "      <td>홍능주유소</td>\n",
       "      <td>서울 동대문구 홍릉로 87 (청량리동)</td>\n",
       "      <td>1617.0</td>\n",
       "      <td>N</td>\n",
       "      <td>S-OIL</td>\n",
       "      <td>동대문구</td>\n",
       "    </tr>\n",
       "    <tr>\n",
       "      <th>13</th>\n",
       "      <td>대성산업㈜청량리주유소</td>\n",
       "      <td>서울 동대문구 왕산로 289 (청량리동)</td>\n",
       "      <td>1617.0</td>\n",
       "      <td>Y</td>\n",
       "      <td>GS칼텍스</td>\n",
       "      <td>동대문구</td>\n",
       "    </tr>\n",
       "  </tbody>\n",
       "</table>\n",
       "</div>"
      ],
      "text/plain": [
       "               Oil_store                            주소      가격 셀프      상표  \\\n",
       "0   재건에너지 재정제2주유소 고속셀프지점  서울특별시 강동구  천호대로 1246 (둔촌제2동)  1549.0  Y  현대오일뱅크   \n",
       "1                 구천면주유소         서울 강동구 구천면로 357 (암사동)  1603.0  N  현대오일뱅크   \n",
       "2         지에스칼텍스㈜ 동서울주유소        서울 강동구 천호대로 1456 (상일동)  1635.0  Y   GS칼텍스   \n",
       "3      현대오일뱅크㈜직영 명일셀프주유소          서울 강동구 고덕로 168 (명일동)  1635.0  Y  현대오일뱅크   \n",
       "4        대성석유(주)직영 길동주유소              서울 강동구 천호대로 1168  1638.0  N   GS칼텍스   \n",
       "5                방아다리주유소          서울 강동구 동남로 811 (명일동)  1648.0  Y   SK에너지   \n",
       "6          지에스칼텍스㈜ 신월주유소        서울 강동구 양재대로 1323 (성내동)  1649.0  N   GS칼텍스   \n",
       "7       주)지유에너지직영 오렌지주유소          서울 강동구 성안로 102 (성내동)  1653.0  N   SK에너지   \n",
       "8        (주)퍼스트오일 코알라주유소     서울특별시 강동구  올림픽로 556 (성내동)  1658.0  Y   S-OIL   \n",
       "9               sk해뜨는주유소         서울 강동구  상일로 132 (강일동)  1659.0  Y   SK에너지   \n",
       "10     현대오일뱅크㈜직영 암사셀프주유소         서울 강동구 올림픽로 749 (암사동)  1663.0  Y  현대오일뱅크   \n",
       "11               천호현대주유소           서울 강동구 천중로 67 (천호동)  1677.0  N  현대오일뱅크   \n",
       "12        (주)삼표에너지 고덕주유소           서울 강동구 고덕로 39 (암사동)  1678.0  N   GS칼텍스   \n",
       "13  (주)소모에너지엔테크놀러지 성내주유소         서울 강동구 올림픽로 578 (성내동)  1748.0  Y   GS칼텍스   \n",
       "14                 광성주유소         서울 강동구 올림픽로 673 (천호동)  1748.0  N   S-OIL   \n",
       "15                 강동주유소         서울 강동구 양재대로 1509 (길동)  2078.0  N   SK에너지   \n",
       "0                  열린주유소         서울 동대문구 한천로 263 (휘경동)  1544.0  N   S-OIL   \n",
       "1                  풍한주유소               서울 동대문구 안암로 168  1545.0  N   SK에너지   \n",
       "2                재정제2주유소         서울 동대문구 사가정로 90 (전농동)  1549.0  Y  현대오일뱅크   \n",
       "3           동일석유(주)강남주유소    서울특별시 동대문구  사가정로 103 (전농동)  1549.0  N   SK에너지   \n",
       "4                  재정주유소         서울 동대문구 전농로 121 (전농동)  1549.0  N  현대오일뱅크   \n",
       "5               (주)경동주유소         서울 동대문구 이문로 191 (이문동)  1567.0  Y   S-OIL   \n",
       "6                 배봉로주유소            서울 동대문구 서울시립대로 108  1575.0  Y  현대오일뱅크   \n",
       "7               (주)파랑에너지               서울 동대문구 망우로 126  1585.0  Y   GS칼텍스   \n",
       "8                 답십리주유소       서울 동대문구 답십리로 223 (답십리동)  1594.0  N   SK에너지   \n",
       "9                  삼영주유소        서울 동대문구 답십리로 258 (장안동)  1597.0  N   SK에너지   \n",
       "10       삼미상사(주)장안킹셀프주유소        서울 동대문구  한천로 100 (장안동)  1597.0  Y   SK에너지   \n",
       "11      (주)안국에너지 삼원셀프주유소          서울 동대문구 망우로 90 (휘경동)  1598.0  Y   SK에너지   \n",
       "12                 홍능주유소         서울 동대문구 홍릉로 87 (청량리동)  1617.0  N   S-OIL   \n",
       "13           대성산업㈜청량리주유소        서울 동대문구 왕산로 289 (청량리동)  1617.0  Y   GS칼텍스   \n",
       "\n",
       "       구  \n",
       "0    강동구  \n",
       "1    강동구  \n",
       "2    강동구  \n",
       "3    강동구  \n",
       "4    강동구  \n",
       "5    강동구  \n",
       "6    강동구  \n",
       "7    강동구  \n",
       "8    강동구  \n",
       "9    강동구  \n",
       "10   강동구  \n",
       "11   강동구  \n",
       "12   강동구  \n",
       "13   강동구  \n",
       "14   강동구  \n",
       "15   강동구  \n",
       "0   동대문구  \n",
       "1   동대문구  \n",
       "2   동대문구  \n",
       "3   동대문구  \n",
       "4   동대문구  \n",
       "5   동대문구  \n",
       "6   동대문구  \n",
       "7   동대문구  \n",
       "8   동대문구  \n",
       "9   동대문구  \n",
       "10  동대문구  \n",
       "11  동대문구  \n",
       "12  동대문구  \n",
       "13  동대문구  "
      ]
     },
     "execution_count": 31,
     "metadata": {},
     "output_type": "execute_result"
    }
   ],
   "source": [
    "stations.head(30)"
   ]
  },
  {
   "cell_type": "code",
   "execution_count": null,
   "id": "0c5c08dd",
   "metadata": {},
   "outputs": [],
   "source": []
  },
  {
   "cell_type": "code",
   "execution_count": null,
   "id": "67f6f6b4",
   "metadata": {},
   "outputs": [],
   "source": []
  },
  {
   "cell_type": "code",
   "execution_count": null,
   "id": "ed75cc2f",
   "metadata": {},
   "outputs": [],
   "source": []
  },
  {
   "cell_type": "code",
   "execution_count": null,
   "id": "bfdf807b",
   "metadata": {},
   "outputs": [],
   "source": []
  },
  {
   "cell_type": "code",
   "execution_count": null,
   "id": "dc08bf67",
   "metadata": {},
   "outputs": [],
   "source": []
  },
  {
   "cell_type": "code",
   "execution_count": null,
   "id": "4b0c1067",
   "metadata": {},
   "outputs": [],
   "source": []
  },
  {
   "cell_type": "code",
   "execution_count": null,
   "id": "cd5b67b6",
   "metadata": {},
   "outputs": [],
   "source": []
  },
  {
   "cell_type": "code",
   "execution_count": null,
   "id": "6a89cdea",
   "metadata": {},
   "outputs": [],
   "source": []
  },
  {
   "cell_type": "code",
   "execution_count": null,
   "id": "c1e6a4b6",
   "metadata": {},
   "outputs": [],
   "source": []
  },
  {
   "cell_type": "code",
   "execution_count": null,
   "id": "9d3b6498",
   "metadata": {},
   "outputs": [],
   "source": []
  }
 ],
 "metadata": {
  "kernelspec": {
   "display_name": "Python 3",
   "language": "python",
   "name": "python3"
  },
  "language_info": {
   "codemirror_mode": {
    "name": "ipython",
    "version": 3
   },
   "file_extension": ".py",
   "mimetype": "text/x-python",
   "name": "python",
   "nbconvert_exporter": "python",
   "pygments_lexer": "ipython3",
   "version": "3.8.8"
  }
 },
 "nbformat": 4,
 "nbformat_minor": 5
}
