{
 "cells": [
  {
   "cell_type": "code",
   "execution_count": 1,
   "id": "bdc01dda",
   "metadata": {},
   "outputs": [],
   "source": [
    "import numpy as np\n",
    "import pandas as pd\n",
    "import matplotlib.pyplot as plt\n",
    "import seaborn as sns\n",
    "\n",
    "import warnings\n",
    "warnings.filterwarnings(action=\"ignore\")\n",
    "\n",
    "import matplotlib.font_manager as fm\n",
    "font_name = fm.FontProperties(fname=\"C:/Windows/Fonts/malgun.ttf\").get_name()\n",
    "plt.rc(\"font\", family=font_name)\n",
    "\n",
    "import matplotlib as mpl\n",
    "mpl.rcParams[\"axes.unicode_minus\"] = False\n",
    "\n",
    "import urllib.request as req\n",
    "from urllib.request import urlopen\n",
    "from urllib.error import HTTPError, URLError\n",
    "import urllib.parse\n",
    "from bs4 import BeautifulSoup\n",
    "import requests"
   ]
  },
  {
   "cell_type": "markdown",
   "id": "02d45081",
   "metadata": {},
   "source": [
    "# Selenium\n",
    "\n",
    "+ Chrome Driver 또는 PhantomJS\n",
    "    - 구글에서 \"chrome driver\"로 검색하여 현재 버전에 맞는 프로그램을 다운로드\n",
    "  \n",
    "  \n",
    "+ pip install selenium"
   ]
  },
  {
   "cell_type": "code",
   "execution_count": 2,
   "id": "ba448a19",
   "metadata": {},
   "outputs": [],
   "source": [
    "from selenium import webdriver"
   ]
  },
  {
   "cell_type": "code",
   "execution_count": 5,
   "id": "dc48261e",
   "metadata": {},
   "outputs": [],
   "source": [
    "driver = webdriver.Chrome(\"C:/netsong7/download/chromedriver.exe\")\n",
    "driver.get(\"https://www.naver.com\")"
   ]
  },
  {
   "cell_type": "code",
   "execution_count": 6,
   "id": "91b91016",
   "metadata": {},
   "outputs": [
    {
     "data": {
      "text/plain": [
       "True"
      ]
     },
     "execution_count": 6,
     "metadata": {},
     "output_type": "execute_result"
    }
   ],
   "source": [
    "driver.save_screenshot(\"data/001.png\")"
   ]
  },
  {
   "cell_type": "code",
   "execution_count": 7,
   "id": "5aad290c",
   "metadata": {},
   "outputs": [],
   "source": [
    "driver.close()"
   ]
  },
  {
   "cell_type": "code",
   "execution_count": 9,
   "id": "8cdda101",
   "metadata": {},
   "outputs": [],
   "source": [
    "driver = webdriver.Chrome(\"C:/netsong7/download/chromedriver.exe\")\n",
    "driver.get(\"https://logins.daum.net/accounts/signinform.do?url=https%3A%2F%2Fwww.daum.net%2F\")"
   ]
  },
  {
   "cell_type": "code",
   "execution_count": 14,
   "id": "15c4ea88",
   "metadata": {},
   "outputs": [],
   "source": [
    "elem_login = driver.find_element_by_id(\"id\")\n",
    "elem_login.clear()\n",
    "elem_login.send_keys(\"whitejeongwoo\")\n",
    "\n",
    "elem_pwd = driver.find_element_by_id(\"inputPwd\")\n",
    "elem_pwd.clear()\n",
    "elem_pwd.send_keys(\"xxx\")\n",
    "\n",
    "xpath = \"\"\"//*[@id=\"loginBtn\"]\"\"\"\n",
    "driver.find_element_by_xpath(xpath).click()"
   ]
  },
  {
   "cell_type": "code",
   "execution_count": 15,
   "id": "0235797d",
   "metadata": {},
   "outputs": [],
   "source": [
    "driver.close()"
   ]
  },
  {
   "cell_type": "markdown",
   "id": "1c6e1ab0",
   "metadata": {},
   "source": [
    "---\n",
    "# 셀프 주유소는 과연 저렴한가?\n",
    "\n",
    "+ 실제 셀프 주유소가 저렴한지에 대한 팩트 체크\n",
    "+ 가장 싼 주유소는 어디인가?\n",
    "+ http://www.opinet.co.kr"
   ]
  },
  {
   "cell_type": "markdown",
   "id": "c2f45d34",
   "metadata": {},
   "source": [
    "### 1. 서울시 구별 주유소 가격 정보 가져오기"
   ]
  },
  {
   "cell_type": "markdown",
   "id": "8b794d0e",
   "metadata": {},
   "source": [
    "#### (1) Sample Code"
   ]
  },
  {
   "cell_type": "code",
   "execution_count": 16,
   "id": "0087c69d",
   "metadata": {},
   "outputs": [],
   "source": [
    "driver = webdriver.Chrome(\"C:/netsong7/download/chromedriver.exe\")\n",
    "driver.get(\"https://www.opinet.co.kr/searRgSelect.do\")"
   ]
  },
  {
   "cell_type": "code",
   "execution_count": 31,
   "id": "019e54fc",
   "metadata": {
    "collapsed": true
   },
   "outputs": [
    {
     "data": {
      "text/plain": [
       "['서울특별시',\n",
       " '부산광역시',\n",
       " '대구광역시',\n",
       " '인천광역시',\n",
       " '광주광역시',\n",
       " '대전광역시',\n",
       " '울산광역시',\n",
       " '세종특별자치시',\n",
       " '경기도',\n",
       " '강원도',\n",
       " '충청북도',\n",
       " '충청남도',\n",
       " '전라북도',\n",
       " '전라남도',\n",
       " '경상북도',\n",
       " '경상남도',\n",
       " '제주특별자치도']"
      ]
     },
     "execution_count": 31,
     "metadata": {},
     "output_type": "execute_result"
    }
   ],
   "source": [
    "##### 시 목록 가져오기\n",
    "\n",
    "si_list_raw = driver.find_element_by_xpath(\"\"\"//*[@id=\"SIDO_NM0\"]\"\"\")\n",
    "si_list = si_list_raw.find_elements_by_tag_name(\"option\")\n",
    "si_list\n",
    "si_list[1].get_attribute(\"value\")\n",
    "\n",
    "si_names = [option.get_attribute(\"value\") for option in si_list]\n",
    "si_names.remove(\"\")\n",
    "si_names"
   ]
  },
  {
   "cell_type": "code",
   "execution_count": 33,
   "id": "32072935",
   "metadata": {},
   "outputs": [],
   "source": [
    "##### 시 선택하기\n",
    "element = driver.find_element_by_id(\"SIDO_NM0\")\n",
    "element.send_keys(si_names[0])"
   ]
  },
  {
   "cell_type": "code",
   "execution_count": 34,
   "id": "7d3d1b10",
   "metadata": {
    "collapsed": true
   },
   "outputs": [
    {
     "data": {
      "text/plain": [
       "['강남구',\n",
       " '강동구',\n",
       " '강북구',\n",
       " '강서구',\n",
       " '관악구',\n",
       " '광진구',\n",
       " '구로구',\n",
       " '금천구',\n",
       " '노원구',\n",
       " '도봉구',\n",
       " '동대문구',\n",
       " '동작구',\n",
       " '마포구',\n",
       " '서대문구',\n",
       " '서초구',\n",
       " '성동구',\n",
       " '성북구',\n",
       " '송파구',\n",
       " '양천구',\n",
       " '영등포구',\n",
       " '용산구',\n",
       " '은평구',\n",
       " '종로구',\n",
       " '중구',\n",
       " '중랑구']"
      ]
     },
     "execution_count": 34,
     "metadata": {},
     "output_type": "execute_result"
    }
   ],
   "source": [
    "##### 구 목록 가져오기\n",
    "\n",
    "gu_list_raw = driver.find_element_by_xpath(\"\"\"//*[@id=\"SIGUNGU_NM0\"]\"\"\")\n",
    "gu_list = gu_list_raw.find_elements_by_tag_name(\"option\")\n",
    "gu_list\n",
    "gu_list[1].get_attribute(\"value\")\n",
    "\n",
    "gu_names = [option.get_attribute(\"value\") for option in gu_list]\n",
    "gu_names.remove(\"\")\n",
    "gu_names"
   ]
  },
  {
   "cell_type": "code",
   "execution_count": 40,
   "id": "83b9fdab",
   "metadata": {},
   "outputs": [],
   "source": [
    "##### 구 선택하기\n",
    "\n",
    "element = driver.find_element_by_id(\"SIGUNGU_NM0\")\n",
    "element.send_keys(gu_names[11])"
   ]
  },
  {
   "cell_type": "code",
   "execution_count": 41,
   "id": "0cefeaf2",
   "metadata": {},
   "outputs": [],
   "source": [
    "##### 조회 버튼 누르기\n",
    "\n",
    "driver.find_element_by_xpath(\"\"\"//*[@id=\"searRgSelect\"]/span\"\"\").click()"
   ]
  },
  {
   "cell_type": "code",
   "execution_count": 42,
   "id": "a2f79b03",
   "metadata": {},
   "outputs": [],
   "source": [
    "##### 엑셀 저장 버튼 누르기\n",
    "# C:\\Users\\acorn\\Downloads\n",
    "\n",
    "driver.find_element_by_xpath(\"\"\"//*[@id=\"glopopd_excel\"]/span\"\"\").click()"
   ]
  },
  {
   "cell_type": "code",
   "execution_count": null,
   "id": "28681bb5",
   "metadata": {},
   "outputs": [],
   "source": []
  },
  {
   "cell_type": "code",
   "execution_count": null,
   "id": "687a034e",
   "metadata": {},
   "outputs": [],
   "source": []
  },
  {
   "cell_type": "code",
   "execution_count": null,
   "id": "a8beee6b",
   "metadata": {},
   "outputs": [],
   "source": []
  },
  {
   "cell_type": "code",
   "execution_count": null,
   "id": "220ed8c0",
   "metadata": {},
   "outputs": [],
   "source": []
  },
  {
   "cell_type": "code",
   "execution_count": null,
   "id": "92415d03",
   "metadata": {},
   "outputs": [],
   "source": []
  },
  {
   "cell_type": "code",
   "execution_count": null,
   "id": "a410aaab",
   "metadata": {},
   "outputs": [],
   "source": []
  },
  {
   "cell_type": "code",
   "execution_count": null,
   "id": "491367ab",
   "metadata": {},
   "outputs": [],
   "source": []
  },
  {
   "cell_type": "code",
   "execution_count": null,
   "id": "5d169208",
   "metadata": {},
   "outputs": [],
   "source": []
  },
  {
   "cell_type": "code",
   "execution_count": null,
   "id": "a6940560",
   "metadata": {},
   "outputs": [],
   "source": []
  },
  {
   "cell_type": "code",
   "execution_count": null,
   "id": "16a11fd4",
   "metadata": {},
   "outputs": [],
   "source": []
  },
  {
   "cell_type": "code",
   "execution_count": null,
   "id": "71c90217",
   "metadata": {},
   "outputs": [],
   "source": []
  },
  {
   "cell_type": "code",
   "execution_count": null,
   "id": "f82bab07",
   "metadata": {},
   "outputs": [],
   "source": []
  },
  {
   "cell_type": "code",
   "execution_count": null,
   "id": "f4184501",
   "metadata": {},
   "outputs": [],
   "source": []
  },
  {
   "cell_type": "code",
   "execution_count": null,
   "id": "22b656fe",
   "metadata": {},
   "outputs": [],
   "source": []
  }
 ],
 "metadata": {
  "kernelspec": {
   "display_name": "Python 3",
   "language": "python",
   "name": "python3"
  },
  "language_info": {
   "codemirror_mode": {
    "name": "ipython",
    "version": 3
   },
   "file_extension": ".py",
   "mimetype": "text/x-python",
   "name": "python",
   "nbconvert_exporter": "python",
   "pygments_lexer": "ipython3",
   "version": "3.8.8"
  }
 },
 "nbformat": 4,
 "nbformat_minor": 5
}
