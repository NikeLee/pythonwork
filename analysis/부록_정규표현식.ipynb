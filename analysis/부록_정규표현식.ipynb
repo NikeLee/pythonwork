{
 "cells": [
  {
   "cell_type": "code",
   "execution_count": 1,
   "id": "a1c260e8",
   "metadata": {
    "collapsed": true
   },
   "outputs": [
    {
     "data": {
      "text/plain": [
       "'\\n1. 반복\\n  1) * : 0번 이상 반복\\n    ab* : a, ab, abb, abbbb, ....\\n    lo*l : ll, lol, lool, looool, ...\\n    \\n  2) + : 1번 이상 반복\\n    ab+ : ab, abb, abbb, ...\\n    \\n  3) ? : 0회 또는 1회\\n    ab? : a, ab\\n    \\n  4) {m} : m회 반복\\n    a{3}b : aaab\\n    \\n  5) {m, n} : m회 부터 n회까지 반복\\n    a{2, 3}bc : aabc, aaabc\\n    \\n2. 매칭\\n  1) . : 줄바꿈 문자를 제외한 모든 문자와 일치\\n    a.b : aab, abb, acb, adb, ...\\n    \\n  2) ^ : 문자열의 시작\\n    ^abc : abc...\\n    \\n  3) $ : 문자열의 마지막\\n    $a : zdba, abcda, ...\\n    \\n  4) [ ] : 문자 집합 중 한 문자와 매치\\n    [abc]xyz : axyz, bxyz, cxyz\\n    [a-z]bc : abc, bbc, cbc, dbc, ... zbc\\n    a[.]b : a.b\\n    [a^bc]hello : ahello, chello\\n    [a-zA-Z0-9]hello : 특수문자를 제외한 모든 문자와 숫자\\n    \\n3. 특수문자(\\\\문자)\\n  1) \\\\d : 모든 숫자와 매치\\n    ab\\\\d\\\\dc : ab00c, ab01c, ab99c, ...\\n    ab[0-9][0-9]c\\n\\n  2) \\\\D : 숫자가 아닌 문자와 매치\\n  \\n  3) \\\\s : 공백문자와 매치\\n  \\n  4) \\\\S : 공백문자를 제외한 모든 것과 매치\\n  \\n  5) \\\\w : 숫자 또는 문자와 매치\\n  \\n  6) \\\\W : 숫자 또는 문자가 아닌 모든 문자와 매치\\n'"
      ]
     },
     "execution_count": 1,
     "metadata": {},
     "output_type": "execute_result"
    }
   ],
   "source": [
    "\"\"\"\n",
    "1. 반복\n",
    "  1) * : 0번 이상 반복\n",
    "    ab* : a, ab, abb, abbbb, ....\n",
    "    lo*l : ll, lol, lool, looool, ...\n",
    "    \n",
    "  2) + : 1번 이상 반복\n",
    "    ab+ : ab, abb, abbb, ...\n",
    "    \n",
    "  3) ? : 0회 또는 1회\n",
    "    ab? : a, ab\n",
    "    \n",
    "  4) {m} : m회 반복\n",
    "    a{3}b : aaab\n",
    "    \n",
    "  5) {m, n} : m회 부터 n회까지 반복\n",
    "    a{2, 3}bc : aabc, aaabc\n",
    "    \n",
    "2. 매칭\n",
    "  1) . : 줄바꿈 문자를 제외한 모든 문자와 일치\n",
    "    a.b : aab, abb, acb, adb, ...\n",
    "    \n",
    "  2) ^ : 문자열의 시작\n",
    "    ^abc : abc...\n",
    "    \n",
    "  3) $ : 문자열의 마지막\n",
    "    $a : zdba, abcda, ...\n",
    "    \n",
    "  4) [ ] : 문자 집합 중 한 문자와 매치\n",
    "    [abc]xyz : axyz, bxyz, cxyz\n",
    "    [a-z]bc : abc, bbc, cbc, dbc, ... zbc\n",
    "    a[.]b : a.b\n",
    "    [a^bc]hello : ahello, chello\n",
    "    [a-zA-Z0-9]hello : 특수문자를 제외한 모든 문자와 숫자\n",
    "    \n",
    "3. 특수문자(\\문자)\n",
    "  1) \\d : 모든 숫자와 매치\n",
    "    ab\\d\\dc : ab00c, ab01c, ab99c, ...\n",
    "    ab[0-9][0-9]c\n",
    "\n",
    "  2) \\D : 숫자가 아닌 문자와 매치\n",
    "  \n",
    "  3) \\s : 공백문자와 매치\n",
    "  \n",
    "  4) \\S : 공백문자를 제외한 모든 것과 매치\n",
    "  \n",
    "  5) \\w : 숫자 또는 문자와 매치\n",
    "  \n",
    "  6) \\W : 숫자 또는 문자가 아닌 모든 문자와 매치\n",
    "\"\"\""
   ]
  },
  {
   "cell_type": "markdown",
   "id": "989edaba",
   "metadata": {},
   "source": [
    "+ https://docs.python.org/3/library/re.html"
   ]
  },
  {
   "cell_type": "markdown",
   "id": "d21c4d7d",
   "metadata": {},
   "source": [
    "#### 파이썬이 제공하는 객체 또는 메서드\n",
    "\n",
    "+ compile() : 정규 표현식 객체 생성\n",
    "+ match() : 문자열의 처음부터 정규식과 매치되는지 조사\n",
    "+ search() : 문자열 전체를 검색해서 정규식과 매치되는지 조사\n",
    "+ findall() : 정규식과 매치되는 모든 문자열을 리스트로 리턴\n",
    "+ finditer() : 정규식과 매치되는 모든 문자열을 반복 가능한 객체로 리턴\n",
    "+ split() : 문자열 분리\n",
    "+ sub() : 문자열 변경(교체)\n",
    "+ ..."
   ]
  },
  {
   "cell_type": "code",
   "execution_count": 2,
   "id": "6c43c8f7",
   "metadata": {},
   "outputs": [],
   "source": [
    "import re"
   ]
  },
  {
   "cell_type": "code",
   "execution_count": 11,
   "id": "f1ccee3e",
   "metadata": {},
   "outputs": [
    {
     "name": "stdout",
     "output_type": "stream",
     "text": [
      "False\n",
      "True\n",
      "-------------------------------------------------\n",
      "True\n",
      "False\n",
      "True\n",
      "<re.Match object; span=(12, 16), match='35th'>\n"
     ]
    }
   ],
   "source": [
    "# 객체를 생성해서 사용하는 방법\n",
    "p = re.compile(\"[0-9] [a-z]+ .+\")\n",
    "print(bool(p.match(\"3 aldfjladj, alsdjflaj343\")))\n",
    "print(bool(p.match(\"3 aldfjladj alsdjflaj343\")))\n",
    "\n",
    "print(\"-------------------------------------------------\")\n",
    "\n",
    "# 바로 함수를 사용하는 방법\n",
    "print(bool(re.match(\"[0-9]+th\", \"35th is everything\")))\n",
    "print(bool(re.match(\"[0-9]+th\", \"aaa bbb ccc 35th is everything\")))\n",
    "print(bool(re.search(\"[0-9]+th\", \"aaa bbb ccc 35th is everything\")))\n",
    "\n",
    "print(re.search(\"[0-9]+th\", \"aaa bbb ccc 35th is everything\"))\n",
    "\n",
    "print(\"-------------------------------------------------\")\n",
    "\n",
    "# 전화번호 매칭되는 패턴 작성 : \"010-222-2222은 내 전화번호 입니다.\""
   ]
  },
  {
   "cell_type": "code",
   "execution_count": 19,
   "id": "046ac160",
   "metadata": {
    "collapsed": true
   },
   "outputs": [
    {
     "name": "stdout",
     "output_type": "stream",
     "text": [
      "['life', 'is', 'too', 'short']\n",
      "-------------------------------\n",
      "<callable_iterator object at 0x000002007EE0C1F0>\n",
      "-------------------------------\n",
      "<re.Match object; span=(0, 4), match='life'>\n",
      "life\n",
      "(0, 4)\n",
      "<re.Match object; span=(10, 12), match='is'>\n",
      "is\n",
      "(10, 12)\n",
      "<re.Match object; span=(27, 30), match='too'>\n",
      "too\n",
      "(27, 30)\n",
      "<re.Match object; span=(34, 39), match='short'>\n",
      "short\n",
      "(34, 39)\n"
     ]
    }
   ],
   "source": [
    "##### findall() 과 finditer()\n",
    "\n",
    "data = \"life 3333 is 2222 3333 444 too 10 short\"\n",
    "p = re.compile(\"[a-z]+\")\n",
    "\n",
    "#p.match(data)\n",
    "#p.search(data)\n",
    "\n",
    "m = p.findall(data)\n",
    "print(m)\n",
    "\n",
    "print(\"-------------------------------\")\n",
    "\n",
    "m1 = p.finditer(data)\n",
    "print(m1)\n",
    "\n",
    "print(\"-------------------------------\")\n",
    "\n",
    "for i in m1:\n",
    "    print(i)\n",
    "    print(i.group())\n",
    "    print(i.span())"
   ]
  },
  {
   "cell_type": "code",
   "execution_count": null,
   "id": "8e2e0c25",
   "metadata": {},
   "outputs": [],
   "source": [
    "data = \"1234 abc가나다ABC_555_6\"\n",
    "\n",
    "# 숫자 1개만 일치하는 패턴\n",
    "\n",
    "# 숫자 1개이상 일치하는 패턴\n",
    "\n",
    "# 숫자 2개와 일치하는 패턴\n",
    "\n",
    "# 숫자 2개부터 3개까지 일치하는 패턴"
   ]
  },
  {
   "cell_type": "code",
   "execution_count": null,
   "id": "6c125e33",
   "metadata": {},
   "outputs": [],
   "source": [
    "data = \"1234 abc가나다ABC_555_6 mbc air air\"\n",
    "\n",
    "# bc로 끝나는 세글자(abc, mbc)\n",
    "\n",
    "# a로 시작하는 세글자(abc, air, air)\n",
    "\n",
    "# 가장 마지막에 air로 끝나는 패턴(air)\n",
    "\n",
    "# 가장 처음에 1로 시작하는 숫자들 (1, 1234)\n",
    "\n",
    "# 1을 뺀 모든 데이터(234 abc가나다ABC_555_6 mbc air air)"
   ]
  },
  {
   "cell_type": "code",
   "execution_count": 26,
   "id": "7aef08e7",
   "metadata": {},
   "outputs": [
    {
     "name": "stdout",
     "output_type": "stream",
     "text": [
      "['mbc,kbs', 'sbs:ytn']\n",
      "['mbc', 'kbs sbs:ytn']\n",
      "-----------------------------------------\n",
      "['mbc', 'kbs', 'sbs', 'ytn']\n",
      "['mbc', 'kbs', 'sbs', 'ytn']\n",
      "['mbc', 'kbs', 'sbs', 'ytn']\n",
      "['mbc', 'kbs', 'sbs', 'ytn']\n"
     ]
    }
   ],
   "source": [
    "##### split()\n",
    "\n",
    "data = \"mbc,kbs sbs:ytn\"\n",
    "\n",
    "print(data.split(\" \"))\n",
    "print(data.split(\",\"))\n",
    "\n",
    "print(\"-----------------------------------------\")\n",
    "\n",
    "print(re.split(\"[\\s,:]\", data))\n",
    "print(re.split(\"[,: ]\", data))\n",
    "print(re.split(\"\\W+\", data))\n",
    "print(re.split(\",|:| \", data))"
   ]
  },
  {
   "cell_type": "code",
   "execution_count": 29,
   "id": "5e1401a0",
   "metadata": {},
   "outputs": [
    {
     "name": "stdout",
     "output_type": "stream",
     "text": [
      "8888 abc가나다ABC_888_8\n",
      "-----------------------------------------------\n",
      "mbc,kbs,sbs,ytn\n"
     ]
    }
   ],
   "source": [
    "##### sub\n",
    "\n",
    "data = \"1234 abc가나다ABC_555_6\"\n",
    "\n",
    "# m = re.sub(\"[0-9]+\", \"888\", data)\n",
    "m = re.sub(\"[0-9]\", \"8\", data)\n",
    "print(m)\n",
    "\n",
    "print(\"-----------------------------------------------\")\n",
    "\n",
    "data = \"mbc,kbs sbs:ytn\"\n",
    "\n",
    "m = re.sub(\"\\W+\", \",\", data)\n",
    "print(m)"
   ]
  },
  {
   "cell_type": "code",
   "execution_count": 33,
   "id": "3f1a8853",
   "metadata": {},
   "outputs": [
    {
     "name": "stdout",
     "output_type": "stream",
     "text": [
      "<re.Match object; span=(0, 3), match='axb'>\n",
      "<re.Match object; span=(0, 3), match='a+b'>\n",
      "<re.Match object; span=(0, 3), match='a\\nb'>\n"
     ]
    }
   ],
   "source": [
    "##### 컴파일 옵션 : S(or DOTALL), I(or IGNORECASE), M(or MULTILINE)\n",
    "\n",
    "p = re.compile(\"a.b\", re.S)\n",
    "\n",
    "m1 = p.match(\"axb is bla bla bla~~\")\n",
    "print(m1)\n",
    "\n",
    "m2 = p.match(\"a+b is bla bla bla~~\")\n",
    "print(m2)\n",
    "\n",
    "m3 = p.match(\"a\\nb is bla bla bla~~\")\n",
    "print(m3)"
   ]
  },
  {
   "cell_type": "code",
   "execution_count": null,
   "id": "eeb08c8e",
   "metadata": {},
   "outputs": [],
   "source": []
  },
  {
   "cell_type": "code",
   "execution_count": null,
   "id": "f59af741",
   "metadata": {},
   "outputs": [],
   "source": []
  },
  {
   "cell_type": "code",
   "execution_count": null,
   "id": "15be675d",
   "metadata": {},
   "outputs": [],
   "source": []
  },
  {
   "cell_type": "code",
   "execution_count": null,
   "id": "e505bb3f",
   "metadata": {},
   "outputs": [],
   "source": []
  },
  {
   "cell_type": "code",
   "execution_count": null,
   "id": "0d8f1d9d",
   "metadata": {},
   "outputs": [],
   "source": []
  }
 ],
 "metadata": {
  "kernelspec": {
   "display_name": "Python 3",
   "language": "python",
   "name": "python3"
  },
  "language_info": {
   "codemirror_mode": {
    "name": "ipython",
    "version": 3
   },
   "file_extension": ".py",
   "mimetype": "text/x-python",
   "name": "python",
   "nbconvert_exporter": "python",
   "pygments_lexer": "ipython3",
   "version": "3.8.8"
  }
 },
 "nbformat": 4,
 "nbformat_minor": 5
}
