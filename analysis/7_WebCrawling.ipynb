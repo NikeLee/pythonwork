{
 "cells": [
  {
   "cell_type": "code",
   "execution_count": 1,
   "id": "95a03c4c",
   "metadata": {},
   "outputs": [],
   "source": [
    "import numpy as np\n",
    "import pandas as pd\n",
    "import matplotlib.pyplot as plt\n",
    "import seaborn as sns\n",
    "\n",
    "import warnings\n",
    "warnings.filterwarnings(action=\"ignore\")\n",
    "\n",
    "import matplotlib.font_manager as fm\n",
    "font_name = fm.FontProperties(fname=\"C:/Windows/Fonts/malgun.ttf\").get_name()\n",
    "plt.rc(\"font\", family=font_name)\n",
    "\n",
    "import matplotlib as mpl\n",
    "mpl.rcParams[\"axes.unicode_minus\"] = False"
   ]
  },
  {
   "cell_type": "markdown",
   "id": "61b1ae95",
   "metadata": {},
   "source": [
    "## XML(Extension Markup Language)\n",
    "\n",
    "+ https://docs.python.org/3/library/xml.etree.elementtree.html?highlight=xml#xml.etree.ElementTree.XML\n",
    "\n",
    "    1.특징\n",
    "        1) 메타 언어 : GML -> SGML -> XML\n",
    "        2) 데이터를 위한 언어\n",
    "        3) 데이터베이스 용도\n",
    "        4) 데이터 표준화 : 이 기종 시스템간의 정보교환, 웹서비스, 유비쿼터스, 사물인터넷 기타등등...\n",
    "    \n",
    "    2. 문법(물리적인 구성요소)\n",
    "        1) XML(.xml)\n",
    "        2) DTD(.dtd) : XML 작성을 위한 설계문서\n",
    "        3) XML Schema(.xsd) : XML 작성을 위한 설계문서\n",
    "        4) XSL(.xsl, xslt) : XML문서에 스타일을 입혀주는 언어\n",
    "        \n",
    "    3. 결과 문서의 종류\n",
    "        1) Well-Formed XML Document(잘 짜여진 문서)\n",
    "        2) Valid XML Document(유효한 문서)\n",
    "   \n",
    "    4. Element 문법\n",
    "        - 작성 규칙\n",
    "            a) 모든 XML문서는 반드시 단 하나의 루트 엘리먼트를 가진다.\n",
    "            b) 루트 엘리먼트는 여러 개의 자식 엘리먼트를 가질 수 있고\n",
    "                또 그 자식도 자신의 자식을 가질 수 있다.\n",
    "            c) 시작태그와 끝태그는 반드시 짝을 이루어야 한다.\n",
    "            d) \"<\"는 값으로 사용 불가. \">\"는 사용할 수 있으나 가급적 사용 금지\n",
    "            e) \"<\"와 \">\" 다음에 공백문자가 올 수 없으며 반드시 시작태그와 끝태그의 이름이 같아야 한다.\n",
    "\n",
    "        - 종류\n",
    "            a) 내용을 가지는 엘리먼트\n",
    "            b) 내용이 없는 엘리먼트\n",
    "\n",
    "        - 내용에 대한 종류\n",
    "            a) 문자 데이터\n",
    "            b) 자식 엘리먼트\n",
    "            c) 엔티티 또는 문자 참조\n",
    "            d) CDATA Section\n",
    "            e) 프로세싱 지시자\n",
    "            f) 주석 : <!-- 주석 내용 -->\n",
    "            g) 공백 문자열\n",
    "\n",
    "    5. DTD \n",
    "        - 종류\n",
    "            내부 DTD\n",
    "            외부 DTD\n",
    "        \n",
    "        - 구성 요소\n",
    "            엘리먼트 선언\n",
    "            속성(attribute) 선언\n",
    "            Entity 선언\n",
    "            Notation 선언\n",
    "            프로세싱 지시자\n",
    "            파라미터 엔티티 참조\n",
    "            주석\n",
    "            공백\n",
    "            conditional section\n",
    "\n",
    "        - 문서 유형 선언\n",
    "            <!DOCTYPE 루트엘리먼트명 SYSTEM 또는 PUBLIC \"식별자\">\n",
    "                DOCTYPE은 반드시 대문자\n",
    "                SYSTEM은 특정 단체나 업체내부에서 사용되는 경우\n",
    "                PUBLIC은 공개\n",
    "                식별자는 다운로드 받을 수 있는 경로\n",
    "                PUBLIC일 경우 추가된 식별자\n",
    "                +-//DTD를 개발 및 유지보수 업체명//DTD명 및 버전번호//사용된 언어\n",
    "\n",
    "        - 엘리먼트 선언\n",
    "            <!ELEMENT 엘리먼트명 컨텐트 유형>\n",
    "                컨텐트 유형\n",
    "                    #PCDATA\t: 내용으로 문자데이터만 갖는 엘리먼트\n",
    "                    자식 엘리먼트\n",
    "                        , : 작성 순서\n",
    "                        | : 선택\n",
    "                        ? : 생략하거나 한번만 작성\n",
    "                        + : 한번 이상\n",
    "                        * : 생략하거나 여러번 작성\n",
    "                        기호 없음 : 단 한번만 작성\n",
    "                    EMPTY\n",
    "                    MIXED : 문자데이터 또는 자식엘리먼트를 혼합형태\n",
    "                    ANY\n",
    "\n",
    "        - ATTRIBUTE 선언\n",
    "            <!ATTLIST 엘리먼트명 속성명 속성유형 디폴트선언>\n",
    "                속성 유형\n",
    "                    CDATA :  문자 데이터\n",
    "                    ENUMERATION\t: dtd에 나열된 값 중 하나가 와야 함\n",
    "                    ID : 유일한 값을 지정\n",
    "                    IDREF/IDREFS : ID값을 참조\n",
    "                    NMTOKEN/NMTOKENS : 이름 작성 규칙을 준수하는 데이터만 사용\n",
    "                    NOTATION : dtd에 명시적으로 선언된 notation만 사용가능\n",
    "                    ENTITY : dtd에 명시적으로 선언된 entity만 사용 가능\n",
    "                    \n",
    "        - validation check\n",
    "            https://www.xmlvalidation.com/\n",
    "\n",
    "    6. 네임 스페이스\n",
    "        CML\n",
    "        -----\n",
    "            <?xml version=1.0>\n",
    "            <정보>\n",
    "                <고유번호>111111-1111111</고유번호>\n",
    "                <이름>홍길동</이름>\n",
    "                ...\n",
    "            </정보>\n",
    "\n",
    "        PML\n",
    "        -----\n",
    "            <?xml version=1.0>\n",
    "            <정보>\n",
    "                <고유번호>LC100</고유번호>\n",
    "                <이름>캠코더</이름>\n",
    "                ...\n",
    "            </정보>\n",
    "\n",
    "        OML\n",
    "        -----\n",
    "            <?xml version=1.0>\n",
    "            <주문정보 xmlns:고객=\"http://www.a.com/2017/Custom\"\n",
    "                xmlns:상품=\"http://www.a.com/2017/Product\"\n",
    "                xmlns=\"http://www.a.com/2017/Order\">\n",
    "                <주문번호>1</주문번호>\n",
    "                <주문수량>10</주문수량>\n",
    "                <결제>\n",
    "                    <방법>현금</방법>\n",
    "                    <금액>10000000</금액>\n",
    "                </결제>\n",
    "\n",
    "                <고객:고유번호>111111-1111111</고객:고유번호>\n",
    "                <고객:이름>홍길동</고객:이름>\n",
    "\n",
    "                <상품:고유번호>LC100</상품:고유번호>\n",
    "                <상품:이름>캠코더</상품:이름>\n",
    "                ...\n",
    "            </주문정보>"
   ]
  },
  {
   "cell_type": "code",
   "execution_count": 21,
   "id": "e35dbf6a",
   "metadata": {},
   "outputs": [],
   "source": [
    "import xml.etree.ElementTree as elemTree\n",
    "\n",
    "###### XML을 사용하는 방법\n",
    "# 1. XML파일로 존재하는 경우 : parse()\n",
    "# 2. XML 문자열로 존재하는 경우 : fromstring()"
   ]
  },
  {
   "cell_type": "markdown",
   "id": "8bdb08f3",
   "metadata": {},
   "source": [
    "### 1. XML 데이터 불러오기"
   ]
  },
  {
   "cell_type": "code",
   "execution_count": 3,
   "id": "ee682ed2",
   "metadata": {},
   "outputs": [
    {
     "data": {
      "text/plain": [
       "<xml.etree.ElementTree.ElementTree at 0x19c7fe3b610>"
      ]
     },
     "execution_count": 3,
     "metadata": {},
     "output_type": "execute_result"
    }
   ],
   "source": [
    "tree1 = elemTree.parse(\"data/users.xml\")\n",
    "tree1"
   ]
  },
  {
   "cell_type": "code",
   "execution_count": 6,
   "id": "304846da",
   "metadata": {},
   "outputs": [
    {
     "data": {
      "text/plain": [
       "<Element 'users' at 0x000001D8ABADF7C0>"
      ]
     },
     "execution_count": 6,
     "metadata": {},
     "output_type": "execute_result"
    }
   ],
   "source": [
    "xmlstr = \"\"\"<?xml version=\"1.0\" encoding=\"utf-8\" ?>\n",
    "<users>\n",
    "    <user grade=\"gold\">\n",
    "            <name>Kim Cheol Soo</name>\n",
    "            <age>25</age>\n",
    "            <birthday>19940215</birthday>\n",
    "        </user>\n",
    "    <user grade=\"diamond\">\n",
    "            <name>Kim Yoo Mee</name>\n",
    "            <age>21</age>\n",
    "            <birthday>19980417</birthday>\n",
    "        </user>\n",
    "</users>\n",
    "\"\"\"\n",
    "\n",
    "tree2 = elemTree.fromstring(xmlstr)\n",
    "tree2"
   ]
  },
  {
   "cell_type": "markdown",
   "id": "7c1d928c",
   "metadata": {},
   "source": [
    "### 2. XML 데이터 다루기"
   ]
  },
  {
   "cell_type": "markdown",
   "id": "18c67180",
   "metadata": {},
   "source": [
    "#### (1) 태그명 검색"
   ]
  },
  {
   "cell_type": "code",
   "execution_count": 4,
   "id": "56acdfb7",
   "metadata": {},
   "outputs": [],
   "source": [
    "tree1.find(\"user\")\n",
    "tree1.find(\"user[1]\")\n",
    "data = tree1.find(\"user[2]\")"
   ]
  },
  {
   "cell_type": "code",
   "execution_count": 8,
   "id": "a0fe1dc8",
   "metadata": {},
   "outputs": [
    {
     "name": "stdout",
     "output_type": "stream",
     "text": [
      "<Element 'user' at 0x0000019C04597180>\n",
      "<class 'xml.etree.ElementTree.Element'>\n",
      "user\n",
      "{'grade': 'diamond'}\n",
      "diamond\n",
      "----------------------------------------\n",
      "name\n",
      "{}\n",
      "Kim Yoo Mee\n"
     ]
    }
   ],
   "source": [
    "print(data)\n",
    "print(type(data))\n",
    "dir(data)\n",
    "print(data.tag)\n",
    "print(data.attrib)\n",
    "print(data.get(\"grade\"))\n",
    "\n",
    "print(\"----------------------------------------\")\n",
    "\n",
    "username = data.find(\"name\")\n",
    "print(username.tag)\n",
    "print(username.attrib)\n",
    "print(username.text)"
   ]
  },
  {
   "cell_type": "markdown",
   "id": "7a491e67",
   "metadata": {},
   "source": [
    "#### (2) 태그 조건으로 검색"
   ]
  },
  {
   "cell_type": "code",
   "execution_count": 12,
   "id": "afc31a6f",
   "metadata": {},
   "outputs": [
    {
     "name": "stdout",
     "output_type": "stream",
     "text": [
      "{'grade': 'diamond'}\n",
      "['grade']\n",
      "[('grade', 'diamond')]\n"
     ]
    }
   ],
   "source": [
    "#data = tree1.find(\"./user[@grade]\")\n",
    "#data = tree1.find(\"./user[@grade][1]\")\n",
    "#data = tree1.find(\"./user[@grade][2]\")\n",
    "data = tree1.find(\"./user[@grade='diamond']\")\n",
    "\n",
    "print(data.attrib)\n",
    "print(data.keys())\n",
    "print(data.items())"
   ]
  },
  {
   "cell_type": "markdown",
   "id": "40e2bb3d",
   "metadata": {},
   "source": [
    "#### (3) 여러 개의 태그를 한꺼번에 가져오기"
   ]
  },
  {
   "cell_type": "code",
   "execution_count": 16,
   "id": "4dfc7bd6",
   "metadata": {},
   "outputs": [
    {
     "name": "stdout",
     "output_type": "stream",
     "text": [
      "{'grade': 'gold'}\n",
      "Kim Cheol Soo\n",
      "{'grade': 'diamond'}\n",
      "Kim Yoo Mee\n"
     ]
    }
   ],
   "source": [
    "users = tree1.findall(\"./user\")\n",
    "users\n",
    "\n",
    "for user in users:\n",
    "    print(user.attrib)\n",
    "    print(user.find(\"name\").text)"
   ]
  },
  {
   "cell_type": "markdown",
   "id": "fcc66d32",
   "metadata": {},
   "source": [
    "#### (4) document sample"
   ]
  },
  {
   "cell_type": "code",
   "execution_count": 24,
   "id": "c37fc42c",
   "metadata": {},
   "outputs": [],
   "source": [
    "str = \"\"\"<?xml version=\"1.0\"?>\n",
    "<data>\n",
    "    <country name=\"Liechtenstein\">\n",
    "        <rank>1</rank>\n",
    "        <year>2008</year>\n",
    "        <gdppc>141100</gdppc>\n",
    "        <neighbor name=\"Austria\" direction=\"E\" />\n",
    "        <neighbor name=\"Switzerland\" direction=\"W\"/>\n",
    "    </country>\n",
    "    <country name=\"Singapore\">\n",
    "        <rank>4</rank>\n",
    "        <year>2011</year>\n",
    "        <gdppc>59900</gdppc>\n",
    "        <neighbor name=\"Malaysia\" direction=\"N\"/>\n",
    "    </country>\n",
    "    <country name=\"Panama\">\n",
    "        <rank>68</rank>\n",
    "        <year>2011</year>\n",
    "        <gdppc>13600</gdppc>\n",
    "        <neighbor name=\"Costa Rica\" direction=\"W\"/>\n",
    "        <neighbor name=\"Colombia\" direction=\"E\"/>\n",
    "    </country>\n",
    "</data>\n",
    "\"\"\"\n",
    "\n",
    "tree3 = elemTree.fromstring(str)"
   ]
  },
  {
   "cell_type": "code",
   "execution_count": 25,
   "id": "13ce3afd",
   "metadata": {},
   "outputs": [
    {
     "name": "stdout",
     "output_type": "stream",
     "text": [
      "Malaysia\n",
      "-------------------------------------------------------\n",
      "W\n",
      "-------------------------------------------------------\n"
     ]
    },
    {
     "data": {
      "text/plain": [
       "[<Element 'country' at 0x0000019C06CDC450>,\n",
       " <Element 'country' at 0x0000019C06CF59F0>,\n",
       " <Element 'country' at 0x0000019C06CF5B80>]"
      ]
     },
     "execution_count": 25,
     "metadata": {},
     "output_type": "execute_result"
    }
   ],
   "source": [
    "# Singapore에 있는 이웃나라 이름은? Malaysia\n",
    "# Panama에 있는 이웃나라 중 Costa Rica의 방향은? W\n",
    "# 각 나라의 gdppc를 조회\n",
    "# 각 나라의 인접국가 조회\n",
    "\n",
    "country = tree3.find(\"./country[@name='Singapore']\")\n",
    "neighbor = country.find(\"neighbor\")\n",
    "print(neighbor.get(\"name\"))\n",
    "\n",
    "print(\"-------------------------------------------------------\")\n",
    "\n",
    "country = tree3.find(\"./country[@name='Panama']\")\n",
    "neighbor = country.find(\"neighbor[@name='Costa Rica']\")\n",
    "print(neighbor.get(\"direction\"))\n",
    "\n",
    "print(\"-------------------------------------------------------\")\n",
    "\n",
    "countrys = tree3.findall(\"./country\")\n",
    "countrys"
   ]
  },
  {
   "cell_type": "code",
   "execution_count": 30,
   "id": "036ba37e",
   "metadata": {},
   "outputs": [
    {
     "data": {
      "text/plain": [
       "<Element 'rss' at 0x0000019C06B95E50>"
      ]
     },
     "execution_count": 30,
     "metadata": {},
     "output_type": "execute_result"
    }
   ],
   "source": [
    "import requests as req\n",
    "health = req.get(\"http://www.k-health.com/rss/allArticle.xml\")\n",
    "tree4 = elemTree.fromstring(health.text)\n",
    "tree4"
   ]
  },
  {
   "cell_type": "markdown",
   "id": "357cdb12",
   "metadata": {},
   "source": [
    "## JSON(Javascript Object Notation)"
   ]
  },
  {
   "cell_type": "code",
   "execution_count": 31,
   "id": "473621a2",
   "metadata": {},
   "outputs": [],
   "source": [
    "import json\n",
    "\n",
    "# dumps() : 데이터를 저장\n",
    "# loads() : 데이터를 불러올 때"
   ]
  },
  {
   "cell_type": "code",
   "execution_count": 41,
   "id": "c868dca6",
   "metadata": {
    "collapsed": true
   },
   "outputs": [
    {
     "name": "stdout",
     "output_type": "stream",
     "text": [
      "<class 'dict'>\n",
      "{'name': '홍길동', 'birth': '0101', 'age': 20}\n",
      "-------------------------------------------\n",
      "<class 'str'>\n",
      "{\n",
      "  \"name\": \"\\ud64d\\uae38\\ub3d9\",\n",
      "  \"birth\": \"0101\",\n",
      "  \"age\": 20\n",
      "}\n",
      "-------------------------------------------\n",
      "[1, 2, 3]\n",
      "<class 'str'>\n",
      "-------------------------------------------\n",
      "{'name': '홍길동', 'birth': '0101', 'age': 20}\n",
      "<class 'dict'>\n"
     ]
    }
   ],
   "source": [
    "j1 = {\"name\":\"홍길동\", \"birth\":\"0101\", \"age\":20}\n",
    "print(type(j1))\n",
    "print(j1)\n",
    "\n",
    "print(\"-------------------------------------------\")\n",
    "\n",
    "#j2 = json.dumps(j1)\n",
    "j2 = json.dumps(j1, indent=2)\n",
    "print(type(j2))\n",
    "print(j2)\n",
    "\n",
    "print(\"-------------------------------------------\")\n",
    "\n",
    "# j3 = json.dumps([1, 2, 3])\n",
    "j3 = json.dumps((1, 2, 3))\n",
    "print(j3)\n",
    "print(type(j3))\n",
    "\n",
    "print(\"-------------------------------------------\")\n",
    "\n",
    "j4 = json.loads(j2)\n",
    "print(j4)\n",
    "print(type(j4))"
   ]
  },
  {
   "cell_type": "code",
   "execution_count": 42,
   "id": "58b7dd2b",
   "metadata": {},
   "outputs": [
    {
     "name": "stdout",
     "output_type": "stream",
     "text": [
      "<class 'str'>\n"
     ]
    }
   ],
   "source": [
    "obj = \"\"\"\n",
    "{\n",
    "\t\"id\": \"0001\",\n",
    "\t\"type\": \"donut\",\n",
    "\t\"name\": \"Cake\",\n",
    "\t\"ppu\": 0.55,\n",
    "\t\"batters\":\n",
    "\t\t{\n",
    "\t\t\t\"batter\":\n",
    "\t\t\t\t[\n",
    "\t\t\t\t\t{ \"id\": \"1001\", \"type\": \"Regular\" },\n",
    "\t\t\t\t\t{ \"id\": \"1002\", \"type\": \"Chocolate\" },\n",
    "\t\t\t\t\t{ \"id\": \"1003\", \"type\": \"Blueberry\" },\n",
    "\t\t\t\t\t{ \"id\": \"1004\", \"type\": \"Devil's Food\" }\n",
    "\t\t\t\t]\n",
    "\t\t},\n",
    "\t\"topping\":\n",
    "\t\t[\n",
    "\t\t\t{ \"id\": \"5001\", \"type\": \"None\" },\n",
    "\t\t\t{ \"id\": \"5002\", \"type\": \"Glazed\" },\n",
    "\t\t\t{ \"id\": \"5005\", \"type\": \"Sugar\" },\n",
    "\t\t\t{ \"id\": \"5007\", \"type\": \"Powdered Sugar\" },\n",
    "\t\t\t{ \"id\": \"5006\", \"type\": \"Chocolate with Sprinkles\" },\n",
    "\t\t\t{ \"id\": \"5003\", \"type\": \"Chocolate\" },\n",
    "\t\t\t{ \"id\": \"5004\", \"type\": \"Maple\" }\n",
    "\t\t]\n",
    "}\n",
    "\"\"\"\n",
    "\n",
    "print(type(obj))"
   ]
  },
  {
   "cell_type": "code",
   "execution_count": 48,
   "id": "cefb70db",
   "metadata": {},
   "outputs": [
    {
     "name": "stdout",
     "output_type": "stream",
     "text": [
      "{'id': '0001', 'type': 'donut', 'name': 'Cake', 'ppu': 0.55, 'batters': {'batter': [{'id': '1001', 'type': 'Regular'}, {'id': '1002', 'type': 'Chocolate'}, {'id': '1003', 'type': 'Blueberry'}, {'id': '1004', 'type': \"Devil's Food\"}]}, 'topping': [{'id': '5001', 'type': 'None'}, {'id': '5002', 'type': 'Glazed'}, {'id': '5005', 'type': 'Sugar'}, {'id': '5007', 'type': 'Powdered Sugar'}, {'id': '5006', 'type': 'Chocolate with Sprinkles'}, {'id': '5003', 'type': 'Chocolate'}, {'id': '5004', 'type': 'Maple'}]}\n",
      "<class 'dict'>\n",
      "-------------------------------------\n",
      "0001\n",
      "-------------------------------------\n",
      "1001\n"
     ]
    }
   ],
   "source": [
    "result = json.loads(obj)\n",
    "print(result)\n",
    "print(type(result))\n",
    "\n",
    "print(\"-------------------------------------\")\n",
    "\n",
    "print(result[\"id\"])\n",
    "\n",
    "print(\"-------------------------------------\")\n",
    "\n",
    "print(result[\"batters\"][\"batter\"][0][\"id\"])"
   ]
  },
  {
   "cell_type": "markdown",
   "id": "82dee441",
   "metadata": {},
   "source": [
    "## BeautifulSoup"
   ]
  },
  {
   "cell_type": "markdown",
   "id": "c4882643",
   "metadata": {},
   "source": [
    "#### (1) 웹 소스 가져오기"
   ]
  },
  {
   "cell_type": "code",
   "execution_count": 49,
   "id": "257a0bff",
   "metadata": {},
   "outputs": [],
   "source": [
    "import urllib.request as req\n",
    "from urllib.request import urlopen\n",
    "from urllib.error import HTTPError, URLError"
   ]
  },
  {
   "cell_type": "code",
   "execution_count": 56,
   "id": "e4b6c77c",
   "metadata": {
    "collapsed": true
   },
   "outputs": [
    {
     "name": "stdout",
     "output_type": "stream",
     "text": [
      "<class 'bytes'>\n",
      "b'<!doctype html><html itemscope=\"\" itemtype=\"http://schema.org/WebPage\" lang=\"ko\"><head><meta content=\"text/html; charset=UTF-8\" http-equiv=\"Content-Type\"><meta content=\"/images/branding/googleg/1x/googleg_standard_color_128dp.png\" itemprop=\"image\"><title>Google</title><script nonce=\"SwHlczCBy/W5QkPZ0LfCFg==\">(function(){window.google={kEI:\\'3OWJYfzCLafQ1sQPiN2uyAk\\',kEXPI:\\'0,1302536,56873,6058,207,4804,2316,383,246,5,1354,5250,1122516,1197746,623,32,328866,51224,16114,17444,11240,17572,4859,1361,9291,3022,2822,9923,4841,4020,978,13228,3847,4192,6430,7432,14390,919,5081,889,704,1279,2212,530,149,1103,840,1986,211,4100,3514,606,2023,1777,522,14668,3227,2845,7,5599,6755,5096,7539,8781,908,2,941,15756,3,346,230,6459,149,13975,4,1528,2304,7039,4684,2014,18375,2658,6701,656,30,901,4715,8012,2305,2132,16786,651,5164,2542,4094,3140,4,908,3,3541,1,16524,283,38,874,5992,16728,1715,2,3036,10986,1931,3909,1680,127,617,2350,3502,10463,1160,1266,5433,2381,2719,5189,4087,745,4148,4109,2,6,7736,4568,2578,3120,290,268,4017,2,1,3,2612,85,3781,2,2934,1503,3146,545,265,3488,1037,5840,2,6,778,414,46,1169,804,1300,940,8,237,535,195,1877,701,69,2923,1755,2,1298,499,656,286,1294,833,11,2,327,2,1,1096,330,3,2,20,3,2,121,19,732,1793,222,327,153,1140,131,363,115,3,424,668,60,632,399,20,169,4,37,7,31,34,410,36,2,2,1,919,26,136,1126,5,511,159,425,251,1007,277,287,561,83,177,433,14,498,247,538,3417,220,439,34,150,405,55,754,652,34,184,178,2,102,126,401,174,155,5,591,498,967,818,22,676,127,672,1662,5533923,3893,446,1802889,4193979,12,199,2800486,882,444,1,2,80,1,1796,1,9,2553,1,748,141,801,557,1,4265,1,1,2,1331,4142,2609,155,17,13,72,139,4,2,20,2,169,13,19,46,5,39,96,548,29,2,2,1,2,1,2,2,7,4,1,2,2,2,2,2,2,353,513,186,1,1,158,3,2,2,2,2,2,4,2,3,3,269,1033,197,17,10,3,28,22,20,2,44,4,17,5,6,23953315,2773819,1264751,3,2778,338,3,2414,1491,9,1435,1517,291,115,557,2598,1929,1702,160,811363\\',kBL:\\'gQ1a\\'};google.sn=\\'webhp\\';google.kHL=\\'ko\\';})();(function(){\\nvar f=this||self;var h,k=[];function l(a){for(var b;a&&(!a.getAttribute||!(b=a.getAttribute(\"eid\")));)a=a.parentNode;return b||h}function m(a){for(var b=null;a&&(!a.getAttribute||!(b=a.getAttribute(\"leid\")));)a=a.parentNode;return b}\\nfunction n(a,b,c,d,g){var e=\"\";c||-1!==b.search(\"&ei=\")||(e=\"&ei=\"+l(d),-1===b.search(\"&lei=\")&&(d=m(d))&&(e+=\"&lei=\"+d));d=\"\";!c&&f._cshid&&-1===b.search(\"&cshid=\")&&\"slh\"!==a&&(d=\"&cshid=\"+f._cshid);c=c||\"/\"+(g||\"gen_204\")+\"?atyp=i&ct=\"+a+\"&cad=\"+b+e+\"&zx=\"+Date.now()+d;/^http:/i.test(c)&&\"https:\"===window.location.protocol&&(google.ml&&google.ml(Error(\"a\"),!1,{src:c,glmm:1}),c=\"\");return c};h=google.kEI;google.getEI=l;google.getLEI=m;google.ml=function(){return null};google.log=function(a,b,c,d,g){if(c=n(a,b,c,d,g)){a=new Image;var e=k.length;k[e]=a;a.onerror=a.onload=a.onabort=function(){delete k[e]};a.src=c}};google.logUrl=n;}).call(this);(function(){\\ngoogle.y={};google.sy=[];google.x=function(a,b){if(a)var c=a.id;else{do c=Math.random();while(google.y[c])}google.y[c]=[a,b];return!1};google.sx=function(a){google.sy.push(a)};google.lm=[];google.plm=function(a){google.lm.push.apply(google.lm,a)};google.lq=[];google.load=function(a,b,c){google.lq.push([[a],b,c])};google.loadAll=function(a,b){google.lq.push([a,b])};google.bx=!1;google.lx=function(){};}).call(this);google.f={};(function(){\\ndocument.documentElement.addEventListener(\"submit\",function(b){var a;if(a=b.target){var c=a.getAttribute(\"data-submitfalse\");a=\"1\"===c||\"q\"===c&&!a.elements.q.value?!0:!1}else a=!1;a&&(b.preventDefault(),b.stopPropagation())},!0);document.documentElement.addEventListener(\"click\",function(b){var a;a:{for(a=b.target;a&&a!==document.documentElement;a=a.parentElement)if(\"A\"===a.tagName){a=\"1\"===a.getAttribute(\"data-nohref\");break a}a=!1}a&&b.preventDefault()},!0);}).call(this);</script><style>#gbar,#guser{font-size:13px;padding-top:1px !important;}#gbar{height:22px}#guser{padding-bottom:7px !important;text-align:right}.gbh,.gbd{border-top:1px solid #c9d7f1;font-size:1px}.gbh{height:0;position:absolute;top:24px;width:100%}@media all{.gb1{height:22px;margin-right:.5em;vertical-align:top}#gbar{float:left}}a.gb1,a.gb4{text-decoration:underline !important}a.gb1,a.gb4{color:#00c !important}.gbi .gb4{color:#dd8e27 !important}.gbf .gb4{color:#900 !important}\\n</style><style>body,td,a,p,.h{font-family:&#44404;&#47548;,&#46027;&#50880;,arial,sans-serif}.ko{font-size:9pt}body{margin:0;overflow-y:scroll}#gog{padding:3px 8px 0}td{line-height:.8em}.gac_m td{line-height:17px}form{margin-bottom:20px}.h{color:#1558d6}em{font-weight:bold;font-style:normal}.lst{height:25px;width:496px}.gsfi,.lst{font:18px arial,sans-serif}.gsfs{font:17px arial,sans-serif}.ds{display:inline-box;display:inline-block;margin:3px 0 4px;margin-left:4px}input{font-family:inherit}body{background:#fff;color:#000}a{color:#4b11a8;text-decoration:none}a:hover,a:active{text-decoration:underline}.fl a{color:#1558d6}a:visited{color:#4b11a8}.sblc{padding-top:5px}.sblc a{display:block;margin:2px 0;margin-left:13px;font-size:11px}.lsbb{background:#f8f9fa;border:solid 1px;border-color:#dadce0 #70757a #70757a #dadce0;height:30px}.lsbb{display:block}#WqQANb a{display:inline-block;margin:0 12px}.lsb{background:url(/images/nav_logo229.png) 0 -261px repeat-x;border:none;color:#000;cursor:pointer;height:30px;margin:0;outline:0;font:15px arial,sans-serif;vertical-align:top}.lsb:active{background:#dadce0}.lst:focus{outline:none}.tiah{width:458px}</style><script nonce=\"SwHlczCBy/W5QkPZ0LfCFg==\">(function(){window.google.erd={sp:\\'hp\\',jsr:0,bv:1471,de:true};\\nvar f=this||self;var g,h,k=null!==(g=f.mei)&&void 0!==g?g:1,l=null!==(h=f.sdo)&&void 0!==h?h:!0,n=0,p,q=google.erd,t=q.jsr;google.ml=function(a,b,e,m,d){d=void 0===d?2:d;b&&(p=a&&a.message);if(google.dl)return google.dl(a,d,e),null;if(0>t){window.console&&console.error(a,e);if(-2===t)throw a;b=!1}else b=!a||!a.message||\"Error loading script\"===a.message||n>=k&&!m?!1:!0;if(!b)return null;n++;e=e||{};b=encodeURIComponent;var c=\"/gen_204?atyp=i&ei=\"+b(google.kEI);google.kEXPI&&(c+=\"&jexpid=\"+b(google.kEXPI));c+=\"&srcpg=\"+b(google.sn)+\"&jsr=\"+b(q.jsr)+\"&bver=\"+b(q.bv)+(\"&jsel=\"+d);for(var r in e)c+=\"&\",c+=b(r),c+=\"=\",c+=\\nb(e[r]);c=c+\"&emsg=\"+b(a.name+\": \"+a.message);c=c+\"&jsst=\"+b(a.stack||\"N/A\");12288<=c.length&&(c=c.substr(0,12288));a=c;m||google.log(0,\"\",a);return a};window.onerror=function(a,b,e,m,d){p!==a&&google.ml(d instanceof Error?d:Error(a),!1,void 0,!1,!d||d instanceof SyntaxError?2:0);p=null;l&&n>=k&&(window.onerror=null)};})();</script></head><body bgcolor=\"#fff\"><script nonce=\"SwHlczCBy/W5QkPZ0LfCFg==\">(function(){var src=\\'/images/nav_logo229.png\\';var iesg=false;document.body.onload = function(){window.n && window.n();if (document.images){new Image().src=src;}\\nif (!iesg){document.f&&document.f.q.focus();document.gbqf&&document.gbqf.q.focus();}\\n}\\n})();</script><div id=\"mngb\"><div id=gbar><nobr><b class=gb1>&#44160;&#49353;</b> <a class=gb1 href=\"https://www.google.co.kr/imghp?hl=ko&tab=wi\">&#51060;&#48120;&#51648;</a> <a class=gb1 href=\"https://maps.google.co.kr/maps?hl=ko&tab=wl\">&#51648;&#46020;</a> <a class=gb1 href=\"https://play.google.com/?hl=ko&tab=w8\">Play</a> <a class=gb1 href=\"https://www.youtube.com/?gl=KR&tab=w1\">YouTube</a> <a class=gb1 href=\"https://news.google.com/?tab=wn\">&#45684;&#49828;</a> <a class=gb1 href=\"https://mail.google.com/mail/?tab=wm\">Gmail</a> <a class=gb1 href=\"https://drive.google.com/?tab=wo\">&#46300;&#46972;&#51060;&#48652;</a> <a class=gb1 style=\"text-decoration:none\" href=\"https://www.google.co.kr/intl/ko/about/products?tab=wh\"><u>&#45908;&#48372;&#44592;</u> &raquo;</a></nobr></div><div id=guser width=100%><nobr><span id=gbn class=gbi></span><span id=gbf class=gbf></span><span id=gbe></span><a href=\"http://www.google.co.kr/history/optout?hl=ko\" class=gb4>&#50937; &#44592;&#47197;</a> | <a  href=\"/preferences?hl=ko\" class=gb4>&#49444;&#51221;</a> | <a target=_top id=gb_70 href=\"https://accounts.google.com/ServiceLogin?hl=ko&passive=true&continue=https://www.google.com/&ec=GAZAAQ\" class=gb4>&#47196;&#44536;&#51064;</a></nobr></div><div class=gbh style=left:0></div><div class=gbh style=right:0></div></div><center><br clear=\"all\" id=\"lgpd\"><div id=\"lga\"><img alt=\"Google\" height=\"92\" src=\"/images/branding/googlelogo/1x/googlelogo_white_background_color_272x92dp.png\" style=\"padding:28px 0 14px\" width=\"272\" id=\"hplogo\"><br><br></div><form action=\"/search\" name=\"f\"><table cellpadding=\"0\" cellspacing=\"0\"><tr valign=\"top\"><td width=\"25%\">&nbsp;</td><td align=\"center\" nowrap=\"\"><input name=\"ie\" value=\"ISO-8859-1\" type=\"hidden\"><input value=\"ko\" name=\"hl\" type=\"hidden\"><input name=\"source\" type=\"hidden\" value=\"hp\"><input name=\"biw\" type=\"hidden\"><input name=\"bih\" type=\"hidden\"><div class=\"ds\" style=\"height:32px;margin:4px 0\"><div style=\"position:relative;zoom:1\"><input class=\"lst tiah\" style=\"margin:0;padding:5px 8px 0 6px;vertical-align:top;color:#000;padding-right:38px\" autocomplete=\"off\" value=\"\" title=\"Google &#44160;&#49353;\" maxlength=\"2048\" name=\"q\" size=\"57\"><img src=\"/textinputassistant/tia.png\" style=\"position:absolute;cursor:pointer;right:5px;top:4px;z-index:300\" data-script-url=\"/textinputassistant/11/ko_tia.js\" id=\"tsuid1\" alt=\"\" height=\"23\" width=\"27\"><script nonce=\"SwHlczCBy/W5QkPZ0LfCFg==\">(function(){var id=\\'tsuid1\\';document.getElementById(id).onclick = function(){var s = document.createElement(\\'script\\');s.src = this.getAttribute(\\'data-script-url\\');(document.getElementById(\\'xjsc\\')||document.body).appendChild(s);};})();</script></div></div><br style=\"line-height:0\"><span class=\"ds\"><span class=\"lsbb\"><input class=\"lsb\" value=\"Google &#44160;&#49353;\" name=\"btnG\" type=\"submit\"></span></span><span class=\"ds\"><span class=\"lsbb\"><input class=\"lsb\" id=\"tsuid2\" value=\"I&#8217;m Feeling Lucky\" name=\"btnI\" type=\"submit\"><script nonce=\"SwHlczCBy/W5QkPZ0LfCFg==\">(function(){var id=\\'tsuid2\\';document.getElementById(id).onclick = function(){if (this.form.q.value){this.checked = 1;if (this.form.iflsig)this.form.iflsig.disabled = false;}\\nelse top.location=\\'/doodles/\\';};})();</script><input value=\"ALs-wAMAAAAAYYnz7KPHs9DOdDdvOC72TioDNqPPOG3m\" name=\"iflsig\" type=\"hidden\"></span></span></td><td class=\"fl sblc\" align=\"left\" nowrap=\"\" width=\"25%\"><a href=\"/advanced_search?hl=ko&amp;authuser=0\">&#44256;&#44553;&#44160;&#49353;</a></td></tr></table><input id=\"gbv\" name=\"gbv\" type=\"hidden\" value=\"1\"><script nonce=\"SwHlczCBy/W5QkPZ0LfCFg==\">(function(){\\nvar a,b=\"1\";if(document&&document.getElementById)if(\"undefined\"!=typeof XMLHttpRequest)b=\"2\";else if(\"undefined\"!=typeof ActiveXObject){var c,d,e=[\"MSXML2.XMLHTTP.6.0\",\"MSXML2.XMLHTTP.3.0\",\"MSXML2.XMLHTTP\",\"Microsoft.XMLHTTP\"];for(c=0;d=e[c++];)try{new ActiveXObject(d),b=\"2\"}catch(h){}}a=b;if(\"2\"==a&&-1==location.search.indexOf(\"&gbv=2\")){var f=google.gbvu,g=document.getElementById(\"gbv\");g&&(g.value=a);f&&window.setTimeout(function(){location.href=f},0)};}).call(this);</script></form><div id=\"gac_scont\"></div><div style=\"font-size:83%;min-height:3.5em\"><br><div id=\"prm\"><style>.szppmdbYutt__middle-slot-promo{font-size:small;margin-bottom:32px}.szppmdbYutt__middle-slot-promo a.ZIeIlb{display:inline-block;text-decoration:none}.szppmdbYutt__middle-slot-promo img{border:none;margin-right:5px;vertical-align:middle}</style><div class=\"szppmdbYutt__middle-slot-promo\" data-ved=\"0ahUKEwj8oK69por0AhUnqJUCHYiuC5kQnIcBCAQ\"><a class=\"NKcBbd\" href=\"https://www.google.com/url?q=https://www.google.com/search%3Fq%3D%25EA%25B0%2580%25EA%25B9%258C%25EC%259A%25B4%2B%25EC%25BD%2594%25EB%25A1%259C%25EB%2582%259819%2B%25EC%2584%25A0%25EB%25B3%2584%2B%25EA%25B2%2580%25EC%2582%25AC%25EC%2586%258C%26source%3Dsmp.APACCovid21.100%26stick%3DH4sIAAAAAAAAADu04eRyNnYpVoFlihKMAC9qjrkNAAAA&amp;source=hpp&amp;id=19026555&amp;ct=3&amp;usg=AFQjCNGxvoDGqTUrEEllwB5TcA6qMVLPLg&amp;sa=X&amp;ved=0ahUKEwj8oK69por0AhUnqJUCHYiuC5kQ8IcBCAU\" rel=\"nofollow\">&#44032;&#44620;&#50868; &#53076;&#47196;&#45208;19 &#49440;&#48324;&#51652;&#47308;&#49548;&#47484; &#54869;&#51064;&#54616;&#49464;&#50836;</a></div></div></div><span id=\"footer\"><div style=\"font-size:10pt\"><div style=\"margin:19px auto;text-align:center\" id=\"WqQANb\"><a href=\"/intl/ko/ads/\">&#44305;&#44256; &#54532;&#47196;&#44536;&#47016;</a><a href=\"http://www.google.co.kr/intl/ko/services/\">&#48708;&#51592;&#45768;&#49828; &#49556;&#47336;&#49496;</a><a href=\"/intl/ko/about.html\">Google &#51221;&#48372;</a><a href=\"https://www.google.com/setprefdomain?prefdom=KR&amp;prev=https://www.google.co.kr/&amp;sig=K_R0ZRWP_J3rNtO44-zNdY5LPZEFk%3D\">Google.co.kr</a></div></div><p style=\"font-size:8pt;color:#70757a\">&copy; 2021 - <a href=\"/intl/ko/policies/privacy/\">&#44060;&#51064;&#51221;&#48372;&#52376;&#47532;&#48169;&#52840;</a> - <a href=\"/intl/ko/policies/terms/\">&#50557;&#44288;</a></p></span></center><script nonce=\"SwHlczCBy/W5QkPZ0LfCFg==\">(function(){window.google.cdo={height:757,width:1440};(function(){\\nvar a=window.innerWidth,b=window.innerHeight;if(!a||!b){var c=window.document,d=\"CSS1Compat\"==c.compatMode?c.documentElement:c.body;a=d.clientWidth;b=d.clientHeight}a&&b&&(a!=google.cdo.width||b!=google.cdo.height)&&google.log(\"\",\"\",\"/client_204?&atyp=i&biw=\"+a+\"&bih=\"+b+\"&ei=\"+google.kEI);}).call(this);})();</script> <script nonce=\"SwHlczCBy/W5QkPZ0LfCFg==\">(function(){google.xjs={ck:\\'\\',cs:\\'\\',excm:[]};})();</script>  <script nonce=\"SwHlczCBy/W5QkPZ0LfCFg==\">(function(){var u=\\'/xjs/_/js/k\\\\x3dxjs.hp.en.tSwTe0YCKXw.O/am\\\\x3dAJ8AWAE/d\\\\x3d1/ed\\\\x3d1/rs\\\\x3dACT90oEvdXg4lqT9jXQUjInUDXaRCobypQ/m\\\\x3dsb_he,d\\';\\nvar e=this||self,f=function(a){return a};var g;var l=function(a,b){this.g=b===h?a:\"\"};l.prototype.toString=function(){return this.g+\"\"};var h={};\\nfunction m(){var a=u;google.lx=function(){n(a);google.lx=function(){}};google.bx||google.lx()}\\nfunction n(a){google.timers&&google.timers.load&&google.tick&&google.tick(\"load\",\"xjsls\");var b=document;var c=\"SCRIPT\";\"application/xhtml+xml\"===b.contentType&&(c=c.toLowerCase());c=b.createElement(c);if(void 0===g){b=null;var k=e.trustedTypes;if(k&&k.createPolicy){try{b=k.createPolicy(\"goog#html\",{createHTML:f,createScript:f,createScriptURL:f})}catch(p){e.console&&e.console.error(p.message)}g=b}else g=b}a=(b=g)?b.createScriptURL(a):a;a=new l(a,h);c.src=a instanceof l&&a.constructor===l?a.g:\"type_error:TrustedResourceUrl\";var d;a=(c.ownerDocument&&c.ownerDocument.defaultView||window).document;(d=(b=null===(d=a.querySelector)||void 0===d?void 0:d.call(a,\"script[nonce]\"))?b.nonce||b.getAttribute(\"nonce\")||\"\":\"\")&&c.setAttribute(\"nonce\",d);document.body.appendChild(c);google.psa=!0};setTimeout(function(){m()},0);})();(function(){window.google.xjsu=\\'/xjs/_/js/k\\\\x3dxjs.hp.en.tSwTe0YCKXw.O/am\\\\x3dAJ8AWAE/d\\\\x3d1/ed\\\\x3d1/rs\\\\x3dACT90oEvdXg4lqT9jXQUjInUDXaRCobypQ/m\\\\x3dsb_he,d\\';})();function _DumpException(e){throw e;}\\nfunction _F_installCss(c){}\\n(function(){google.jl={attn:false,blt:\\'none\\',chnk:0,dw:false,dwu:true,emtn:0,end:0,ine:false,lls:\\'default\\',pdt:0,rep:0,snet:true,strt:0,ubm:false,uwp:true};})();(function(){var pmc=\\'{\\\\x22d\\\\x22:{},\\\\x22sb_he\\\\x22:{\\\\x22agen\\\\x22:true,\\\\x22cgen\\\\x22:true,\\\\x22client\\\\x22:\\\\x22heirloom-hp\\\\x22,\\\\x22dh\\\\x22:true,\\\\x22dhqt\\\\x22:true,\\\\x22ds\\\\x22:\\\\x22\\\\x22,\\\\x22ffql\\\\x22:\\\\x22ko\\\\x22,\\\\x22fl\\\\x22:true,\\\\x22host\\\\x22:\\\\x22google.com\\\\x22,\\\\x22isbh\\\\x22:28,\\\\x22jsonp\\\\x22:true,\\\\x22msgs\\\\x22:{\\\\x22cibl\\\\x22:\\\\x22&#44160;&#49353;&#50612; &#51648;&#50864;&#44592;\\\\x22,\\\\x22dym\\\\x22:\\\\x22&#51060;&#44163;&#51012; &#52286;&#51004;&#49512;&#45208;&#50836;?\\\\x22,\\\\x22lcky\\\\x22:\\\\x22I&#8217;m Feeling Lucky\\\\x22,\\\\x22lml\\\\x22:\\\\x22&#51088;&#49464;&#55176; &#50508;&#50500;&#48372;&#44592;\\\\x22,\\\\x22oskt\\\\x22:\\\\x22&#51077;&#47141; &#46020;&#44396;\\\\x22,\\\\x22psrc\\\\x22:\\\\x22&#44160;&#49353;&#50612;&#44032; \\\\\\\\u003Ca href\\\\x3d\\\\\\\\\\\\x22/history\\\\\\\\\\\\x22\\\\\\\\u003E&#50937; &#44592;&#47197;\\\\\\\\u003C/a\\\\\\\\u003E&#50640;&#49436; &#49325;&#51228;&#46104;&#50632;&#49845;&#45768;&#45796;.\\\\x22,\\\\x22psrl\\\\x22:\\\\x22&#49325;&#51228;\\\\x22,\\\\x22sbit\\\\x22:\\\\x22&#51060;&#48120;&#51648;&#47196; &#44160;&#49353;\\\\x22,\\\\x22srch\\\\x22:\\\\x22Google &#44160;&#49353;\\\\x22},\\\\x22ovr\\\\x22:{},\\\\x22pq\\\\x22:\\\\x22\\\\x22,\\\\x22refpd\\\\x22:true,\\\\x22refspre\\\\x22:true,\\\\x22rfs\\\\x22:[],\\\\x22sbas\\\\x22:\\\\x220 3px 8px 0 rgba(0,0,0,0.2),0 0 0 1px rgba(0,0,0,0.08)\\\\x22,\\\\x22sbpl\\\\x22:16,\\\\x22sbpr\\\\x22:16,\\\\x22scd\\\\x22:10,\\\\x22stok\\\\x22:\\\\x22RkQqJg8oNjMLaXkTLaPE9hytOBU\\\\x22,\\\\x22uhde\\\\x22:false}}\\';google.pmc=JSON.parse(pmc);})();</script>        </body></html>'\n"
     ]
    }
   ],
   "source": [
    "google = urlopen(\"https://www.google.com\")\n",
    "html = google.read()\n",
    "print(type(html))\n",
    "print(html)"
   ]
  },
  {
   "cell_type": "code",
   "execution_count": 60,
   "id": "af3e2401",
   "metadata": {},
   "outputs": [],
   "source": [
    "try:\n",
    "    google = urlopen(\"https://www.google.com\")   \n",
    "except HTTPError as e:\n",
    "    print(\"HTTP Error 입니다. : \", e)\n",
    "except URLError as e:\n",
    "    print(\"URL Error 입니다. : \", e)\n",
    "else:\n",
    "    html = google.read()"
   ]
  },
  {
   "cell_type": "code",
   "execution_count": 61,
   "id": "e30170e6",
   "metadata": {},
   "outputs": [
    {
     "data": {
      "text/plain": [
       "('data/daum.png', <http.client.HTTPMessage at 0x19c06b9cb20>)"
      ]
     },
     "execution_count": 61,
     "metadata": {},
     "output_type": "execute_result"
    }
   ],
   "source": [
    "##### 이미지 가져오기\n",
    "\n",
    "req.urlretrieve(\"https://t1.daumcdn.net/daumtop_chanel/op/20200723055344399.png\", \"data/daum.png\")"
   ]
  },
  {
   "cell_type": "code",
   "execution_count": 64,
   "id": "d076155d",
   "metadata": {},
   "outputs": [],
   "source": [
    "img = urlopen(\"https://t1.daumcdn.net/daumtop_chanel/op/20200723055344399.png\")\n",
    "img_data = img.read()\n",
    "\n",
    "f = open(\"data/daum2.png\", \"wb\")\n",
    "f.write(img_data)\n",
    "f.close()"
   ]
  },
  {
   "cell_type": "code",
   "execution_count": 69,
   "id": "7ac7ebd0",
   "metadata": {},
   "outputs": [
    {
     "name": "stdout",
     "output_type": "stream",
     "text": [
      "stnId=109\n",
      "http://www.kma.go.kr/weather/forecast/mid-term-rss3.jsp?stnId=109\n"
     ]
    },
    {
     "ename": "LookupError",
     "evalue": "unknown encoding: uft-8",
     "output_type": "error",
     "traceback": [
      "\u001b[1;31m---------------------------------------------------------------------------\u001b[0m",
      "\u001b[1;31mLookupError\u001b[0m                               Traceback (most recent call last)",
      "\u001b[1;32m<ipython-input-69-20f15a253533>\u001b[0m in \u001b[0;36m<module>\u001b[1;34m\u001b[0m\n\u001b[0;32m     17\u001b[0m \u001b[1;33m\u001b[0m\u001b[0m\n\u001b[0;32m     18\u001b[0m \u001b[0mdata\u001b[0m \u001b[1;33m=\u001b[0m \u001b[0murlopen\u001b[0m\u001b[1;33m(\u001b[0m\u001b[0murl\u001b[0m\u001b[1;33m)\u001b[0m\u001b[1;33m.\u001b[0m\u001b[0mread\u001b[0m\u001b[1;33m(\u001b[0m\u001b[1;33m)\u001b[0m\u001b[1;33m\u001b[0m\u001b[1;33m\u001b[0m\u001b[0m\n\u001b[1;32m---> 19\u001b[1;33m \u001b[0mprint\u001b[0m\u001b[1;33m(\u001b[0m\u001b[0mdata\u001b[0m\u001b[1;33m.\u001b[0m\u001b[0mdecode\u001b[0m\u001b[1;33m(\u001b[0m\u001b[1;34m\"uft-8\"\u001b[0m\u001b[1;33m)\u001b[0m\u001b[1;33m)\u001b[0m\u001b[1;33m\u001b[0m\u001b[1;33m\u001b[0m\u001b[0m\n\u001b[0m",
      "\u001b[1;31mLookupError\u001b[0m: unknown encoding: uft-8"
     ]
    }
   ],
   "source": [
    "import urllib.parse\n",
    "\n",
    "##### 요청 방식\n",
    "# 프로토콜 ://서버주소:포트번호/폴더 또는 파일명# 섹션명\n",
    "# 프로토콜 ://서버주소:포트번호/폴더 또는 파일명?변수명=값&변수명=값\n",
    "\n",
    "# https://www.weather.go.kr/weather/lifenindustry/sevice_rss.jsp\n",
    "\n",
    "api = \"http://www.kma.go.kr/weather/forecast/mid-term-rss3.jsp\"\n",
    "value = {\"stnId\" : 109}\n",
    "\n",
    "params = urllib.parse.urlencode(value)\n",
    "print(params)\n",
    "\n",
    "url = api + \"?\" + params\n",
    "print(url)\n",
    "\n",
    "data = urlopen(url).read()\n",
    "print(data.decode(\"uft-8\"))"
   ]
  },
  {
   "cell_type": "code",
   "execution_count": null,
   "id": "87961fa6",
   "metadata": {},
   "outputs": [],
   "source": []
  },
  {
   "cell_type": "code",
   "execution_count": null,
   "id": "791e4cb0",
   "metadata": {},
   "outputs": [],
   "source": []
  },
  {
   "cell_type": "code",
   "execution_count": null,
   "id": "6a6a013b",
   "metadata": {},
   "outputs": [],
   "source": []
  },
  {
   "cell_type": "code",
   "execution_count": null,
   "id": "1194efe8",
   "metadata": {},
   "outputs": [],
   "source": []
  },
  {
   "cell_type": "code",
   "execution_count": null,
   "id": "10f02a30",
   "metadata": {},
   "outputs": [],
   "source": []
  },
  {
   "cell_type": "code",
   "execution_count": null,
   "id": "925edf4d",
   "metadata": {},
   "outputs": [],
   "source": []
  },
  {
   "cell_type": "code",
   "execution_count": null,
   "id": "d363fb20",
   "metadata": {},
   "outputs": [],
   "source": []
  },
  {
   "cell_type": "code",
   "execution_count": null,
   "id": "ce0ec98f",
   "metadata": {},
   "outputs": [],
   "source": []
  },
  {
   "cell_type": "code",
   "execution_count": null,
   "id": "fbd5aa93",
   "metadata": {},
   "outputs": [],
   "source": []
  },
  {
   "cell_type": "code",
   "execution_count": null,
   "id": "2069be58",
   "metadata": {},
   "outputs": [],
   "source": []
  },
  {
   "cell_type": "code",
   "execution_count": null,
   "id": "b3170ca6",
   "metadata": {},
   "outputs": [],
   "source": []
  },
  {
   "cell_type": "code",
   "execution_count": null,
   "id": "382e03b7",
   "metadata": {},
   "outputs": [],
   "source": []
  },
  {
   "cell_type": "code",
   "execution_count": null,
   "id": "7c04754c",
   "metadata": {},
   "outputs": [],
   "source": []
  },
  {
   "cell_type": "code",
   "execution_count": null,
   "id": "e90aa9a0",
   "metadata": {},
   "outputs": [],
   "source": []
  },
  {
   "cell_type": "code",
   "execution_count": null,
   "id": "d6ad9410",
   "metadata": {},
   "outputs": [],
   "source": []
  },
  {
   "cell_type": "code",
   "execution_count": null,
   "id": "371d33a3",
   "metadata": {},
   "outputs": [],
   "source": []
  },
  {
   "cell_type": "code",
   "execution_count": null,
   "id": "f51ce754",
   "metadata": {},
   "outputs": [],
   "source": []
  },
  {
   "cell_type": "code",
   "execution_count": null,
   "id": "5f8a56ed",
   "metadata": {},
   "outputs": [],
   "source": []
  },
  {
   "cell_type": "code",
   "execution_count": null,
   "id": "3b96b250",
   "metadata": {},
   "outputs": [],
   "source": []
  },
  {
   "cell_type": "code",
   "execution_count": null,
   "id": "424f43e3",
   "metadata": {},
   "outputs": [],
   "source": []
  },
  {
   "cell_type": "code",
   "execution_count": null,
   "id": "c2970a4c",
   "metadata": {},
   "outputs": [],
   "source": []
  },
  {
   "cell_type": "code",
   "execution_count": null,
   "id": "3f4616a6",
   "metadata": {},
   "outputs": [],
   "source": []
  }
 ],
 "metadata": {
  "kernelspec": {
   "display_name": "Python 3",
   "language": "python",
   "name": "python3"
  },
  "language_info": {
   "codemirror_mode": {
    "name": "ipython",
    "version": 3
   },
   "file_extension": ".py",
   "mimetype": "text/x-python",
   "name": "python",
   "nbconvert_exporter": "python",
   "pygments_lexer": "ipython3",
   "version": "3.8.8"
  }
 },
 "nbformat": 4,
 "nbformat_minor": 5
}
