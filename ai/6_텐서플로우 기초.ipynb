{
 "cells": [
  {
   "cell_type": "code",
   "execution_count": 1,
   "id": "8086f786",
   "metadata": {},
   "outputs": [
    {
     "name": "stdout",
     "output_type": "stream",
     "text": [
      "3.7.11 (default, Jul 27 2021, 09:42:29) [MSC v.1916 64 bit (AMD64)]\n",
      "1.15.0\n"
     ]
    }
   ],
   "source": [
    "import sys\n",
    "import tensorflow as tf\n",
    "\n",
    "print(sys.version)\n",
    "print(tf.__version__)"
   ]
  },
  {
   "cell_type": "code",
   "execution_count": 2,
   "id": "dceb2553",
   "metadata": {},
   "outputs": [],
   "source": [
    "import numpy as np\n",
    "import pandas as pd\n",
    "import matplotlib.pyplot as plt\n",
    "import seaborn as sns\n",
    "\n",
    "import warnings\n",
    "warnings.filterwarnings(action=\"ignore\")\n",
    "\n",
    "import matplotlib.font_manager as fm\n",
    "font_name = fm.FontProperties(fname=\"C:/Windows/Fonts/malgun.ttf\").get_name()\n",
    "plt.rc(\"font\", family=font_name)\n",
    "\n",
    "import matplotlib as mpl\n",
    "mpl.rcParams[\"axes.unicode_minus\"] = False"
   ]
  },
  {
   "cell_type": "markdown",
   "id": "3d5cb928",
   "metadata": {},
   "source": [
    "# 1. 텐서\n",
    "\n",
    "+ 0D tensor, 1D tensor, 2D tensor, 3D tensor, 고차원 tensor\n",
    "+ 딥러닝에서는 0D ~ 4D(이미지)까지 주로 사용\n",
    "+ 동영상을 다룰 때에는 5D텐서까지 사용"
   ]
  },
  {
   "cell_type": "markdown",
   "id": "c6bb05f1",
   "metadata": {},
   "source": [
    "# 2. 기본 구성 요소\n",
    "\n",
    "+ placeholder()\n",
    "+ constant()\n",
    "+ Variable()"
   ]
  },
  {
   "cell_type": "markdown",
   "id": "e64b7364",
   "metadata": {},
   "source": [
    "### (1) constant\n",
    "\n",
    "+ 절대 변하지 않는 상수\n",
    "+ 자체적으로 그래프를 갖는다.\n",
    "+ 메서드\n",
    "+ tf.constant(value, dtype=None, shape=None, name='Const', verify_shape=False)"
   ]
  },
  {
   "cell_type": "code",
   "execution_count": 6,
   "id": "24e01982",
   "metadata": {},
   "outputs": [
    {
     "name": "stdout",
     "output_type": "stream",
     "text": [
      "Tensor(\"Const_4:0\", shape=(), dtype=int32)\n",
      "Tensor(\"Const_5:0\", shape=(), dtype=int32)\n",
      "Tensor(\"Add:0\", shape=(), dtype=int32)\n"
     ]
    }
   ],
   "source": [
    "a = tf.constant(10)\n",
    "print(a)\n",
    "\n",
    "b = tf.constant(20)\n",
    "print(b)\n",
    "\n",
    "c = tf.add(a, b)\n",
    "print(c)"
   ]
  },
  {
   "cell_type": "code",
   "execution_count": 10,
   "id": "bd8c8b28",
   "metadata": {},
   "outputs": [
    {
     "name": "stdout",
     "output_type": "stream",
     "text": [
      "30\n"
     ]
    }
   ],
   "source": [
    "sess = tf.Session()\n",
    "#print(sess.run(a))\n",
    "#print(sess.run(b))\n",
    "print(sess.run(c))"
   ]
  },
  {
   "cell_type": "code",
   "execution_count": 11,
   "id": "d65630ed",
   "metadata": {},
   "outputs": [
    {
     "name": "stdout",
     "output_type": "stream",
     "text": [
      "WARNING:tensorflow:From C:\\Users\\acorn\\AppData\\Local\\Temp/ipykernel_6596/752411198.py:3: The name tf.summary.FileWriter is deprecated. Please use tf.compat.v1.summary.FileWriter instead.\n",
      "\n"
     ]
    },
    {
     "data": {
      "text/plain": [
       "<tensorflow.python.summary.writer.writer.FileWriter at 0x16f152c4ec8>"
      ]
     },
     "execution_count": 11,
     "metadata": {},
     "output_type": "execute_result"
    }
   ],
   "source": [
    "##### Tensorboard\n",
    "# tensorboard --logdir=log_dir\n",
    "# http://localhost:6006\n",
    "\n",
    "tf.summary.FileWriter(\"log_dir\", graph=sess.graph)"
   ]
  },
  {
   "cell_type": "code",
   "execution_count": 12,
   "id": "9fdcde66",
   "metadata": {},
   "outputs": [],
   "source": [
    "sess.close()"
   ]
  },
  {
   "cell_type": "code",
   "execution_count": 13,
   "id": "f54ddc3e",
   "metadata": {},
   "outputs": [],
   "source": [
    "##### (5 + 2) * 3\n",
    "\n",
    "a = tf.constant(5)\n",
    "b = tf.constant(2)\n",
    "c = tf.add(a, b)\n",
    "d = tf.constant(3)\n",
    "e = tf.multiply(c, d)"
   ]
  },
  {
   "cell_type": "code",
   "execution_count": 14,
   "id": "c8578b8a",
   "metadata": {},
   "outputs": [
    {
     "name": "stdout",
     "output_type": "stream",
     "text": [
      "21\n"
     ]
    }
   ],
   "source": [
    "sess = tf.Session()\n",
    "print(sess.run(e))"
   ]
  },
  {
   "cell_type": "code",
   "execution_count": 15,
   "id": "59fc0379",
   "metadata": {},
   "outputs": [
    {
     "data": {
      "text/plain": [
       "<tensorflow.python.summary.writer.writer.FileWriter at 0x16f1f5f2dc8>"
      ]
     },
     "execution_count": 15,
     "metadata": {},
     "output_type": "execute_result"
    }
   ],
   "source": [
    "tf.summary.FileWriter(\"log_dir\", graph=sess.graph)"
   ]
  },
  {
   "cell_type": "code",
   "execution_count": 16,
   "id": "1aefafae",
   "metadata": {},
   "outputs": [],
   "source": [
    "sess.close()"
   ]
  },
  {
   "cell_type": "markdown",
   "id": "85df7600",
   "metadata": {},
   "source": [
    "### (2) Variable\n",
    "\n",
    "+ 객체로 정의되어 있다.\n",
    "+ weight(가중치)를 저장하는 변수\n",
    "+ 사용전에 반드시 초기화를 해야 한다.(global_variables_initializer() 호출)\n",
    "+ tf.Variable(\n",
    "    initial_value=None, trainable=None, collections=None, validate_shape=True,\n",
    "    caching_device=None, name=None, variable_def=None, dtype=None,\n",
    "    expected_shape=None, import_scope=None, constraint=None, use_resource=None,\n",
    "    synchronization=tf.VariableSynchronization.AUTO,\n",
    "    aggregation=tf.VariableAggregation.NONE, shape=None\n",
    ")"
   ]
  },
  {
   "cell_type": "code",
   "execution_count": 17,
   "id": "1f2af09b",
   "metadata": {},
   "outputs": [
    {
     "name": "stdout",
     "output_type": "stream",
     "text": [
      "Tensor(\"add_3:0\", shape=(), dtype=int32)\n"
     ]
    }
   ],
   "source": [
    "v1 = tf.Variable(initial_value=5)\n",
    "v2 = tf.Variable(initial_value=3)\n",
    "v3 = tf.Variable(initial_value=2)\n",
    "\n",
    "v4 = v1 + v2 + v3\n",
    "print(v4)"
   ]
  },
  {
   "cell_type": "code",
   "execution_count": 19,
   "id": "38bf9ab6",
   "metadata": {},
   "outputs": [
    {
     "name": "stdout",
     "output_type": "stream",
     "text": [
      "WARNING:tensorflow:From C:\\Users\\acorn\\AppData\\Local\\Temp/ipykernel_6596/4179097637.py:2: The name tf.global_variables_initializer is deprecated. Please use tf.compat.v1.global_variables_initializer instead.\n",
      "\n",
      "10\n"
     ]
    }
   ],
   "source": [
    "sess = tf.Session()\n",
    "sess.run(tf.global_variables_initializer())\n",
    "print(sess.run(v4))"
   ]
  },
  {
   "cell_type": "code",
   "execution_count": 20,
   "id": "c017f177",
   "metadata": {},
   "outputs": [
    {
     "data": {
      "text/plain": [
       "<tensorflow.python.summary.writer.writer.FileWriter at 0x16f232e6d08>"
      ]
     },
     "execution_count": 20,
     "metadata": {},
     "output_type": "execute_result"
    }
   ],
   "source": [
    "tf.summary.FileWriter(\"log_dir\", graph=sess.graph)"
   ]
  },
  {
   "cell_type": "code",
   "execution_count": 21,
   "id": "1873e60a",
   "metadata": {},
   "outputs": [],
   "source": [
    "sess.close()"
   ]
  },
  {
   "cell_type": "markdown",
   "id": "47ff1330",
   "metadata": {},
   "source": [
    "### (3) placeholder\n",
    "\n",
    "+ 그래프를 만들지 않는다.\n",
    "+ 입력된 데이터를 텐서와 매핑하는 역할"
   ]
  },
  {
   "cell_type": "code",
   "execution_count": 22,
   "id": "d3e145ec",
   "metadata": {},
   "outputs": [
    {
     "name": "stdout",
     "output_type": "stream",
     "text": [
      "WARNING:tensorflow:From C:\\Users\\acorn\\AppData\\Local\\Temp/ipykernel_6596/387593732.py:1: The name tf.placeholder is deprecated. Please use tf.compat.v1.placeholder instead.\n",
      "\n",
      "Tensor(\"add_5:0\", dtype=float32)\n"
     ]
    }
   ],
   "source": [
    "v1 = tf.placeholder(dtype=tf.float32)\n",
    "v2 = tf.placeholder(dtype=tf.float32)\n",
    "v3 = tf.placeholder(dtype=tf.float32)\n",
    "\n",
    "v4 = v1 + v2 + v3\n",
    "print(v4)"
   ]
  },
  {
   "cell_type": "code",
   "execution_count": 23,
   "id": "bfc0c7a4",
   "metadata": {},
   "outputs": [
    {
     "data": {
      "text/plain": [
       "10.0"
      ]
     },
     "execution_count": 23,
     "metadata": {},
     "output_type": "execute_result"
    }
   ],
   "source": [
    "a, b, c = 5, 3, 2\n",
    "\n",
    "sess = tf.Session()\n",
    "sess.run(v4, feed_dict={v1:a, v2:b, v3:c})"
   ]
  },
  {
   "cell_type": "code",
   "execution_count": 24,
   "id": "d6df28cb",
   "metadata": {},
   "outputs": [],
   "source": [
    "sess.close()"
   ]
  },
  {
   "cell_type": "code",
   "execution_count": 27,
   "id": "59d57752",
   "metadata": {},
   "outputs": [],
   "source": [
    "##### 구구단 프로그램\n",
    "\n",
    "def gugudan(dan):\n",
    "    left = tf.placeholder(tf.int32)\n",
    "    right = tf.placeholder(tf.int32)\n",
    "    op = tf.multiply(left, right)\n",
    "    \n",
    "    sess = tf.Session()\n",
    "    for i in range(1, 10):\n",
    "        result = sess.run(op, feed_dict={left:dan, right:i})\n",
    "        print(\"{} * {} = {}\".format(dan, i, result))\n",
    "        \n",
    "    sess.close()"
   ]
  },
  {
   "cell_type": "code",
   "execution_count": 29,
   "id": "63b7793f",
   "metadata": {},
   "outputs": [
    {
     "name": "stdout",
     "output_type": "stream",
     "text": [
      "7 * 1 = 7\n",
      "7 * 2 = 14\n",
      "7 * 3 = 21\n",
      "7 * 4 = 28\n",
      "7 * 5 = 35\n",
      "7 * 6 = 42\n",
      "7 * 7 = 49\n",
      "7 * 8 = 56\n",
      "7 * 9 = 63\n"
     ]
    }
   ],
   "source": [
    "gugudan(7)"
   ]
  },
  {
   "cell_type": "code",
   "execution_count": null,
   "id": "a9f13f53",
   "metadata": {},
   "outputs": [],
   "source": []
  }
 ],
 "metadata": {
  "kernelspec": {
   "display_name": "Python 3 (ipykernel)",
   "language": "python",
   "name": "python3"
  },
  "language_info": {
   "codemirror_mode": {
    "name": "ipython",
    "version": 3
   },
   "file_extension": ".py",
   "mimetype": "text/x-python",
   "name": "python",
   "nbconvert_exporter": "python",
   "pygments_lexer": "ipython3",
   "version": "3.7.11"
  }
 },
 "nbformat": 4,
 "nbformat_minor": 5
}
