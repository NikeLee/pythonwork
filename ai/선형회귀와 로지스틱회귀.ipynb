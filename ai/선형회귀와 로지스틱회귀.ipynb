{
 "cells": [
  {
   "cell_type": "code",
   "execution_count": 1,
   "id": "9f0180a6",
   "metadata": {},
   "outputs": [],
   "source": [
    "import numpy as np\n",
    "import pandas as pd\n",
    "import matplotlib.pyplot as plt\n",
    "import seaborn as sns\n",
    "\n",
    "import warnings\n",
    "warnings.filterwarnings(action=\"ignore\")\n",
    "\n",
    "import matplotlib.font_manager as fm\n",
    "font_name = fm.FontProperties(fname=\"C:/Windows/Fonts/malgun.ttf\").get_name()\n",
    "plt.rc(\"font\", family=font_name)\n",
    "\n",
    "import matplotlib as mpl\n",
    "mpl.rcParams[\"axes.unicode_minus\"] = False\n",
    "\n",
    "import tensorflow as tf"
   ]
  },
  {
   "cell_type": "markdown",
   "id": "3e8b1e96",
   "metadata": {},
   "source": [
    "## 1. 단순 선형회귀 모델의 비용 구하기"
   ]
  },
  {
   "cell_type": "code",
   "execution_count": 2,
   "id": "216a491c",
   "metadata": {},
   "outputs": [
    {
     "data": {
      "image/png": "[encoded data removed]",
      "text/plain": [
       "<Figure size 432x288 with 1 Axes>"
      ]
     },
     "metadata": {
      "needs_background": "light"
     },
     "output_type": "display_data"
    }
   ],
   "source": [
    "##### 데이터 준비\n",
    "x_train = [1, 2, 3]\n",
    "y_train = [1, 2, 3]\n",
    "\n",
    "W = tf.placeholder(tf.float32)\n",
    "\n",
    "##### 가설 준비(y = Wx)\n",
    "hypot = W * x_train\n",
    "\n",
    "##### 비용 함수\n",
    "cost = tf.reduce_mean(tf.square(hypot-y_train))\n",
    "\n",
    "# ------------------ 그래프 완성 -------------------------- #\n",
    "\n",
    "sess = tf.Session()\n",
    "\n",
    "cost_val = []\n",
    "for i in range(-30 , 50):\n",
    "    result = sess.run(cost, feed_dict={W:i})\n",
    "    cost_val.append(result)\n",
    "    \n",
    "plt.plot(cost_val)\n",
    "sess.close()"
   ]
  },
  {
   "cell_type": "markdown",
   "id": "b8ca6f27",
   "metadata": {},
   "source": [
    "### (1) 경사 하강 알고리즘을 이용한 가중치 학습"
   ]
  },
  {
   "cell_type": "code",
   "execution_count": 14,
   "id": "71250c1e",
   "metadata": {
    "collapsed": true
   },
   "outputs": [
    {
     "name": "stdout",
     "output_type": "stream",
     "text": [
      "0 [-0.41939673] 7.861913\n",
      "1 [-0.36174887] 7.147659\n",
      "2 [-0.30679125] 6.4985123\n",
      "3 [-0.25439832] 5.908539\n",
      "4 [-0.2044504] 5.3723454\n",
      "5 [-0.15683338] 4.885029\n",
      "6 [-0.11143849] 4.4421344\n",
      "7 [-0.06816202] 4.0396113\n",
      "8 [-0.02690513] 3.6737807\n",
      "9 [0.01242644] 3.341298\n",
      "10 [0.04992253] 3.0391226\n",
      "11 [0.08566881] 2.7644923\n",
      "12 [0.11974692] 2.5148962\n",
      "13 [0.15223473] 2.2880518\n",
      "14 [0.18320644] 2.081886\n",
      "15 [0.2127328] 1.8945131\n",
      "16 [0.24088128] 1.7242203\n",
      "17 [0.26771614] 1.5694505\n",
      "18 [0.29329872] 1.4287891\n",
      "19 [0.31768745] 1.3009496\n",
      "20 [0.34093803] 1.1847633\n",
      "21 [0.3631036] 1.0791682\n",
      "22 [0.38423476] 0.98319864\n",
      "23 [0.40437979] 0.8959771\n",
      "24 [0.42358473] 0.8167065\n",
      "25 [0.44189343] 0.7446618\n",
      "26 [0.45934772] 0.67918426\n",
      "27 [0.4759875] 0.61967546\n",
      "28 [0.49185073] 0.56559116\n",
      "29 [0.5069737] 0.5164371\n",
      "30 [0.5213909] 0.4717636\n",
      "31 [0.5351353] 0.43116224\n",
      "32 [0.54823834] 0.39426205\n",
      "33 [0.56072986] 0.36072543\n",
      "34 [0.57263845] 0.330246\n",
      "35 [0.58399135] 0.3025449\n",
      "36 [0.5948144] 0.2773687\n",
      "37 [0.6051324] 0.2544876\n",
      "38 [0.6149689] 0.23369224\n",
      "39 [0.6243463] 0.21479249\n",
      "40 [0.6332862] 0.19761558\n",
      "41 [0.6418088] 0.1820044\n",
      "42 [0.64993376] 0.16781627\n",
      "43 [0.6576795] 0.15492146\n",
      "44 [0.6650638] 0.14320213\n",
      "45 [0.67210346] 0.13255103\n",
      "46 [0.67881465] 0.122870825\n",
      "47 [0.6852126] 0.11407307\n",
      "48 [0.691312] 0.106077276\n",
      "49 [0.6971268] 0.09881035\n"
     ]
    }
   ],
   "source": [
    "##### 데이터 준비\n",
    "x_train = [1, 2, 3]\n",
    "y_train = [1, 2, 3]\n",
    "\n",
    "W = tf.Variable(tf.random_normal([1]), dtype=tf.float32)\n",
    "b = tf.Variable(tf.random_normal([1]), dtype=tf.float32)\n",
    "\n",
    "##### 가설 준비(y = Wx + b)\n",
    "hypot = W * x_train + b\n",
    "\n",
    "##### 비용 함수\n",
    "cost = tf.reduce_mean(tf.square(hypot-y_train))\n",
    "\n",
    "##### 최저 비용 학습을 위한 경사 하강 알고리즘(Gradient Descent)\n",
    "gradient = tf.reduce_mean((hypot-y_train) * x_train)\n",
    "learning_rate = 0.01\n",
    "descent = W - (learning_rate * gradient)\n",
    "update = W.assign(descent)\n",
    "\n",
    "# -------------------------- 그래프 완성 ---------------------------- #\n",
    "\n",
    "sess = tf.Session()\n",
    "sess.run(tf.global_variables_initializer())\n",
    "\n",
    "for step in range(50):\n",
    "    _, weight, c = sess.run([update, W, cost])\n",
    "    print(step, weight, c)\n",
    "    \n",
    "sess.close()"
   ]
  },
  {
   "cell_type": "code",
   "execution_count": 18,
   "id": "c4e9c1fa",
   "metadata": {
    "collapsed": true
   },
   "outputs": [
    {
     "name": "stdout",
     "output_type": "stream",
     "text": [
      "0 [0.8623838] 0.5978981\n",
      "1 [0.8423122] 0.48459166\n",
      "2 [0.82625496] 0.4120755\n",
      "3 [0.81340915] 0.3656652\n",
      "4 [0.80313253] 0.3359625\n",
      "5 [0.7949112] 0.316953\n",
      "6 [0.7883342] 0.3047867\n",
      "7 [0.78307253] 0.29700044\n",
      "8 [0.77886325] 0.29201713\n",
      "9 [0.7754958] 0.2888279\n",
      "10 [0.7728019] 0.28678676\n",
      "11 [0.7706467] 0.28548044\n",
      "12 [0.76892257] 0.28464437\n",
      "13 [0.76754326] 0.28410932\n",
      "14 [0.7664398] 0.28376693\n",
      "15 [0.76555705] 0.2835477\n",
      "16 [0.76485085] 0.28340748\n",
      "17 [0.76428586] 0.28331763\n",
      "18 [0.7638339] 0.28326017\n",
      "19 [0.7634723] 0.28322345\n",
      "20 [0.76318306] 0.28319997\n",
      "21 [0.7629517] 0.28318492\n",
      "22 [0.76276654] 0.28317517\n",
      "23 [0.7626184] 0.28316906\n",
      "24 [0.7624999] 0.28316507\n",
      "25 [0.76240516] 0.28316253\n",
      "26 [0.76232934] 0.28316098\n",
      "27 [0.76226866] 0.28315988\n",
      "28 [0.76222014] 0.28315923\n",
      "29 [0.76218134] 0.28315887\n",
      "30 [0.7621503] 0.2831585\n",
      "31 [0.76212543] 0.28315836\n",
      "32 [0.7621055] 0.28315833\n",
      "33 [0.7620896] 0.28315812\n",
      "34 [0.7620769] 0.28315815\n",
      "35 [0.7620667] 0.2831581\n",
      "36 [0.76205856] 0.28315812\n",
      "37 [0.76205206] 0.28315803\n",
      "38 [0.7620469] 0.2831581\n",
      "39 [0.7620427] 0.283158\n",
      "40 [0.76203936] 0.2831581\n",
      "41 [0.7620367] 0.2831581\n",
      "42 [0.76203454] 0.2831581\n",
      "43 [0.7620328] 0.28315803\n",
      "44 [0.76203144] 0.28315803\n",
      "45 [0.76203036] 0.2831581\n",
      "46 [0.76202947] 0.28315812\n",
      "47 [0.76202875] 0.28315803\n",
      "48 [0.7620282] 0.283158\n",
      "49 [0.7620278] 0.28315806\n"
     ]
    }
   ],
   "source": [
    "##### 데이터 준비\n",
    "x_train = tf.placeholder(tf.float32, shape=[None])\n",
    "y_train = tf.placeholder(tf.float32, shape=[None])\n",
    "\n",
    "W = tf.Variable(tf.random_normal([1]), dtype=tf.float32)\n",
    "b = tf.Variable(tf.random_normal([1]), dtype=tf.float32)\n",
    "\n",
    "##### 가설 준비(y = Wx + b)\n",
    "hypot = W * x_train + b\n",
    "\n",
    "##### 비용 함수\n",
    "cost = tf.reduce_mean(tf.square(hypot-y_train))\n",
    "\n",
    "##### 최저 비용 학습을 위한 경사 하강 알고리즘(Gradient Descent)\n",
    "gradient = tf.reduce_mean((hypot-y_train) * x_train)\n",
    "learning_rate = 0.01\n",
    "descent = W - (learning_rate * gradient)\n",
    "update = W.assign(descent)\n",
    "\n",
    "# -------------------------- 그래프 완성 ---------------------------- #\n",
    "\n",
    "sess = tf.Session()\n",
    "sess.run(tf.global_variables_initializer())\n",
    "\n",
    "for step in range(50):\n",
    "    _, weight, c = sess.run([update, W, cost], feed_dict={x_train:[1, 2, 3, 4, 5, 6, 7], \n",
    "                                                          y_train:[1, 2, 3, 4, 5, 6, 7]})\n",
    "    print(step, weight, c)\n",
    "    \n",
    "sess.close()"
   ]
  },
  {
   "cell_type": "markdown",
   "id": "d380e1a9",
   "metadata": {},
   "source": [
    "### (2) GradientDescentOptimizer 객체 이용"
   ]
  },
  {
   "cell_type": "code",
   "execution_count": 35,
   "id": "9e7f5699",
   "metadata": {
    "collapsed": true
   },
   "outputs": [
    {
     "name": "stdout",
     "output_type": "stream",
     "text": [
      "0 [-0.85292375] 73.198105 [0.6762885]\n",
      "1 [-0.41985786] 42.65675 [0.79593813]\n",
      "2 [-0.08924541] 24.85876 [0.88721085]\n",
      "3 [0.16315594] 14.486967 [0.9568213]\n",
      "4 [0.35585237] 8.442797 [1.0098956]\n",
      "5 [0.5029711] 4.92055 [1.0503465]\n",
      "6 [0.61529666] 2.867955 [1.0811613]\n",
      "7 [0.7010617] 1.6718019 [1.1046202]\n",
      "8 [0.7665509] 0.9747391 [1.1224641]\n",
      "9 [0.8165618] 0.56852233 [1.1360217]\n",
      "10 [0.8547569] 0.33179623 [1.1463076]\n",
      "11 [0.88393193] 0.19384025 [1.154096]\n",
      "12 [0.90622115] 0.11344315 [1.1599782]\n",
      "13 [0.92325383] 0.06658848 [1.1644053]\n",
      "14 [0.93627363] 0.039280534 [1.167722]\n",
      "15 [0.9462301] 0.023363685 [1.1701912]\n",
      "16 [0.953848] 0.014084953 [1.1720135]\n",
      "17 [0.9596806] 0.008674575 [1.1733423]\n",
      "18 [0.9641503] 0.005518551 [1.1742947]\n",
      "19 [0.96757954] 0.0036762215 [1.1749598]\n",
      "20 [0.9702144] 0.0025995288 [1.1754059]\n",
      "21 [0.9722429] 0.0019689794 [1.1756849]\n",
      "22 [0.97380835] 0.0015984619 [1.1758367]\n",
      "23 [0.9750203] 0.0013795012 [1.1758914]\n",
      "24 [0.97596234] 0.0012488789 [1.1758723]\n",
      "25 [0.9766983] 0.0011697549 [1.1757971]\n",
      "26 [0.9772768] 0.0011206581 [1.1756792]\n",
      "27 [0.97773516] 0.0010890833 [1.175529]\n",
      "28 [0.9781017] 0.0010677386 [1.1753544]\n",
      "29 [0.978398] 0.0010523784 [1.1751611]\n",
      "30 [0.9786408] 0.0010405255 [1.174954]\n",
      "31 [0.97884256] 0.0010307368 [1.1747365]\n",
      "32 [0.979013] 0.0010221556 [1.1745112]\n",
      "33 [0.9791595] 0.0010143186 [1.1742802]\n",
      "34 [0.97928756] 0.001006921 [1.174045]\n",
      "35 [0.9794016] 0.0009998037 [1.1738068]\n",
      "36 [0.9795048] 0.000992866 [1.1735666]\n",
      "37 [0.9795998] 0.0009860578 [1.173325]\n",
      "38 [0.97968835] 0.0009793404 [1.1730825]\n",
      "39 [0.979772] 0.000972689 [1.1728395]\n",
      "40 [0.9798518] 0.0009660986 [1.1725965]\n",
      "41 [0.9799286] 0.00095956586 [1.1723534]\n",
      "42 [0.9800031] 0.00095308886 [1.1721106]\n",
      "43 [0.9800758] 0.0009466413 [1.1718682]\n",
      "44 [0.980147] 0.0009402527 [1.1716263]\n",
      "45 [0.9802171] 0.00093391107 [1.1713849]\n",
      "46 [0.98028624] 0.0009276039 [1.1711442]\n",
      "47 [0.9803546] 0.00092134177 [1.1709042]\n",
      "48 [0.9804223] 0.00091511663 [1.1706648]\n",
      "49 [0.9804895] 0.000908939 [1.1704261]\n",
      "50 [0.9805562] 0.0009027979 [1.1701882]\n",
      "51 [0.98062253] 0.00089670357 [1.1699511]\n",
      "52 [0.9806885] 0.0008906617 [1.1697147]\n",
      "53 [0.98075414] 0.0008846419 [1.1694791]\n",
      "54 [0.98081946] 0.0008786718 [1.1692443]\n",
      "55 [0.9808845] 0.0008727395 [1.1690103]\n",
      "56 [0.9809493] 0.0008668527 [1.168777]\n",
      "57 [0.98101383] 0.0008609992 [1.1685445]\n",
      "58 [0.9810781] 0.0008551835 [1.1683128]\n",
      "59 [0.98114216] 0.000849418 [1.1680819]\n",
      "60 [0.981206] 0.0008436851 [1.1678517]\n",
      "61 [0.98126954] 0.00083798094 [1.1676223]\n",
      "62 [0.9813329] 0.0008323315 [1.1673937]\n",
      "63 [0.981396] 0.0008267093 [1.1671659]\n",
      "64 [0.98145896] 0.0008211325 [1.1669388]\n",
      "65 [0.98152167] 0.0008155856 [1.1667125]\n",
      "66 [0.98158413] 0.00081008347 [1.166487]\n",
      "67 [0.9816464] 0.0008046152 [1.1662621]\n",
      "68 [0.98170847] 0.00079918205 [1.1660382]\n",
      "69 [0.98177034] 0.00079378934 [1.1658149]\n",
      "70 [0.98183197] 0.0007884264 [1.1655923]\n",
      "71 [0.9818934] 0.00078310724 [1.1653706]\n",
      "72 [0.98195463] 0.0007778204 [1.1651496]\n",
      "73 [0.9820156] 0.00077256735 [1.1649293]\n",
      "74 [0.9820764] 0.000767356 [1.1647097]\n",
      "75 [0.982137] 0.0007621727 [1.1644909]\n",
      "76 [0.9821974] 0.00075702544 [1.1642729]\n",
      "77 [0.9822576] 0.00075192173 [1.1640556]\n",
      "78 [0.98231757] 0.00074683613 [1.163839]\n",
      "79 [0.98237735] 0.00074180344 [1.1636231]\n",
      "80 [0.98243695] 0.0007367885 [1.163408]\n",
      "81 [0.9824963] 0.00073181576 [1.1631937]\n",
      "82 [0.9825555] 0.0007268746 [1.1629801]\n",
      "83 [0.9826145] 0.0007219723 [1.1627672]\n",
      "84 [0.9826733] 0.00071709754 [1.162555]\n",
      "85 [0.9827319] 0.00071226375 [1.1623435]\n",
      "86 [0.98279023] 0.00070744794 [1.1621327]\n",
      "87 [0.9828484] 0.00070267764 [1.1619227]\n",
      "88 [0.9829064] 0.0006979387 [1.1617134]\n",
      "89 [0.98296416] 0.00069322373 [1.1615047]\n",
      "90 [0.98302174] 0.0006885434 [1.1612968]\n",
      "91 [0.98307914] 0.00068389706 [1.1610897]\n",
      "92 [0.98313636] 0.00067927723 [1.1608831]\n",
      "93 [0.9831934] 0.0006746935 [1.1606772]\n",
      "94 [0.9832502] 0.00067014166 [1.160472]\n",
      "95 [0.9833068] 0.0006656167 [1.1602676]\n",
      "96 [0.9833633] 0.0006611262 [1.1600639]\n",
      "97 [0.98341954] 0.0006566644 [1.1598607]\n",
      "98 [0.98347557] 0.0006522303 [1.1596583]\n",
      "99 [0.9835314] 0.0006478194 [1.1594566]\n"
     ]
    }
   ],
   "source": [
    "##### 데이터 준비\n",
    "x_train = tf.placeholder(tf.float32, shape=[None])\n",
    "y_train = tf.placeholder(tf.float32, shape=[None])\n",
    "\n",
    "W = tf.Variable(tf.random_normal([1]), dtype=tf.float32)\n",
    "b = tf.Variable(tf.random_normal([1]), dtype=tf.float32)\n",
    "\n",
    "##### 가설 준비(y = Wx + b)\n",
    "hypot = W * x_train + b\n",
    "\n",
    "##### 비용 함수\n",
    "cost = tf.reduce_mean(tf.square(hypot-y_train))\n",
    "\n",
    "##### 최저 비용 학습을 위한 경사 하강 알고리즘(Gradient Descent)\n",
    "update = tf.train.GradientDescentOptimizer(learning_rate=0.01).minimize(cost)\n",
    "\n",
    "# -------------------------- 그래프 완성 ---------------------------- #\n",
    "\n",
    "sess = tf.Session()\n",
    "sess.run(tf.global_variables_initializer())\n",
    "\n",
    "for step in range(100):\n",
    "    _, weight, c, bias = sess.run([update, W, cost, b], feed_dict={x_train:[1, 2, 3, 4, 5], \n",
    "                                                          y_train:[2.1, 3.1, 4.1, 5.1, 6.1]})\n",
    "    print(step, weight, c, bias)\n",
    "    "
   ]
  },
  {
   "cell_type": "code",
   "execution_count": 38,
   "id": "f6784061",
   "metadata": {},
   "outputs": [
    {
     "name": "stdout",
     "output_type": "stream",
     "text": [
      "[27.714804]\n",
      "[3.6182852 4.798523 ]\n"
     ]
    }
   ],
   "source": [
    "##### Testing\n",
    "\n",
    "print(sess.run(hypot, feed_dict={x_train:[27]}))\n",
    "print(sess.run(hypot, feed_dict={x_train:[2.5, 3.7]}))"
   ]
  },
  {
   "cell_type": "code",
   "execution_count": 39,
   "id": "6debb2af",
   "metadata": {},
   "outputs": [],
   "source": [
    "sess.close()"
   ]
  },
  {
   "cell_type": "markdown",
   "id": "af871e57",
   "metadata": {},
   "source": [
    "### (3) 응용 예제\n",
    "\n",
    "+ 아래의 데이터를 가지고 하루 8시간을 일했을 때 매출액이 얼마인지 예측하시오."
   ]
  },
  {
   "cell_type": "code",
   "execution_count": 40,
   "id": "0d3a761c",
   "metadata": {},
   "outputs": [],
   "source": [
    "X = [1, 2, 3, 4, 5, 6, 7]\n",
    "y = [25000, 55000, 75000, 110000, 128000, 155000, 180000]"
   ]
  },
  {
   "cell_type": "code",
   "execution_count": null,
   "id": "3cdab487",
   "metadata": {},
   "outputs": [],
   "source": []
  },
  {
   "cell_type": "code",
   "execution_count": null,
   "id": "c7cd7ad7",
   "metadata": {},
   "outputs": [],
   "source": []
  },
  {
   "cell_type": "code",
   "execution_count": null,
   "id": "8974b4e5",
   "metadata": {},
   "outputs": [],
   "source": []
  },
  {
   "cell_type": "code",
   "execution_count": null,
   "id": "0632f74c",
   "metadata": {},
   "outputs": [],
   "source": []
  },
  {
   "cell_type": "code",
   "execution_count": null,
   "id": "f6b2da7f",
   "metadata": {},
   "outputs": [],
   "source": []
  },
  {
   "cell_type": "code",
   "execution_count": null,
   "id": "4cedd862",
   "metadata": {},
   "outputs": [],
   "source": []
  },
  {
   "cell_type": "code",
   "execution_count": null,
   "id": "de495660",
   "metadata": {},
   "outputs": [],
   "source": []
  },
  {
   "cell_type": "code",
   "execution_count": null,
   "id": "b675a2a0",
   "metadata": {},
   "outputs": [],
   "source": []
  },
  {
   "cell_type": "code",
   "execution_count": null,
   "id": "a6a2c747",
   "metadata": {},
   "outputs": [],
   "source": []
  },
  {
   "cell_type": "code",
   "execution_count": null,
   "id": "b86e3998",
   "metadata": {},
   "outputs": [],
   "source": []
  },
  {
   "cell_type": "code",
   "execution_count": null,
   "id": "3953b26b",
   "metadata": {},
   "outputs": [],
   "source": []
  },
  {
   "cell_type": "code",
   "execution_count": null,
   "id": "7e3ac125",
   "metadata": {},
   "outputs": [],
   "source": []
  },
  {
   "cell_type": "code",
   "execution_count": null,
   "id": "453d6f02",
   "metadata": {},
   "outputs": [],
   "source": []
  },
  {
   "cell_type": "code",
   "execution_count": null,
   "id": "6ee6a751",
   "metadata": {},
   "outputs": [],
   "source": []
  },
  {
   "cell_type": "code",
   "execution_count": null,
   "id": "ea63c500",
   "metadata": {},
   "outputs": [],
   "source": []
  },
  {
   "cell_type": "code",
   "execution_count": null,
   "id": "a1e4a662",
   "metadata": {},
   "outputs": [],
   "source": []
  },
  {
   "cell_type": "code",
   "execution_count": null,
   "id": "bb4ca23d",
   "metadata": {},
   "outputs": [],
   "source": []
  },
  {
   "cell_type": "code",
   "execution_count": null,
   "id": "cf7b88ab",
   "metadata": {},
   "outputs": [],
   "source": []
  },
  {
   "cell_type": "code",
   "execution_count": null,
   "id": "07af84e5",
   "metadata": {},
   "outputs": [],
   "source": []
  },
  {
   "cell_type": "code",
   "execution_count": null,
   "id": "2f32646c",
   "metadata": {},
   "outputs": [],
   "source": []
  },
  {
   "cell_type": "code",
   "execution_count": null,
   "id": "42e6c931",
   "metadata": {},
   "outputs": [],
   "source": []
  },
  {
   "cell_type": "code",
   "execution_count": null,
   "id": "b79c31eb",
   "metadata": {},
   "outputs": [],
   "source": []
  },
  {
   "cell_type": "code",
   "execution_count": null,
   "id": "5e37c2ee",
   "metadata": {},
   "outputs": [],
   "source": []
  },
  {
   "cell_type": "code",
   "execution_count": null,
   "id": "f4dd40c8",
   "metadata": {},
   "outputs": [],
   "source": []
  },
  {
   "cell_type": "code",
   "execution_count": null,
   "id": "b18f97ce",
   "metadata": {},
   "outputs": [],
   "source": []
  },
  {
   "cell_type": "code",
   "execution_count": null,
   "id": "2d4240a6",
   "metadata": {},
   "outputs": [],
   "source": []
  },
  {
   "cell_type": "code",
   "execution_count": null,
   "id": "4adfaaa1",
   "metadata": {},
   "outputs": [],
   "source": []
  },
  {
   "cell_type": "code",
   "execution_count": null,
   "id": "34277957",
   "metadata": {},
   "outputs": [],
   "source": []
  },
  {
   "cell_type": "code",
   "execution_count": null,
   "id": "de59abb0",
   "metadata": {},
   "outputs": [],
   "source": []
  },
  {
   "cell_type": "code",
   "execution_count": null,
   "id": "00c80445",
   "metadata": {},
   "outputs": [],
   "source": []
  },
  {
   "cell_type": "code",
   "execution_count": null,
   "id": "f9142a7b",
   "metadata": {},
   "outputs": [],
   "source": []
  },
  {
   "cell_type": "code",
   "execution_count": null,
   "id": "872e5dfc",
   "metadata": {},
   "outputs": [],
   "source": []
  },
  {
   "cell_type": "code",
   "execution_count": null,
   "id": "d58b4c2a",
   "metadata": {},
   "outputs": [],
   "source": []
  },
  {
   "cell_type": "code",
   "execution_count": null,
   "id": "91bcaca7",
   "metadata": {},
   "outputs": [],
   "source": []
  },
  {
   "cell_type": "code",
   "execution_count": null,
   "id": "31ef5ec8",
   "metadata": {},
   "outputs": [],
   "source": []
  },
  {
   "cell_type": "code",
   "execution_count": null,
   "id": "406c0087",
   "metadata": {},
   "outputs": [],
   "source": []
  },
  {
   "cell_type": "code",
   "execution_count": null,
   "id": "97534e6e",
   "metadata": {},
   "outputs": [],
   "source": []
  },
  {
   "cell_type": "code",
   "execution_count": null,
   "id": "797b5bc2",
   "metadata": {},
   "outputs": [],
   "source": []
  },
  {
   "cell_type": "code",
   "execution_count": null,
   "id": "815a47f9",
   "metadata": {},
   "outputs": [],
   "source": []
  },
  {
   "cell_type": "code",
   "execution_count": null,
   "id": "0bd93c1b",
   "metadata": {},
   "outputs": [],
   "source": []
  },
  {
   "cell_type": "code",
   "execution_count": null,
   "id": "056f7851",
   "metadata": {},
   "outputs": [],
   "source": []
  },
  {
   "cell_type": "code",
   "execution_count": null,
   "id": "51132785",
   "metadata": {},
   "outputs": [],
   "source": []
  },
  {
   "cell_type": "code",
   "execution_count": null,
   "id": "df786cae",
   "metadata": {},
   "outputs": [],
   "source": []
  },
  {
   "cell_type": "code",
   "execution_count": null,
   "id": "292e2b9c",
   "metadata": {},
   "outputs": [],
   "source": []
  },
  {
   "cell_type": "code",
   "execution_count": null,
   "id": "96d4a512",
   "metadata": {},
   "outputs": [],
   "source": []
  },
  {
   "cell_type": "code",
   "execution_count": null,
   "id": "e7377eea",
   "metadata": {},
   "outputs": [],
   "source": []
  },
  {
   "cell_type": "code",
   "execution_count": null,
   "id": "f5f30cb7",
   "metadata": {},
   "outputs": [],
   "source": []
  },
  {
   "cell_type": "code",
   "execution_count": null,
   "id": "f953de07",
   "metadata": {},
   "outputs": [],
   "source": []
  },
  {
   "cell_type": "code",
   "execution_count": null,
   "id": "ca09db97",
   "metadata": {},
   "outputs": [],
   "source": []
  },
  {
   "cell_type": "code",
   "execution_count": null,
   "id": "0821d468",
   "metadata": {},
   "outputs": [],
   "source": []
  },
  {
   "cell_type": "code",
   "execution_count": null,
   "id": "f700cfd4",
   "metadata": {},
   "outputs": [],
   "source": []
  },
  {
   "cell_type": "code",
   "execution_count": null,
   "id": "f69417f9",
   "metadata": {},
   "outputs": [],
   "source": []
  },
  {
   "cell_type": "code",
   "execution_count": null,
   "id": "50e8da25",
   "metadata": {},
   "outputs": [],
   "source": []
  },
  {
   "cell_type": "code",
   "execution_count": null,
   "id": "fa069f47",
   "metadata": {},
   "outputs": [],
   "source": []
  },
  {
   "cell_type": "code",
   "execution_count": null,
   "id": "63f6c94d",
   "metadata": {},
   "outputs": [],
   "source": []
  },
  {
   "cell_type": "code",
   "execution_count": null,
   "id": "3813903c",
   "metadata": {},
   "outputs": [],
   "source": []
  },
  {
   "cell_type": "code",
   "execution_count": null,
   "id": "7ea152d1",
   "metadata": {},
   "outputs": [],
   "source": []
  },
  {
   "cell_type": "code",
   "execution_count": null,
   "id": "8cc11ab8",
   "metadata": {},
   "outputs": [],
   "source": []
  },
  {
   "cell_type": "code",
   "execution_count": null,
   "id": "f73aef0d",
   "metadata": {},
   "outputs": [],
   "source": []
  },
  {
   "cell_type": "code",
   "execution_count": null,
   "id": "4167202a",
   "metadata": {},
   "outputs": [],
   "source": []
  },
  {
   "cell_type": "code",
   "execution_count": null,
   "id": "3c6c58e1",
   "metadata": {},
   "outputs": [],
   "source": []
  },
  {
   "cell_type": "code",
   "execution_count": null,
   "id": "488d707a",
   "metadata": {},
   "outputs": [],
   "source": []
  },
  {
   "cell_type": "code",
   "execution_count": null,
   "id": "0f297236",
   "metadata": {},
   "outputs": [],
   "source": []
  },
  {
   "cell_type": "code",
   "execution_count": null,
   "id": "d7c7abf5",
   "metadata": {},
   "outputs": [],
   "source": []
  },
  {
   "cell_type": "code",
   "execution_count": null,
   "id": "7d1f80cd",
   "metadata": {},
   "outputs": [],
   "source": []
  },
  {
   "cell_type": "code",
   "execution_count": null,
   "id": "25c70239",
   "metadata": {},
   "outputs": [],
   "source": []
  },
  {
   "cell_type": "code",
   "execution_count": null,
   "id": "f245fffc",
   "metadata": {},
   "outputs": [],
   "source": []
  },
  {
   "cell_type": "code",
   "execution_count": null,
   "id": "4b72a5db",
   "metadata": {},
   "outputs": [],
   "source": []
  },
  {
   "cell_type": "code",
   "execution_count": null,
   "id": "5b3fec86",
   "metadata": {},
   "outputs": [],
   "source": []
  },
  {
   "cell_type": "code",
   "execution_count": null,
   "id": "3d04cf75",
   "metadata": {},
   "outputs": [],
   "source": []
  },
  {
   "cell_type": "code",
   "execution_count": null,
   "id": "69d0dd91",
   "metadata": {},
   "outputs": [],
   "source": []
  },
  {
   "cell_type": "code",
   "execution_count": null,
   "id": "a5966103",
   "metadata": {},
   "outputs": [],
   "source": []
  },
  {
   "cell_type": "code",
   "execution_count": null,
   "id": "7b8ea28e",
   "metadata": {},
   "outputs": [],
   "source": []
  },
  {
   "cell_type": "code",
   "execution_count": null,
   "id": "246323e2",
   "metadata": {},
   "outputs": [],
   "source": []
  },
  {
   "cell_type": "code",
   "execution_count": null,
   "id": "8b1c5080",
   "metadata": {},
   "outputs": [],
   "source": []
  },
  {
   "cell_type": "code",
   "execution_count": null,
   "id": "093badfc",
   "metadata": {},
   "outputs": [],
   "source": []
  },
  {
   "cell_type": "code",
   "execution_count": null,
   "id": "642967d6",
   "metadata": {},
   "outputs": [],
   "source": []
  }
 ],
 "metadata": {
  "kernelspec": {
   "display_name": "Python 3 (ipykernel)",
   "language": "python",
   "name": "python3"
  },
  "language_info": {
   "codemirror_mode": {
    "name": "ipython",
    "version": 3
   },
   "file_extension": ".py",
   "mimetype": "text/x-python",
   "name": "python",
   "nbconvert_exporter": "python",
   "pygments_lexer": "ipython3",
   "version": "3.7.11"
  }
 },
 "nbformat": 4,
 "nbformat_minor": 5
}
