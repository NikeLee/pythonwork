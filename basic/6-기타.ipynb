{
 "cells": [
  {
   "cell_type": "markdown",
   "id": "97b4b7d2",
   "metadata": {},
   "source": [
    "# 1. 모듈"
   ]
  },
  {
   "cell_type": "markdown",
   "id": "fb024dfe",
   "metadata": {},
   "source": [
    "### (1) 정의\n",
    "\n",
    "+ 비슷하거나 관련된 일을 하는 함수, 클래스, 상수값들을 모아서 하나의 파일에 저장하고 추후에 재사용하기 위한 목적\n",
    "+ 상수, 함수, 클래스들을 모아놓은 파일 : .py\n",
    "\n",
    "\n",
    "### (2) 종류\n",
    "\n",
    "+ 표준 모듈\n",
    "+ 사용자 정의 모듈\n",
    "+ 서드 파티 모듈\n",
    "\n",
    "\n",
    "### (3) 참조\n",
    "\n",
    "+ 같은 경로\n",
    "+ 기존 모듈경로에 추가 : 주로 아나콘다의 경우에는 Lib/site-packages\n",
    "+ sys모듈을 이용해서 path경로에 추가\n",
    "    - sys.path.append(\"경로\")\n",
    "    \n",
    "    \n",
    "### (4) 선언 방법\n",
    "\n",
    "+ import 모듈명\n",
    "+ import 모듈명 as 별칭\n",
    "+ from 모듈명 import 상수, 함수, 클래스\n",
    "+ from 모듈명 import *\n",
    "+ from 모듈명 import 이름 as 별칭\n",
    "\n",
    "\n",
    "### (5) 패키지\n",
    "\n",
    "+ 여러 모듈들을 모아놓은 폴더"
   ]
  },
  {
   "cell_type": "code",
   "execution_count": 2,
   "id": "1d633a0a",
   "metadata": {},
   "outputs": [],
   "source": [
    "import sys\n",
    "sys.path.append(\"C:\\\\mylib\")"
   ]
  },
  {
   "cell_type": "code",
   "execution_count": 8,
   "id": "c7c2b3a3",
   "metadata": {},
   "outputs": [
    {
     "name": "stdout",
     "output_type": "stream",
     "text": [
      "40\n",
      "키 :  180\n",
      "몸무게 :  80\n",
      "기타 :  {'name': '홍길동', 'blood': 'O'}\n",
      "파이썬 주식회사\n",
      "3.141592\n",
      "28.274328\n"
     ]
    }
   ],
   "source": [
    "\"\"\"\n",
    "import mymodule2\n",
    "\n",
    "print(mymodule2.sum(20, 20))\n",
    "mymodule2.info(80, 180, name=\"홍길동\", blood=\"O\")\n",
    "print(mymodule2.company)\n",
    "print(mymodule2.Math().PI)\n",
    "print(mymodule2.Math().solve(3))\n",
    "\"\"\"\n",
    "\n",
    "\"\"\"\n",
    "import mymodule2 as my\n",
    "\n",
    "print(my.sum(20, 20))\n",
    "my.info(80, 180, name=\"홍길동\", blood=\"O\")\n",
    "print(my.company)\n",
    "print(my.Math().PI)\n",
    "print(my.Math().solve(3))\n",
    "\"\"\"\n",
    "\n",
    "\"\"\"\n",
    "from mymodule2 import sum, info, company, Math\n",
    "\n",
    "print(sum(20, 20))\n",
    "info(80, 180, name=\"홍길동\", blood=\"O\")\n",
    "print(company)\n",
    "print(Math().PI)\n",
    "print(Math().solve(3))\n",
    "\"\"\"\n",
    "\n",
    "from mymodule2 import *\n",
    "\n",
    "print(sum(20, 20))\n",
    "info(80, 180, name=\"홍길동\", blood=\"O\")\n",
    "print(company)\n",
    "print(Math().PI)\n",
    "print(Math().solve(3))"
   ]
  },
  {
   "cell_type": "code",
   "execution_count": 14,
   "id": "75a321ae",
   "metadata": {},
   "outputs": [
    {
     "name": "stdout",
     "output_type": "stream",
     "text": [
      "play\n",
      "render\n",
      "echo\n"
     ]
    }
   ],
   "source": [
    "import game.play\n",
    "import game.graphic.render\n",
    "import game.sound.echo\n",
    "\n",
    "game.play.play_test()\n",
    "game.graphic.render.render_test()\n",
    "game.sound.echo.echo_test()"
   ]
  },
  {
   "cell_type": "markdown",
   "id": "9a8e6126",
   "metadata": {},
   "source": [
    "---\n",
    "\n",
    "# 2. 예외 처리"
   ]
  },
  {
   "cell_type": "markdown",
   "id": "db7f1bf4",
   "metadata": {},
   "source": [
    "### (1) 예외처리를 하는 이유\n",
    "\n",
    "+ 자연스러운 예외 메시지를 출력\n",
    "+ 프로그램의 비정상적인 종료를 방지\n",
    "\n",
    "\n",
    "### (2) 문법\n",
    "\n",
    "    try :\n",
    "        코드\n",
    "        ...\n",
    "    except :\n",
    "        코드\n",
    "        ..."
   ]
  },
  {
   "cell_type": "code",
   "execution_count": 18,
   "id": "dc8e4896",
   "metadata": {},
   "outputs": [
    {
     "ename": "ZeroDivisionError",
     "evalue": "division by zero",
     "output_type": "error",
     "traceback": [
      "\u001b[1;31m---------------------------------------------------------------------------\u001b[0m",
      "\u001b[1;31mZeroDivisionError\u001b[0m                         Traceback (most recent call last)",
      "\u001b[1;32m<ipython-input-18-768ee1e9b6f1>\u001b[0m in \u001b[0;36m<module>\u001b[1;34m\u001b[0m\n\u001b[0;32m      9\u001b[0m \u001b[1;31m#test(3)\u001b[0m\u001b[1;33m\u001b[0m\u001b[1;33m\u001b[0m\u001b[1;33m\u001b[0m\u001b[0m\n\u001b[0;32m     10\u001b[0m \u001b[1;31m#test(2)\u001b[0m\u001b[1;33m\u001b[0m\u001b[1;33m\u001b[0m\u001b[1;33m\u001b[0m\u001b[0m\n\u001b[1;32m---> 11\u001b[1;33m \u001b[0mtest\u001b[0m\u001b[1;33m(\u001b[0m\u001b[1;36m0\u001b[0m\u001b[1;33m)\u001b[0m\u001b[1;33m\u001b[0m\u001b[1;33m\u001b[0m\u001b[0m\n\u001b[0m",
      "\u001b[1;32m<ipython-input-18-768ee1e9b6f1>\u001b[0m in \u001b[0;36mtest\u001b[1;34m(num)\u001b[0m\n\u001b[0;32m      1\u001b[0m \u001b[1;32mdef\u001b[0m \u001b[0mtest\u001b[0m\u001b[1;33m(\u001b[0m\u001b[0mnum\u001b[0m\u001b[1;33m)\u001b[0m\u001b[1;33m:\u001b[0m\u001b[1;33m\u001b[0m\u001b[1;33m\u001b[0m\u001b[0m\n\u001b[1;32m----> 2\u001b[1;33m     \u001b[0mresult\u001b[0m \u001b[1;33m=\u001b[0m \u001b[1;36m10\u001b[0m \u001b[1;33m/\u001b[0m \u001b[0mnum\u001b[0m\u001b[1;33m\u001b[0m\u001b[1;33m\u001b[0m\u001b[0m\n\u001b[0m\u001b[0;32m      3\u001b[0m     \u001b[0mprint\u001b[0m\u001b[1;33m(\u001b[0m\u001b[0mresult\u001b[0m\u001b[1;33m)\u001b[0m\u001b[1;33m\u001b[0m\u001b[1;33m\u001b[0m\u001b[0m\n\u001b[0;32m      4\u001b[0m \u001b[1;33m\u001b[0m\u001b[0m\n\u001b[0;32m      5\u001b[0m     \u001b[0mprint\u001b[0m\u001b[1;33m(\u001b[0m\u001b[1;34m\"나머지 코드 실행~~\"\u001b[0m\u001b[1;33m)\u001b[0m\u001b[1;33m\u001b[0m\u001b[1;33m\u001b[0m\u001b[0m\n",
      "\u001b[1;31mZeroDivisionError\u001b[0m: division by zero"
     ]
    }
   ],
   "source": [
    "def test(num):\n",
    "    result = 10 / num\n",
    "    print(result)\n",
    "    \n",
    "    print(\"나머지 코드 실행~~\")\n",
    "    \n",
    "############################################\n",
    "\n",
    "#test(3)\n",
    "#test(2)\n",
    "test(0)"
   ]
  },
  {
   "cell_type": "code",
   "execution_count": 21,
   "id": "deab85d3",
   "metadata": {},
   "outputs": [
    {
     "name": "stdout",
     "output_type": "stream",
     "text": [
      "3.3333333333333335\n",
      "나머지 코드 실행~~\n",
      "5.0\n",
      "나머지 코드 실행~~\n",
      "에러가 났어요\n",
      "나머지 코드 실행~~\n"
     ]
    }
   ],
   "source": [
    "def test(num):\n",
    "    try :\n",
    "        result = 10 / num\n",
    "        print(result)\n",
    "    except :\n",
    "        print(\"에러가 났어요\")\n",
    "    \n",
    "    print(\"나머지 코드 실행~~\")\n",
    "    \n",
    "############################################\n",
    "\n",
    "test(3)\n",
    "test(2)\n",
    "test(0)"
   ]
  },
  {
   "cell_type": "code",
   "execution_count": 22,
   "id": "d06b81fc",
   "metadata": {},
   "outputs": [
    {
     "name": "stdout",
     "output_type": "stream",
     "text": [
      "3.3333333333333335\n",
      "나머지 코드 실행~~\n",
      "5.0\n",
      "나머지 코드 실행~~\n",
      "0으로 나누면 안됩니다.\n",
      "나머지 코드 실행~~\n"
     ]
    }
   ],
   "source": [
    "def test(num):\n",
    "    try :\n",
    "        result = 10 / num\n",
    "        print(result)\n",
    "    except ZeroDivisionError :\n",
    "        print(\"0으로 나누면 안됩니다.\")\n",
    "    \n",
    "    print(\"나머지 코드 실행~~\")\n",
    "    \n",
    "############################################\n",
    "\n",
    "test(3)\n",
    "test(2)\n",
    "test(0)"
   ]
  },
  {
   "cell_type": "code",
   "execution_count": 24,
   "id": "141cec06",
   "metadata": {},
   "outputs": [
    {
     "name": "stdout",
     "output_type": "stream",
     "text": [
      "3.3333333333333335\n",
      "나머지 코드 실행~~\n",
      "5.0\n",
      "나머지 코드 실행~~\n",
      "0으로 나누면 안됩니다.\n",
      "나머지 코드 실행~~\n",
      "알수 없는 오류\n",
      "나머지 코드 실행~~\n"
     ]
    }
   ],
   "source": [
    "def test(num):\n",
    "    try :\n",
    "        result = 10 / num\n",
    "        print(result)\n",
    "    except ZeroDivisionError :\n",
    "        print(\"0으로 나누면 안됩니다.\")\n",
    "    except :\n",
    "        print(\"알수 없는 오류\")\n",
    "    \n",
    "    print(\"나머지 코드 실행~~\")\n",
    "    \n",
    "############################################\n",
    "\n",
    "test(3)\n",
    "test(2)\n",
    "test(0)\n",
    "test('가')"
   ]
  },
  {
   "cell_type": "code",
   "execution_count": 28,
   "id": "26b46e8e",
   "metadata": {},
   "outputs": [
    {
     "name": "stdout",
     "output_type": "stream",
     "text": [
      "5.0\n",
      "2\n",
      "나머지 코드 실행~~\n",
      "3.3333333333333335\n",
      "오류 : 인덱스 접근이 잘못되었습니다.\n",
      "나머지 코드 실행~~\n"
     ]
    }
   ],
   "source": [
    "def test(num):\n",
    "    try:\n",
    "        result = 10 / num\n",
    "        print(result)\n",
    "        \n",
    "        arr = [0, 1, 2]\n",
    "        print(arr[num])\n",
    "    except ZeroDivisionError:\n",
    "        print(\"0으로 나누면 안됩니다.\")\n",
    "    except IndexError:\n",
    "        print(\"오류 : 인덱스 접근이 잘못되었습니다.\")\n",
    "    except :\n",
    "        print(\"알수 없는 오류\")\n",
    "        \n",
    "    print(\"나머지 코드 실행~~\")\n",
    "    \n",
    "############################################\n",
    "\n",
    "test(2)\n",
    "test(3)"
   ]
  },
  {
   "cell_type": "code",
   "execution_count": 29,
   "id": "e3cfadd0",
   "metadata": {},
   "outputs": [
    {
     "name": "stdout",
     "output_type": "stream",
     "text": [
      "5.0\n",
      "2\n",
      "나머지 코드 실행~~\n",
      "3.3333333333333335\n",
      "0으로 나누었거나 인덱스 접근이 잘못 되었습니다.\n",
      "나머지 코드 실행~~\n"
     ]
    }
   ],
   "source": [
    "def test(num):\n",
    "    try:\n",
    "        result = 10 / num\n",
    "        print(result)\n",
    "        \n",
    "        arr = [0, 1, 2]\n",
    "        print(arr[num])\n",
    "    except (ZeroDivisionError, IndexError):\n",
    "        print(\"0으로 나누었거나 인덱스 접근이 잘못 되었습니다.\")\n",
    "    except :\n",
    "        print(\"알수 없는 오류\")\n",
    "        \n",
    "    print(\"나머지 코드 실행~~\")\n",
    "    \n",
    "############################################\n",
    "\n",
    "test(2)\n",
    "test(3)"
   ]
  },
  {
   "cell_type": "code",
   "execution_count": 32,
   "id": "d126f7e7",
   "metadata": {},
   "outputs": [
    {
     "name": "stdout",
     "output_type": "stream",
     "text": [
      "5.0\n",
      "2\n",
      "나머지 코드 실행~~\n",
      "3.3333333333333335\n",
      "오류 : 인덱스 접근이 잘못되었습니다. :  list index out of range\n",
      "나머지 코드 실행~~\n",
      "알수 없는 오류 :  unsupported operand type(s) for /: 'int' and 'str'\n",
      "나머지 코드 실행~~\n"
     ]
    }
   ],
   "source": [
    "def test(num):\n",
    "    try:\n",
    "        result = 10 / num\n",
    "        print(result)\n",
    "        \n",
    "        arr = [0, 1, 2]\n",
    "        print(arr[num])\n",
    "    except ZeroDivisionError as e:\n",
    "        print(\"0으로 나누면 안됩니다. : \", e)\n",
    "    except IndexError as e:\n",
    "        print(\"오류 : 인덱스 접근이 잘못되었습니다. : \", e)\n",
    "    except Exception as e:\n",
    "        print(\"알수 없는 오류 : \", e)\n",
    "        \n",
    "    print(\"나머지 코드 실행~~\")\n",
    "    \n",
    "############################################\n",
    "\n",
    "test(2)\n",
    "test(3)\n",
    "test(\"가\")"
   ]
  },
  {
   "cell_type": "code",
   "execution_count": 45,
   "id": "4664276c",
   "metadata": {},
   "outputs": [
    {
     "name": "stdout",
     "output_type": "stream",
     "text": [
      "5.0\n",
      "2\n",
      "알수없는 오류 :  [Errno 2] No such file or directory: 'nothing.txt'\n",
      "이곳의 코드는 반드시 실행됨.\n"
     ]
    }
   ],
   "source": [
    "def test(num):\n",
    "    try:\n",
    "        result = 10 / num\n",
    "        print(result)\n",
    "        \n",
    "        arr = [0, 1, 2]\n",
    "        print(arr[num])\n",
    "        \n",
    "        f = None\n",
    "        f = open(\"nothing.txt\", \"r\")\n",
    "    except ZeroDivisionError as e:\n",
    "        print(\"0으로 나누면 안됩니다. : \", e)\n",
    "        return\n",
    "    except IndexError as e:\n",
    "        print(\"오류 : 인덱스 접근이 잘못되었습니다. : \", e)\n",
    "        return\n",
    "    except Exception as e:\n",
    "        print(\"알수없는 오류 : \", e)\n",
    "        return\n",
    "    finally :\n",
    "        print(\"이곳의 코드는 반드시 실행됨.\")\n",
    "        if f != None:\n",
    "            f.close()\n",
    "            \n",
    "    print(\"나머지 코드 실행~~\")\n",
    "    \n",
    "############################################\n",
    "\n",
    "# test(2)\n",
    "test(2)"
   ]
  },
  {
   "cell_type": "code",
   "execution_count": null,
   "id": "569eae33",
   "metadata": {},
   "outputs": [],
   "source": [
    "def test(num):\n",
    "    try:\n",
    "        result = 10 / num\n",
    "        print(result)\n",
    "        \n",
    "        arr = [0, 1, 2]\n",
    "        print(arr[num])\n",
    "        \n",
    "        f = open(\"nothing.txt\", \"r\")\n",
    "    except ZeroDivisionError as e:\n",
    "        print(\"0으로 나누면 안됩니다. : \", e)\n",
    "        return\n",
    "    except IndexError as e:\n",
    "        print(\"오류 : 인덱스 접근이 잘못되었습니다. : \", e)\n",
    "        return\n",
    "    except (FileNotFoundError, UnboundLocalError) as e:\n",
    "        print(\"파일을 찾을 수 없다. : \", e)\n",
    "        return\n",
    "    finally :\n",
    "        print(\"이곳의 코드는 반드시 실행됨.\")\n",
    "        try:\n",
    "            if f != None:\n",
    "                f.close()\n",
    "        except:\n",
    "            pass\n",
    "        \n",
    "    print(\"나머지 코드 실행~~\")\n",
    "    "
   ]
  }
 ],
 "metadata": {
  "kernelspec": {
   "display_name": "Python 3",
   "language": "python",
   "name": "python3"
  },
  "language_info": {
   "codemirror_mode": {
    "name": "ipython",
    "version": 3
   },
   "file_extension": ".py",
   "mimetype": "text/x-python",
   "name": "python",
   "nbconvert_exporter": "python",
   "pygments_lexer": "ipython3",
   "version": "3.8.8"
  }
 },
 "nbformat": 4,
 "nbformat_minor": 5
}
