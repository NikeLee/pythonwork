{
 "cells": [
  {
   "cell_type": "markdown",
   "id": "100f731b",
   "metadata": {},
   "source": [
    "## 1. 함수의 정의\n",
    "\n",
    "+ 일정한 작업을 수행하는 코드 블럭\n",
    "\n",
    "\n",
    "\n",
    "## 2. 함수의 장점\n",
    "\n",
    "+ 반복적인 코드를 없애주어 전체 코드의 길이를 짧게 만들어 준다(재사용)\n",
    "+ 프로그램의 유지보수를 쉽게 만들어 준다.\n",
    "\n",
    "\n",
    "\n",
    "## 3. 함수의 구현\n",
    "\n",
    "    def 함수명(...) :\n",
    "        코드 정의\n",
    "        ...\n",
    "        [return ...]\n",
    "        \n",
    "        \n",
    "        \n",
    "## 4. 함수의 호출 방식\n",
    "\n",
    "    1) 인자(인수)가 없는 방식\n",
    "    2) 인자(인수)가 있는 방식\n",
    "    3) 반환값이 있는 경우\n",
    "        - return의 두 가지 용도\n",
    "            *. 값을 반환 : 값은 1개만 반환\n",
    "            *. 함수의 강제 종료\n",
    "            \n",
    "            \n",
    "            \n",
    "## 함수 설계\n",
    "\n",
    "+ 단일 기능\n",
    "+ 재사용성\n",
    "\n",
    "\n",
    "## 함수의 종류\n",
    "\n",
    "+ 사용자 정의 함수(User Define Function)\n",
    "+ 내장 함수(Built-in Function)\n",
    "+ 외장 함수(External Function)"
   ]
  },
  {
   "cell_type": "code",
   "execution_count": 9,
   "id": "79f9ddd9",
   "metadata": {},
   "outputs": [],
   "source": [
    "def line(cnt, shape):\n",
    "    for v in range(cnt):\n",
    "        print(shape, end=\"\")\n",
    "    \n",
    "    print()"
   ]
  },
  {
   "cell_type": "code",
   "execution_count": 12,
   "id": "020463e2",
   "metadata": {},
   "outputs": [
    {
     "name": "stdout",
     "output_type": "stream",
     "text": [
      "------------------------------\n",
      "         친구관리 프로그램         \n",
      "========================================\n",
      "1. 리스트 출력\n",
      "2. 친구 추가\n",
      "3. 종료\n",
      "**************************************************\n"
     ]
    }
   ],
   "source": [
    "line(30, '-')\n",
    "print(\"         친구관리 프로그램         \")\n",
    "line(40, '=')\n",
    "print(\"1. 리스트 출력\")\n",
    "print(\"2. 친구 추가\")\n",
    "print(\"3. 종료\")\n",
    "line(50, '*')"
   ]
  },
  {
   "cell_type": "code",
   "execution_count": 23,
   "id": "b95d0935",
   "metadata": {},
   "outputs": [],
   "source": [
    "def swap(num1, num2):\n",
    "    temp = num1\n",
    "    num1 = num2\n",
    "    num2 = temp\n",
    "    \n",
    "    return num1, num2"
   ]
  },
  {
   "cell_type": "code",
   "execution_count": 25,
   "id": "36e7588f",
   "metadata": {},
   "outputs": [
    {
     "name": "stdout",
     "output_type": "stream",
     "text": [
      "두 수의 교환\n",
      "결과 :  (10, 5)\n"
     ]
    }
   ],
   "source": [
    "num1, num2 = 10, 5\n",
    "\n",
    "print(\"두 수의 교환\")\n",
    "\n",
    "#print(swap(num1, num2))\n",
    "#n1, n2 = swap(num1, num2)\n",
    "\n",
    "#print(\"결과 : \", n1, n2)\n",
    "print(\"결과 : \", swap(n1, n2))"
   ]
  },
  {
   "cell_type": "markdown",
   "id": "fcb2c2dd",
   "metadata": {},
   "source": [
    "---\n",
    "\n",
    "### 파이썬에서 함수를 지원하기 위한 문법"
   ]
  },
  {
   "cell_type": "code",
   "execution_count": 9,
   "id": "ae90668b",
   "metadata": {},
   "outputs": [
    {
     "name": "stdout",
     "output_type": "stream",
     "text": [
      "전국 대표\n",
      "홍길동 지역 대표\n",
      "지역 대표\n"
     ]
    }
   ],
   "source": [
    "##### 변수의 유효(생존) 범위 : 지역변수, 전역변수\n",
    "\n",
    "player = \"전국 대표\"\n",
    "\n",
    "def funcSoccer():\n",
    "    global player\n",
    "    \n",
    "    name = \"홍길동\"\n",
    "    player = \"지역 대표\"\n",
    "    print(name, player)\n",
    "    \n",
    "#####################################\n",
    "\n",
    "print(player)\n",
    "\n",
    "funcSoccer()\n",
    "# print(name)\n",
    "\n",
    "print(player)"
   ]
  },
  {
   "cell_type": "code",
   "execution_count": 23,
   "id": "72b1292e",
   "metadata": {},
   "outputs": [
    {
     "name": "stdout",
     "output_type": "stream",
     "text": [
      "**********\n",
      "**********\n",
      "안녕하세요~~홍길동님\n",
      "반드시 이름을 입력해야 합니다.\n",
      "안녕하세요! 서울에 사는 홍길동님... 당신의 나이는 27입니다.\n",
      "안녕하세요! 서울에 사는 임꺽정님... 당신의 나이는 30입니다.\n",
      "안녕하세요! 서울에 사는 신돌석님... 당신의 나이는 25입니다.\n"
     ]
    }
   ],
   "source": [
    "##### default 인수\n",
    "\n",
    "def line(cnt=10):\n",
    "    for v in range(cnt):\n",
    "        print(\"*\", end=\"\")\n",
    "    \n",
    "    print()\n",
    "\n",
    "    \n",
    "def hello1(name=None):\n",
    "    if name == None:\n",
    "        print(\"반드시 이름을 입력해야 합니다.\")\n",
    "        return\n",
    "        \n",
    "    print(\"안녕하세요~~{}님\".format(name))\n",
    "\n",
    "    \n",
    "def hello2(name, age=25, addr=\"서울\"):\n",
    "    print(\"안녕하세요! %s에 사는 %s님... 당신의 나이는 %d입니다.\"%(addr, name, age))\n",
    "##################################################\n",
    "\n",
    "line(10)\n",
    "line()\n",
    "\n",
    "hello1(\"홍길동\")\n",
    "hello1()\n",
    "\n",
    "#hello2(\"서울\", \"홍길동\", 27)\n",
    "hello2(\"홍길동\", 27, \"서울\")\n",
    "hello2(\"임꺽정\", 30)\n",
    "hello2(\"신돌석\")"
   ]
  },
  {
   "cell_type": "code",
   "execution_count": 33,
   "id": "45a05134",
   "metadata": {},
   "outputs": [
    {
     "name": "stdout",
     "output_type": "stream",
     "text": [
      "('홍길동',)  안녕하세요\n",
      "('홍길동', '임꺽정', '신돌석')  안녕하세요\n",
      "[1, 2] [3, 4] [5, 6]\n",
      "[1, 2] [3, 4] [5, 6]\n",
      "50 170 홍길동\n",
      "{}\n",
      "60 180 임꺽정\n",
      "{'blood': 'B', 'age': 30, 'addr': '서울'}\n"
     ]
    }
   ],
   "source": [
    "##### 가변 인수\n",
    "#-------------------\n",
    "# * : 곱셈, 반복, 매개변수(가변인수, packing), 일반 변수(unpacking)\n",
    "# ** : 거듭제곱, 매개변수(가변인수, dict)\n",
    "\n",
    "def greeting(*name):\n",
    "    print(name, \" 안녕하세요\")\n",
    "\n",
    "def info(weight, height, name, **other):\n",
    "    print(weight, height, name)\n",
    "    print(other)\n",
    "################################################\n",
    "\n",
    "greeting(\"홍길동\")\n",
    "greeting(\"홍길동\", \"임꺽정\", \"신돌석\")\n",
    "\n",
    "# unpacking\n",
    "a, b, c = ([1, 2], [3, 4], [5, 6])\n",
    "print(a, b, c)\n",
    "\n",
    "d = ([1, 2], [3, 4], [5, 6])\n",
    "print(*d)\n",
    "\n",
    "info(50, 170, \"홍길동\")\n",
    "info(60, 180, \"임꺽정\", blood=\"B\", age=30, addr=\"서울\")"
   ]
  },
  {
   "cell_type": "markdown",
   "id": "f3a442e6",
   "metadata": {},
   "source": [
    "---\n",
    "\n",
    "### Built-in Function"
   ]
  },
  {
   "cell_type": "code",
   "execution_count": 39,
   "id": "590108f7",
   "metadata": {},
   "outputs": [
    {
     "name": "stdout",
     "output_type": "stream",
     "text": [
      "True\n",
      "False\n",
      "False\n",
      "False\n",
      "---------------------------------------\n",
      "True\n",
      "True\n",
      "True\n",
      "True\n"
     ]
    }
   ],
   "source": [
    "#-------------------------------------------------\n",
    "# all(), any() : and, or 연산자\n",
    "#-------------------------------------------------\n",
    "print(all([1, 2, 3, -1, -2]))\n",
    "print(all([1, 2, 3, 0, -1, -2]))\n",
    "print(all([1, 2, 3, \"\", -1, -2]))\n",
    "print(all([1, 2, 3, None, -1, -2]))\n",
    "\n",
    "print(\"---------------------------------------\")\n",
    "\n",
    "print(any([1, 2, 3, -1, -2]))\n",
    "print(any([1, 2, 3, 0, -1, -2]))\n",
    "print(any([1, 2, 3, \"\", -1, -2]))\n",
    "print(any([1, 2, 3, None, -1, -2]))"
   ]
  },
  {
   "cell_type": "code",
   "execution_count": 42,
   "id": "a0e28b3f",
   "metadata": {},
   "outputs": [
    {
     "name": "stdout",
     "output_type": "stream",
     "text": [
      "100 홍길동\n",
      "101 임꺽정\n",
      "102 고길동\n",
      "103 Tom\n",
      "104 Jerry\n"
     ]
    }
   ],
   "source": [
    "#-----------------------------------------------------------------------------\n",
    "# enumerate(iterator) : 순서가 있는 자료형을 입력받아 인덱스 값을 포함해서 리턴\n",
    "#-----------------------------------------------------------------------------\n",
    "\n",
    "for i, v in enumerate([\"홍길동\", \"임꺽정\", \"고길동\", \"Tom\", \"Jerry\"], start=100):\n",
    "    print(i, v)"
   ]
  },
  {
   "cell_type": "code",
   "execution_count": 52,
   "id": "d05aeb36",
   "metadata": {},
   "outputs": [
    {
     "name": "stdout",
     "output_type": "stream",
     "text": [
      "7\n",
      "7\n",
      "안녕하세요\n"
     ]
    },
    {
     "data": {
      "text/plain": [
       "(2, 1)"
      ]
     },
     "execution_count": 52,
     "metadata": {},
     "output_type": "execute_result"
    }
   ],
   "source": [
    "#-----------------------------------------------------------------------------\n",
    "# eval(expression) : 표현식을 파이썬에서 실행 가능하게 만들어주는 역할\n",
    "#-----------------------------------------------------------------------------\n",
    "\n",
    "a = \"3+4\"\n",
    "print(int(a[0]) + int(a[-1]))\n",
    "print(eval(a))\n",
    "\n",
    "b = \"print('안녕하세요')\"\n",
    "eval(b)\n",
    "\n",
    "c = \"divmod(9, 4)\"\n",
    "eval(c)"
   ]
  },
  {
   "cell_type": "code",
   "execution_count": 58,
   "id": "ac16adef",
   "metadata": {},
   "outputs": [
    {
     "name": "stdout",
     "output_type": "stream",
     "text": [
      "12\n",
      "[12, 22, 32, 42, 52]\n",
      "12\n",
      "22\n",
      "32\n",
      "42\n",
      "52\n"
     ]
    },
    {
     "data": {
      "text/plain": [
       "[12, 22, 32, 42, 52]"
      ]
     },
     "execution_count": 58,
     "metadata": {},
     "output_type": "execute_result"
    }
   ],
   "source": [
    "#-----------------------------------------------------------------------------\n",
    "# map(function, iterator) : 집합의 각 요소가 함수에 의해 수행된 결과를 묶어서 리턴\n",
    "#-----------------------------------------------------------------------------\n",
    "\n",
    "def calc(x):\n",
    "    return x + 2\n",
    "\n",
    "################################\n",
    "\n",
    "print(calc(10))\n",
    "\n",
    "data = [10, 20, 30, 40, 50]\n",
    "\n",
    "result = []\n",
    "# result.append(calc(data[0]))\n",
    "# result.append(calc(data[1]))\n",
    "# result.append(calc(data[2]))\n",
    "# result.append(calc(data[3]))\n",
    "# result.append(calc(data[4]))\n",
    "# print(result)\n",
    "\n",
    "for v in data:\n",
    "    temp = calc(v)\n",
    "    result.append(temp)\n",
    "    \n",
    "print(result)\n",
    "\n",
    "# map\n",
    "# map(calc, data)\n",
    "\n",
    "for v in map(calc, data):\n",
    "    print(v)\n",
    "\n",
    "list(map(calc, data))"
   ]
  },
  {
   "cell_type": "code",
   "execution_count": 66,
   "id": "ed0c9b87",
   "metadata": {},
   "outputs": [
    {
     "name": "stdout",
     "output_type": "stream",
     "text": [
      "0 a1 b1 c1\n",
      "1 a2 b2 c2\n",
      "2 a3 b3 c3\n"
     ]
    }
   ],
   "source": [
    "#-----------------------------------------------------------------------------\n",
    "# zip(iterator) : 동일한 갯수로 이루어진 자료형을 묶어주는 역할\n",
    "#-----------------------------------------------------------------------------\n",
    "\n",
    "a = [\"a1\", \"a2\", \"a3\"]\n",
    "b = [\"b1\", \"b2\", \"b3\"]\n",
    "c = [\"c1\", \"c2\", \"c3\"]\n",
    "\n",
    "list(zip(a, b, c))\n",
    "\n",
    "\"\"\"\n",
    "0 a1 b1 c1\n",
    "1 a2 b2 c2\n",
    "2 a3 b3 c3\n",
    "\"\"\"\n",
    "\n",
    "#for (v1, v2, v3) in zip(a, b, c):\n",
    "#    print(v1, v2, v3)\n",
    "    \n",
    "for i, v in enumerate(zip(a, b, c)):\n",
    "    print(i, *v)"
   ]
  },
  {
   "cell_type": "markdown",
   "id": "250d806b",
   "metadata": {},
   "source": [
    "---\n",
    "\n",
    "### External Function\n",
    "\n",
    "+ import 모듈명\n",
    "+ C:\\Users\\acorn\\Anaconda3\\Lib\\site-packages"
   ]
  },
  {
   "cell_type": "code",
   "execution_count": 70,
   "id": "1097ccfb",
   "metadata": {},
   "outputs": [
    {
     "name": "stdout",
     "output_type": "stream",
     "text": [
      "['__breakpointhook__', '__displayhook__', '__doc__', '__excepthook__', '__interactivehook__', '__loader__', '__name__', '__package__', '__spec__', '__stderr__', '__stdin__', '__stdout__', '__unraisablehook__', '_base_executable', '_clear_type_cache', '_current_frames', '_debugmallocstats', '_enablelegacywindowsfsencoding', '_framework', '_getframe', '_git', '_home', '_xoptions', 'addaudithook', 'api_version', 'argv', 'audit', 'base_exec_prefix', 'base_prefix', 'breakpointhook', 'builtin_module_names', 'byteorder', 'call_tracing', 'callstats', 'copyright', 'displayhook', 'dllhandle', 'dont_write_bytecode', 'exc_info', 'excepthook', 'exec_prefix', 'executable', 'exit', 'flags', 'float_info', 'float_repr_style', 'get_asyncgen_hooks', 'get_coroutine_origin_tracking_depth', 'getallocatedblocks', 'getcheckinterval', 'getdefaultencoding', 'getfilesystemencodeerrors', 'getfilesystemencoding', 'getprofile', 'getrecursionlimit', 'getrefcount', 'getsizeof', 'getswitchinterval', 'gettrace', 'getwindowsversion', 'hash_info', 'hexversion', 'implementation', 'int_info', 'intern', 'is_finalizing', 'last_traceback', 'last_type', 'last_value', 'maxsize', 'maxunicode', 'meta_path', 'modules', 'path', 'path_hooks', 'path_importer_cache', 'platform', 'prefix', 'ps1', 'ps2', 'ps3', 'pycache_prefix', 'set_asyncgen_hooks', 'set_coroutine_origin_tracking_depth', 'setcheckinterval', 'setprofile', 'setrecursionlimit', 'setswitchinterval', 'settrace', 'stderr', 'stdin', 'stdout', 'thread_info', 'unraisablehook', 'version', 'version_info', 'warnoptions', 'winver']\n",
      "-----------------------------------\n",
      "['c:\\\\netsong7\\\\pythonwork\\\\basic', 'C:\\\\Users\\\\acorn\\\\Anaconda3\\\\python38.zip', 'C:\\\\Users\\\\acorn\\\\Anaconda3\\\\DLLs', 'C:\\\\Users\\\\acorn\\\\Anaconda3\\\\lib', 'C:\\\\Users\\\\acorn\\\\Anaconda3', '', 'C:\\\\Users\\\\acorn\\\\Anaconda3\\\\lib\\\\site-packages', 'C:\\\\Users\\\\acorn\\\\Anaconda3\\\\lib\\\\site-packages\\\\locket-0.2.1-py3.8.egg', 'C:\\\\Users\\\\acorn\\\\Anaconda3\\\\lib\\\\site-packages\\\\win32', 'C:\\\\Users\\\\acorn\\\\Anaconda3\\\\lib\\\\site-packages\\\\win32\\\\lib', 'C:\\\\Users\\\\acorn\\\\Anaconda3\\\\lib\\\\site-packages\\\\Pythonwin', 'C:\\\\Users\\\\acorn\\\\Anaconda3\\\\lib\\\\site-packages\\\\IPython\\\\extensions', 'C:\\\\Users\\\\acorn\\\\.ipython']\n",
      "win32\n",
      "3.8.8 (default, Apr 13 2021, 15:08:03) [MSC v.1916 64 bit (AMD64)]\n"
     ]
    }
   ],
   "source": [
    "import sys\n",
    "\n",
    "print(dir(sys))\n",
    "print(\"-----------------------------------\")\n",
    "print(sys.path)\n",
    "print(sys.platform)\n",
    "print(sys.version)"
   ]
  },
  {
   "cell_type": "code",
   "execution_count": 72,
   "id": "a0f8ee20",
   "metadata": {},
   "outputs": [
    {
     "name": "stdout",
     "output_type": "stream",
     "text": [
      "['DirEntry', 'F_OK', 'MutableMapping', 'O_APPEND', 'O_BINARY', 'O_CREAT', 'O_EXCL', 'O_NOINHERIT', 'O_RANDOM', 'O_RDONLY', 'O_RDWR', 'O_SEQUENTIAL', 'O_SHORT_LIVED', 'O_TEMPORARY', 'O_TEXT', 'O_TRUNC', 'O_WRONLY', 'P_DETACH', 'P_NOWAIT', 'P_NOWAITO', 'P_OVERLAY', 'P_WAIT', 'PathLike', 'R_OK', 'SEEK_CUR', 'SEEK_END', 'SEEK_SET', 'TMP_MAX', 'W_OK', 'X_OK', '_AddedDllDirectory', '_Environ', '__all__', '__builtins__', '__cached__', '__doc__', '__file__', '__loader__', '__name__', '__package__', '__spec__', '_check_methods', '_execvpe', '_exists', '_exit', '_fspath', '_get_exports_list', '_putenv', '_unsetenv', '_wrap_close', 'abc', 'abort', 'access', 'add_dll_directory', 'altsep', 'chdir', 'chmod', 'close', 'closerange', 'cpu_count', 'curdir', 'defpath', 'device_encoding', 'devnull', 'dup', 'dup2', 'environ', 'error', 'execl', 'execle', 'execlp', 'execlpe', 'execv', 'execve', 'execvp', 'execvpe', 'extsep', 'fdopen', 'fsdecode', 'fsencode', 'fspath', 'fstat', 'fsync', 'ftruncate', 'get_exec_path', 'get_handle_inheritable', 'get_inheritable', 'get_terminal_size', 'getcwd', 'getcwdb', 'getenv', 'getlogin', 'getpid', 'getppid', 'isatty', 'kill', 'linesep', 'link', 'listdir', 'lseek', 'lstat', 'makedirs', 'mkdir', 'name', 'open', 'pardir', 'path', 'pathsep', 'pipe', 'popen', 'putenv', 'read', 'readlink', 'remove', 'removedirs', 'rename', 'renames', 'replace', 'rmdir', 'scandir', 'sep', 'set_handle_inheritable', 'set_inheritable', 'spawnl', 'spawnle', 'spawnv', 'spawnve', 'st', 'startfile', 'stat', 'stat_result', 'statvfs_result', 'strerror', 'supports_bytes_environ', 'supports_dir_fd', 'supports_effective_ids', 'supports_fd', 'supports_follow_symlinks', 'symlink', 'sys', 'system', 'terminal_size', 'times', 'times_result', 'truncate', 'umask', 'uname_result', 'unlink', 'urandom', 'utime', 'waitpid', 'walk', 'write']\n",
      "--------------------------------------------------------------------------\n",
      "c:\\netsong7\\pythonwork\\basic\n"
     ]
    }
   ],
   "source": [
    "import os\n",
    "\n",
    "print(dir(os))\n",
    "print(\"--------------------------------------------------------------------------\")\n",
    "print(os.getcwd())"
   ]
  },
  {
   "cell_type": "code",
   "execution_count": 82,
   "id": "e095318f",
   "metadata": {},
   "outputs": [
    {
     "name": "stdout",
     "output_type": "stream",
     "text": [
      "['__builtins__', '__cached__', '__doc__', '__file__', '__loader__', '__name__', '__package__', '__spec__', 'company', 'info', 'sum']\n",
      "------------------------------------------------\n",
      "30\n",
      "키 :  175\n",
      "몸무게 :  80\n",
      "기타 :  {'name': '홍길동', 'age': 30, 'addr': '서울'}\n",
      "회사명 :  파이썬 주식회사\n"
     ]
    }
   ],
   "source": [
    "import mymodule\n",
    "\n",
    "print(dir(mymodule))\n",
    "print(\"------------------------------------------------\")\n",
    "print(mymodule.sum(10, 20))\n",
    "mymodule.info(80, 175, name=\"홍길동\", age=30, addr=\"서울\")\n",
    "print(\"회사명 : \", mymodule.company)"
   ]
  },
  {
   "cell_type": "code",
   "execution_count": 96,
   "id": "eefb952d",
   "metadata": {},
   "outputs": [
    {
     "name": "stdout",
     "output_type": "stream",
     "text": [
      "2021-09-16 ,  2021 ,  9 ,  16\n",
      "-------------------------------------------------------------------\n",
      "2021-09-16 17:36:36.010798\n",
      "-------------------------------------------------------------------\n",
      "-1 day, 0:00:00\n",
      "어제 : 2021-09-15\n",
      "8시간 전 2021-09-16 09:36:36.010798\n",
      "-------------------------------------------------------------------\n",
      "09/16/2021\n",
      "<class 'str'>\n",
      "2021-09-09 17^36^36\n",
      "-------------------------------------------------------------------\n",
      "<class 'str'>\n",
      "<class 'datetime.datetime'>\n",
      "2021-05-05 11:56:57\n"
     ]
    }
   ],
   "source": [
    "import datetime\n",
    "\n",
    "# 현재 날짜\n",
    "today = datetime.date.today()\n",
    "print(today, ', ', today.year, \", \", today.month, \", \", today.day)\n",
    "\n",
    "print(\"-------------------------------------------------------------------\")\n",
    "\n",
    "# 현재 시간\n",
    "ctime = datetime.datetime.today()\n",
    "print(ctime)\n",
    "\n",
    "print(\"-------------------------------------------------------------------\")\n",
    "\n",
    "# 날짜와 시간을 계산\n",
    "mydays = datetime.timedelta(days = -1)\n",
    "print(mydays)\n",
    "print(\"어제 : {}\".format(today + mydays))\n",
    "\n",
    "myhours = datetime.timedelta(hours = -8)\n",
    "print(\"8시간 전 {}\".format(ctime + myhours))\n",
    "\n",
    "print(\"-------------------------------------------------------------------\")\n",
    "\n",
    "# 날짜와 시간의 형식\n",
    "print(today.strftime(\"%m/%d/%Y\"))\n",
    "print(type(today.strftime(\"%m/%d/%Y\")))\n",
    "print(ctime.strftime(\"%Y-%m-%m %H^%M^%S\"))\n",
    "\n",
    "print(\"-------------------------------------------------------------------\")\n",
    "\n",
    "# 날짜의 형식 변환\n",
    "# 날짜를 문자열로 : strftime(), 문자열을 날짜로 : strptime()\n",
    "\n",
    "str1 = \"2021-5-5 11:56:57\"\n",
    "print(type(str1))\n",
    "\n",
    "d1 = datetime.datetime.strptime(str1, \"%Y-%m-%d %H:%M:%S\")\n",
    "print(type(d1))\n",
    "print(d1)"
   ]
  },
  {
   "cell_type": "code",
   "execution_count": null,
   "id": "3ed737fd",
   "metadata": {},
   "outputs": [],
   "source": []
  },
  {
   "cell_type": "code",
   "execution_count": null,
   "id": "83cb4457",
   "metadata": {},
   "outputs": [],
   "source": []
  },
  {
   "cell_type": "code",
   "execution_count": null,
   "id": "c9d3bc35",
   "metadata": {},
   "outputs": [],
   "source": []
  },
  {
   "cell_type": "code",
   "execution_count": null,
   "id": "9f672277",
   "metadata": {},
   "outputs": [],
   "source": []
  },
  {
   "cell_type": "code",
   "execution_count": null,
   "id": "d4399b3e",
   "metadata": {},
   "outputs": [],
   "source": []
  },
  {
   "cell_type": "code",
   "execution_count": null,
   "id": "17269d42",
   "metadata": {},
   "outputs": [],
   "source": []
  },
  {
   "cell_type": "code",
   "execution_count": null,
   "id": "409faa59",
   "metadata": {},
   "outputs": [],
   "source": []
  },
  {
   "cell_type": "code",
   "execution_count": null,
   "id": "1b3b48ca",
   "metadata": {},
   "outputs": [],
   "source": []
  },
  {
   "cell_type": "code",
   "execution_count": null,
   "id": "9147930f",
   "metadata": {},
   "outputs": [],
   "source": []
  },
  {
   "cell_type": "code",
   "execution_count": null,
   "id": "dc6d16b1",
   "metadata": {},
   "outputs": [],
   "source": []
  },
  {
   "cell_type": "code",
   "execution_count": null,
   "id": "881b7509",
   "metadata": {},
   "outputs": [],
   "source": []
  },
  {
   "cell_type": "code",
   "execution_count": null,
   "id": "ad7f52f6",
   "metadata": {},
   "outputs": [],
   "source": []
  },
  {
   "cell_type": "code",
   "execution_count": null,
   "id": "455e1faf",
   "metadata": {},
   "outputs": [],
   "source": []
  },
  {
   "cell_type": "code",
   "execution_count": null,
   "id": "1ad92ab2",
   "metadata": {},
   "outputs": [],
   "source": []
  },
  {
   "cell_type": "code",
   "execution_count": null,
   "id": "6f6bc182",
   "metadata": {},
   "outputs": [],
   "source": []
  },
  {
   "cell_type": "code",
   "execution_count": null,
   "id": "0cb78069",
   "metadata": {},
   "outputs": [],
   "source": []
  },
  {
   "cell_type": "code",
   "execution_count": null,
   "id": "37890d8e",
   "metadata": {},
   "outputs": [],
   "source": []
  },
  {
   "cell_type": "code",
   "execution_count": null,
   "id": "4909bdbe",
   "metadata": {},
   "outputs": [],
   "source": []
  },
  {
   "cell_type": "code",
   "execution_count": null,
   "id": "2dab0161",
   "metadata": {},
   "outputs": [],
   "source": []
  },
  {
   "cell_type": "code",
   "execution_count": null,
   "id": "ffa47c77",
   "metadata": {},
   "outputs": [],
   "source": []
  },
  {
   "cell_type": "code",
   "execution_count": null,
   "id": "cfd7a1eb",
   "metadata": {},
   "outputs": [],
   "source": []
  },
  {
   "cell_type": "code",
   "execution_count": null,
   "id": "d4795498",
   "metadata": {},
   "outputs": [],
   "source": []
  },
  {
   "cell_type": "code",
   "execution_count": null,
   "id": "1a698fd5",
   "metadata": {},
   "outputs": [],
   "source": []
  },
  {
   "cell_type": "code",
   "execution_count": null,
   "id": "926a209d",
   "metadata": {},
   "outputs": [],
   "source": []
  },
  {
   "cell_type": "code",
   "execution_count": null,
   "id": "0dc4aab5",
   "metadata": {},
   "outputs": [],
   "source": []
  },
  {
   "cell_type": "code",
   "execution_count": null,
   "id": "16d0f0dc",
   "metadata": {},
   "outputs": [],
   "source": []
  },
  {
   "cell_type": "code",
   "execution_count": null,
   "id": "aa858dca",
   "metadata": {},
   "outputs": [],
   "source": []
  },
  {
   "cell_type": "code",
   "execution_count": null,
   "id": "3cb0b90b",
   "metadata": {},
   "outputs": [],
   "source": []
  },
  {
   "cell_type": "code",
   "execution_count": null,
   "id": "99b88c96",
   "metadata": {},
   "outputs": [],
   "source": []
  },
  {
   "cell_type": "code",
   "execution_count": null,
   "id": "aab69803",
   "metadata": {},
   "outputs": [],
   "source": []
  },
  {
   "cell_type": "code",
   "execution_count": null,
   "id": "7603d27f",
   "metadata": {},
   "outputs": [],
   "source": []
  },
  {
   "cell_type": "code",
   "execution_count": null,
   "id": "083f9741",
   "metadata": {},
   "outputs": [],
   "source": []
  },
  {
   "cell_type": "code",
   "execution_count": null,
   "id": "f922d411",
   "metadata": {},
   "outputs": [],
   "source": []
  },
  {
   "cell_type": "code",
   "execution_count": null,
   "id": "9b99e1d2",
   "metadata": {},
   "outputs": [],
   "source": []
  },
  {
   "cell_type": "code",
   "execution_count": null,
   "id": "9bc37539",
   "metadata": {},
   "outputs": [],
   "source": []
  },
  {
   "cell_type": "code",
   "execution_count": null,
   "id": "ac2c330a",
   "metadata": {},
   "outputs": [],
   "source": []
  },
  {
   "cell_type": "code",
   "execution_count": null,
   "id": "8aca614d",
   "metadata": {},
   "outputs": [],
   "source": []
  },
  {
   "cell_type": "code",
   "execution_count": null,
   "id": "a44d24c3",
   "metadata": {},
   "outputs": [],
   "source": []
  },
  {
   "cell_type": "code",
   "execution_count": null,
   "id": "1f3992f3",
   "metadata": {},
   "outputs": [],
   "source": []
  }
 ],
 "metadata": {
  "kernelspec": {
   "display_name": "Python 3",
   "language": "python",
   "name": "python3"
  },
  "language_info": {
   "codemirror_mode": {
    "name": "ipython",
    "version": 3
   },
   "file_extension": ".py",
   "mimetype": "text/x-python",
   "name": "python",
   "nbconvert_exporter": "python",
   "pygments_lexer": "ipython3",
   "version": "3.8.8"
  }
 },
 "nbformat": 4,
 "nbformat_minor": 5
}
