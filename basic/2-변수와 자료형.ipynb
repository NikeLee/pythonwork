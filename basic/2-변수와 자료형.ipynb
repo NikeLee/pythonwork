{
 "cells": [
  {
   "cell_type": "markdown",
   "id": "4810a7e2",
   "metadata": {},
   "source": [
    "## 1. 변수(Variable)의 정의\n",
    "    - 임시 기억(저장) 공간\n",
    "    \n",
    "\n",
    "## 2. 변수의 특징\n",
    "- 묵시적 선언\n",
    "- 동적 바인딩\n",
    "- immutable(불변성)"
   ]
  },
  {
   "cell_type": "code",
   "execution_count": 8,
   "id": "d8299e70",
   "metadata": {},
   "outputs": [
    {
     "name": "stdout",
     "output_type": "stream",
     "text": [
      "10\n",
      "11\n",
      "안녕하세요\n",
      "3.14\n"
     ]
    },
    {
     "data": {
      "text/plain": [
       "'True'"
      ]
     },
     "execution_count": 8,
     "metadata": {},
     "output_type": "execute_result"
    }
   ],
   "source": [
    "a = 10\n",
    "print(a)\n",
    "\n",
    "a = 11\n",
    "print(a)\n",
    "\n",
    "a = \"안녕하세요\"\n",
    "print(a)\n",
    "\n",
    "a = 3.14\n",
    "print(a)\n",
    "\n",
    "a = True\n",
    "a"
   ]
  },
  {
   "cell_type": "markdown",
   "id": "a7667bbc",
   "metadata": {},
   "source": [
    "## 3. Data Type : 자료형\n",
    "\n",
    "+ 종류\n",
    "    1. 기본 자료형\n",
    "        * int\n",
    "        * float\n",
    "        * str\n",
    "        * bool\n",
    "        \n",
    "        \n",
    "    2. 집합 자료형\n",
    "        * list\n",
    "        * tuple\n",
    "        * dict\n",
    "        * set"
   ]
  },
  {
   "cell_type": "code",
   "execution_count": 11,
   "id": "42e510cd",
   "metadata": {},
   "outputs": [
    {
     "name": "stdout",
     "output_type": "stream",
     "text": [
      "<class 'int'>\n",
      "<class 'float'>\n"
     ]
    }
   ],
   "source": [
    "a = 10\n",
    "print(type(a))\n",
    "\n",
    "a = 3.14\n",
    "print(type(a))"
   ]
  },
  {
   "cell_type": "markdown",
   "id": "19e73f1d",
   "metadata": {},
   "source": [
    "---\n",
    "\n",
    "#### (1) str"
   ]
  },
  {
   "cell_type": "code",
   "execution_count": 18,
   "id": "f3693961",
   "metadata": {
    "scrolled": true
   },
   "outputs": [
    {
     "name": "stdout",
     "output_type": "stream",
     "text": [
      "안녕하세요\n",
      "제 이름은 \"홍길동\" 이라고 합니다\n",
      "안녕하세요\n",
      "    제 이름은 홍길입니다.\n",
      "    만나서 반갑습니다.\n"
     ]
    }
   ],
   "source": [
    "##### 문자열 저장\n",
    "\n",
    "a = 10\n",
    "type(a)\n",
    "\n",
    "a = '10'\n",
    "type(a)\n",
    "\n",
    "a = \"안녕하세요\"\n",
    "print(a)\n",
    "\n",
    "a = '제 이름은 \"홍길동\" 이라고 합니다'\n",
    "print(a)\n",
    "\n",
    "a = \"\"\"안녕하세요\n",
    "    제 이름은 홍길입니다.\n",
    "    만나서 반갑습니다.\"\"\"\n",
    "print(a)"
   ]
  },
  {
   "cell_type": "code",
   "execution_count": 28,
   "id": "0b65d808",
   "metadata": {},
   "outputs": [
    {
     "name": "stdout",
     "output_type": "stream",
     "text": [
      "이것은 파이썬입니다. \\n\\n\\n열심히 공부합시다.\n",
      "현재 시간은 \t\t4시 입니다.\n",
      "\"\\t는 탭키의 기능이다.\"\n"
     ]
    }
   ],
   "source": [
    "##### 특수 문자(제어 문자) : \\문자, \\(escape 문자)\n",
    "\n",
    "a = \"이것은 파이썬입니다. \\\\n\\\\n\\\\n열심히 공부합시다.\"\n",
    "print(a)\n",
    "\n",
    "a = \"현재 시간은 \\t\\t4시 입니다.\"\n",
    "print(a)\n",
    "\n",
    "# \"\\t는 탭키의 기능이다\"\n",
    "print(\"\\\"\\\\t는 탭키의 기능이다.\\\"\")"
   ]
  },
  {
   "cell_type": "code",
   "execution_count": 30,
   "id": "d53aa99c",
   "metadata": {},
   "outputs": [
    {
     "name": "stdout",
     "output_type": "stream",
     "text": [
      "10 + 2 - 3 + 5 + 6 * 7\n"
     ]
    }
   ],
   "source": [
    "##### \\를 줄바꿈의 용도로 사용\n",
    "\n",
    "a = \"10 + 2 - 3 + 5 \\\n",
    "+ 6 * 7\"\n",
    "print(a)"
   ]
  },
  {
   "cell_type": "code",
   "execution_count": 32,
   "id": "c8f53eea",
   "metadata": {},
   "outputs": [
    {
     "name": "stdout",
     "output_type": "stream",
     "text": [
      "('python', ' is fun', ' and great')\n",
      "python is fun and great\n"
     ]
    }
   ],
   "source": [
    "##### 문자열을 연결하기\n",
    "\n",
    "a = \"python\"\n",
    "b = \" is fun\"\n",
    "c = \" and great\"\n",
    "\n",
    "d = a, b, c\n",
    "print(d)\n",
    "\n",
    "d = a + b + c\n",
    "print(d)"
   ]
  },
  {
   "cell_type": "code",
   "execution_count": 35,
   "id": "88cf5e78",
   "metadata": {},
   "outputs": [
    {
     "name": "stdout",
     "output_type": "stream",
     "text": [
      "pythonpythonpython\n"
     ]
    }
   ],
   "source": [
    "##### 문자열 곱하기(반복)\n",
    "\n",
    "print(a * 3)"
   ]
  },
  {
   "cell_type": "code",
   "execution_count": 36,
   "id": "0c54b3a1",
   "metadata": {},
   "outputs": [
    {
     "name": "stdout",
     "output_type": "stream",
     "text": [
      "6\n",
      "7\n",
      "10\n"
     ]
    }
   ],
   "source": [
    "##### 문자열의 길이\n",
    "\n",
    "print(len(a))\n",
    "print(len(b))\n",
    "print(len(c))"
   ]
  },
  {
   "cell_type": "code",
   "execution_count": 42,
   "id": "a13db448",
   "metadata": {},
   "outputs": [
    {
     "name": "stdout",
     "output_type": "stream",
     "text": [
      "e\n",
      "o\n",
      "---------------------\n",
      "34\n",
      "n\n",
      "---------------------\n",
      "n\n",
      "o\n"
     ]
    }
   ],
   "source": [
    "##### 인덱싱(indexing) : 원하는 문자에 접근할 수 있는 방법 제공\n",
    "\n",
    "a = \"Life is too short, You need python\"\n",
    "\n",
    "print(a[3])\n",
    "print(a[10])\n",
    "\n",
    "print(\"---------------------\")\n",
    "\n",
    "print(len(a))\n",
    "print(a[len(a)-1])\n",
    "\n",
    "print(\"---------------------\")\n",
    "\n",
    "print(a[-1])\n",
    "print(a[-2])"
   ]
  },
  {
   "cell_type": "code",
   "execution_count": 47,
   "id": "561e715a",
   "metadata": {},
   "outputs": [
    {
     "name": "stdout",
     "output_type": "stream",
     "text": [
      "Life i\n",
      "Life i\n",
      "s too short, You need python\n",
      "Life is too short, You need python\n",
      "You need\n"
     ]
    }
   ],
   "source": [
    "##### 슬라이싱(Slicing) -> [시작위치 : 끝위치]\n",
    "\n",
    "print(a[0:6])\n",
    "print(a[:6])\n",
    "print(a[6:])\n",
    "print(a[:])\n",
    "print(a[19:-7])"
   ]
  },
  {
   "cell_type": "code",
   "execution_count": 51,
   "id": "a72ded46",
   "metadata": {},
   "outputs": [
    {
     "name": "stdout",
     "output_type": "stream",
     "text": [
      "Life is too short, You need python\n",
      "Lf stosot o edpto\n",
      "nohtyp deen uoY ,trohs oot si efiL\n"
     ]
    }
   ],
   "source": [
    "##### [시작위치 : 끝위치 : step]\n",
    "\n",
    "print(a[::1])\n",
    "print(a[::2])\n",
    "print(a[::-1])"
   ]
  },
  {
   "cell_type": "code",
   "execution_count": 53,
   "id": "f699400e",
   "metadata": {},
   "outputs": [
    {
     "ename": "TypeError",
     "evalue": "'str' object does not support item assignment",
     "output_type": "error",
     "traceback": [
      "\u001b[1;31m---------------------------------------------------------------------------\u001b[0m",
      "\u001b[1;31mTypeError\u001b[0m                                 Traceback (most recent call last)",
      "\u001b[1;32m<ipython-input-53-6183999d9ee8>\u001b[0m in \u001b[0;36m<module>\u001b[1;34m\u001b[0m\n\u001b[0;32m      3\u001b[0m \u001b[0ma\u001b[0m \u001b[1;33m=\u001b[0m \u001b[1;34m\"pithon\"\u001b[0m\u001b[1;33m\u001b[0m\u001b[1;33m\u001b[0m\u001b[0m\n\u001b[0;32m      4\u001b[0m \u001b[1;33m\u001b[0m\u001b[0m\n\u001b[1;32m----> 5\u001b[1;33m \u001b[0ma\u001b[0m\u001b[1;33m[\u001b[0m\u001b[1;36m1\u001b[0m\u001b[1;33m]\u001b[0m \u001b[1;33m=\u001b[0m \u001b[1;34m'y'\u001b[0m\u001b[1;33m\u001b[0m\u001b[1;33m\u001b[0m\u001b[0m\n\u001b[0m",
      "\u001b[1;31mTypeError\u001b[0m: 'str' object does not support item assignment"
     ]
    }
   ],
   "source": [
    "##### 수정 불가\n",
    "\n",
    "a = \"pithon\"\n",
    "\n",
    "a[1] = 'y'"
   ]
  },
  {
   "cell_type": "code",
   "execution_count": 17,
   "id": "122a31cd",
   "metadata": {},
   "outputs": [
    {
     "name": "stdout",
     "output_type": "stream",
     "text": [
      "23\n",
      "3\n",
      "-----------------------------------------------------\n",
      "a,b,c,d,e,f,g\n",
      "-----------------------------------------------------\n",
      "['홍길동', ' 홍경래', ' 홍장군', ' 임경업', ' 신돌석']\n",
      "-----------------------------------------------------\n",
      "1 21 -1\n",
      "1 21\n",
      "-----------------------------------------------------\n",
      "          python\n",
      "python\n",
      "python\n",
      "-----------------------------------------------------\n",
      "Hello, Python!\n",
      "123456789\n",
      "일이삼사오육칠팔구\n",
      "1이3사5육칠팔구\n"
     ]
    }
   ],
   "source": [
    "##### 문자열 관련 함수\n",
    "\n",
    "# count()\n",
    "str1 = \"홍길동, 홍경래, 홍장군, 임경업, 신돌석\"\n",
    "\n",
    "print(len(str1))\n",
    "print(str1.count(\"홍\"))\n",
    "\n",
    "print(\"-----------------------------------------------------\")\n",
    "\n",
    "# join()\n",
    "str1 = \"abcdefg\"\n",
    "print(\",\".join(str1))\n",
    "\n",
    "print(\"-----------------------------------------------------\")\n",
    "\n",
    "# split()\n",
    "str1 = \"홍동길: 홍경래: 홍장군: 임경업: 신돌석\"\n",
    "print(str1.split(\":\"))\n",
    "\n",
    "print(\"-----------------------------------------------------\")\n",
    "\n",
    "# find(), index()\n",
    "print(str1.find(\"길\"), str1.find(\"돌\"), str1.find(\"별\"))\n",
    "print(str1.index(\"길\"), str1.index(\"돌\"))\n",
    "\n",
    "print(\"-----------------------------------------------------\")\n",
    "\n",
    "# lstrip(), rstrip(), strip()\n",
    "str1 = \"          python\"\n",
    "print(str1)\n",
    "print(str1.lstrip())\n",
    "\n",
    "str1 = \"python.,\"\n",
    "print(str1.rstrip(\".,\"))\n",
    "\n",
    "print(\"-----------------------------------------------------\")\n",
    "\n",
    "# replace(), [maketrans(), translate()]\n",
    "str1 = \"Hello, World!\"\n",
    "print(str1.replace(\"World\", \"Python\"))\n",
    "\n",
    "str1 = \"일이삼사오육칠팔구\"\n",
    "print(str1.replace(\"일이삼사오육칠팔구\", \"123456789\"))\n",
    "print(str1.replace(\"일삼오\", \"135\"))\n",
    "\n",
    "print(str1.translate(str1.maketrans(\"일삼오\", \"135\")))"
   ]
  },
  {
   "cell_type": "code",
   "execution_count": 32,
   "id": "27ba2ca8",
   "metadata": {},
   "outputs": [
    {
     "name": "stdout",
     "output_type": "stream",
     "text": [
      "현재 온도는 18도입니다.\n",
      "현재 온도는 18도입니다. 그리고 오늘의 날씨는 맑음입니다.\n",
      "나눗셈  의 결과 : 3 / 5 = 0.60 입니다.\n",
      "\n",
      "-----------------------------------------------------------------------\n",
      "\n",
      "나눗셈의 결과 : 3 / 5 = 0.6 입니다.\n",
      "나눗셈의 결과 : 3 / 5 = 0.6 입니다.\n",
      "나눗셈의 결과 : 3 / 5 = 0.6 입니다.\n",
      "*******나눗셈의 결과 : 3 / 5 = 0.60 입니다.\n"
     ]
    }
   ],
   "source": [
    "##### 문자열 포맷팅 : %, format()\n",
    "\n",
    "### %를 이용하는 방법\n",
    "print(\"현재 온도는 18도입니다.\")\n",
    "print(\"현재 온도는 %d도입니다. 그리고 오늘의 날씨는 %s입니다.\" %(18, \"맑음\"))\n",
    "\n",
    "# 나눗셈의 결과 : 3 / 5 = 0.6 입니다.\n",
    "print(\"%-5s의 결과 : %d %c %d = %0.2f 입니다.\"%(\"나눗셈\", 3, \"/\", 5, (3/5)))\n",
    "\n",
    "print(\"\\n-----------------------------------------------------------------------\\n\")\n",
    "\n",
    "### format()를 사용하는 방법\n",
    "print(\"{}의 결과 : {} {} {} = {} 입니다.\".format(\"나눗셈\", 3, \"/\", 5, (3/5)))\n",
    "print(\"{3}의 결과 : {0} {1} {2} = {4} 입니다.\".format(3, \"/\", 5, \"나눗셈\", (3/5)))\n",
    "print(\"{title}의 결과 : {num1} {op} {num2} = {result} 입니다.\"\n",
    "      .format(num1=3, op=\"/\", num2=5, title=\"나눗셈\", result=(3/5)))\n",
    "print(\"{3:*>10}의 결과 : {0} {1} {2} = {4:0.2f} 입니다.\".format(3, \"/\", 5, \"나눗셈\", (3/5)))"
   ]
  },
  {
   "cell_type": "markdown",
   "id": "a3e60d6b",
   "metadata": {},
   "source": [
    "---\n",
    "\n",
    "#### (2) bool"
   ]
  },
  {
   "cell_type": "code",
   "execution_count": 46,
   "id": "ff6de41a",
   "metadata": {},
   "outputs": [
    {
     "name": "stdout",
     "output_type": "stream",
     "text": [
      "False\n",
      "<class 'bool'>\n",
      "-----------------------------\n",
      "True True True False\n",
      "True True True False False\n",
      "False\n"
     ]
    }
   ],
   "source": [
    "a = False\n",
    "print(a)\n",
    "print(type(a))\n",
    "\n",
    "print(\"-----------------------------\")\n",
    "\n",
    "print(bool(10), bool(3.14), bool(-2), bool(0))\n",
    "print(bool(\"가\"), bool(\"가나다\"), bool(' '), bool(''), bool(None))\n",
    "\n",
    "a = None\n",
    "print(bool(a))"
   ]
  },
  {
   "cell_type": "markdown",
   "id": "c9399211",
   "metadata": {},
   "source": [
    "---\n",
    "\n",
    "#### (3) list\n",
    "\n",
    "+ [  ] 사용\n",
    "+ 임의의 객체를 순차적으로 저장하는 집합적 자료형(Sequence Data)\n",
    "+ 인덱스 사용\n",
    "+ mutable"
   ]
  },
  {
   "cell_type": "code",
   "execution_count": 51,
   "id": "5c1233ec",
   "metadata": {},
   "outputs": [
    {
     "name": "stdout",
     "output_type": "stream",
     "text": [
      "<class 'int'> <class 'list'>\n",
      "10\n",
      "[10, 11, 12]\n",
      "10 11 12\n",
      "178\n"
     ]
    }
   ],
   "source": [
    "#a = 10\n",
    "#b = 11\n",
    "#c = 12\n",
    "\n",
    "a, b, c = 10, 11, 12\n",
    "\n",
    "d = [10, 11, 12]\n",
    "\n",
    "print(type(a), type(d))\n",
    "print(a)\n",
    "print(d)\n",
    "\n",
    "print(d[0], d[1], d[2])\n",
    "\n",
    "e = [\"james\", 178, 3.14, True]\n",
    "print(e[1])"
   ]
  },
  {
   "cell_type": "code",
   "execution_count": 56,
   "id": "9ba7388f",
   "metadata": {},
   "outputs": [
    {
     "name": "stdout",
     "output_type": "stream",
     "text": [
      "[1, 2, 3, '가', 3.14, ['a', 'b', 'c']]\n",
      "['a', 'b', 'c']\n",
      "b\n",
      "a\n"
     ]
    }
   ],
   "source": [
    "##### Indexing\n",
    "\n",
    "a = [1, 2, 3, \"가\", 3.14, ['a', 'b', 'c']]\n",
    "print(a)\n",
    "print(a[5])\n",
    "print(a[5][1])\n",
    "print(a[-1][-3])"
   ]
  },
  {
   "cell_type": "code",
   "execution_count": 60,
   "id": "c5d8dea6",
   "metadata": {},
   "outputs": [
    {
     "name": "stdout",
     "output_type": "stream",
     "text": [
      "[10, 2, 3, 4, 5]\n",
      "[10, 2, 3, 4, 5]\n",
      "----------------------------------------------\n",
      "[10, 2, 3, 4, 5]\n",
      "[1, 2, 3, 4, 5]\n"
     ]
    }
   ],
   "source": [
    "##### 복사 (얕은 복사, 깊은 복사)\n",
    "\n",
    "a = [1, 2, 3, 4, 5]\n",
    "\n",
    "b = a\n",
    "\n",
    "b[0] = 10\n",
    "\n",
    "print(b)\n",
    "print(a)\n",
    "\n",
    "print(\"----------------------------------------------\")\n",
    "\n",
    "a = [1, 2, 3, 4, 5]\n",
    "\n",
    "# b = a[0:5]\n",
    "b = a[:]\n",
    "\n",
    "b[0] = 10\n",
    "\n",
    "print(b)\n",
    "print(a)\n"
   ]
  },
  {
   "cell_type": "code",
   "execution_count": 62,
   "id": "db036f66",
   "metadata": {},
   "outputs": [
    {
     "name": "stdout",
     "output_type": "stream",
     "text": [
      "<class 'list'>\n"
     ]
    }
   ],
   "source": [
    "##### list의 생성\n",
    "\n",
    "a = []\n",
    "a = list()\n",
    "\n",
    "print(type(a))"
   ]
  },
  {
   "cell_type": "code",
   "execution_count": 76,
   "id": "2cb0e2a9",
   "metadata": {},
   "outputs": [
    {
     "name": "stdout",
     "output_type": "stream",
     "text": [
      "10 <class 'int'>\n",
      "10 <class 'str'>\n",
      "10.0 <class 'float'>\n",
      "True <class 'bool'>\n",
      "['1', '0'] <class 'list'>\n",
      "['10'] <class 'list'>\n"
     ]
    }
   ],
   "source": [
    "##### 각 자료형 함수(참고)\n",
    "\n",
    "a = '10'\n",
    "print(int(a), type(int(a)))\n",
    "print(str(a), type(str(a)))\n",
    "print(float(a), type(float(a)))\n",
    "print(bool(a), type(bool(a)))\n",
    "\n",
    "print(list(a), type(list(a)))\n",
    "print(list([a]), type(list([a])))"
   ]
  },
  {
   "cell_type": "code",
   "execution_count": 89,
   "id": "0efd92a3",
   "metadata": {},
   "outputs": [
    {
     "name": "stdout",
     "output_type": "stream",
     "text": [
      "[1, 2, 3]\n",
      "[1, 2, 3]\n",
      "[0, 1, 2, 3, 4, 5, 6, 7, 8, 9]\n",
      "[5, 6, 7, 8, 9, 10, 11]\n",
      "[5, 7, 9, 11]\n",
      "[-4, -3, -2, -1, 0, 1, 2, 3, 4, 5, 6, 7, 8, 9, 10, 11]\n",
      "[10, 9, 8, 7, 6, 5, 4, 3, 2, 1]\n"
     ]
    }
   ],
   "source": [
    "##### list 초기화\n",
    "\n",
    "a = [1, 2, 3]\n",
    "print(a)\n",
    "\n",
    "a = list([1, 2, 3])\n",
    "print(a)\n",
    "\n",
    "a = list(range(0, 10)) # range(10), range(0, 10, 1)\n",
    "print(a)\n",
    "\n",
    "a = list(range(5, 12))\n",
    "print(a)\n",
    "\n",
    "a = list(range(5, 12, 2))\n",
    "print(a)\n",
    "\n",
    "a = list(range(-4, 12, 1))\n",
    "print(a)\n",
    "\n",
    "# 10 9 8 7 6 5 4 3 2 1\n",
    "a = list(range(10, 0, -1))\n",
    "print(a)"
   ]
  },
  {
   "cell_type": "code",
   "execution_count": 98,
   "id": "7fe1ac77",
   "metadata": {},
   "outputs": [
    {
     "name": "stdout",
     "output_type": "stream",
     "text": [
      "[1, 2, 3, 4, 5, 6]\n",
      "[1, 2, 3, 1, 2, 3, 1, 2, 3]\n",
      "5\n",
      "2hi~~\n",
      "2 hi~~\n"
     ]
    }
   ],
   "source": [
    "##### 연산 기능\n",
    "\n",
    "a = [1, 2, 3]\n",
    "b = [4, 5, 6]\n",
    "\n",
    "print(a + b)\n",
    "print(a * 3)\n",
    "print(a[0] + b[0])\n",
    "print(str(a[1]) + \"hi~~\")\n",
    "print(a[1], \"hi~~\")"
   ]
  },
  {
   "cell_type": "code",
   "execution_count": 106,
   "id": "78511d15",
   "metadata": {},
   "outputs": [
    {
     "name": "stdout",
     "output_type": "stream",
     "text": [
      "[1, 2, 3]\n",
      "[100, 1, 2, 3]\n",
      "[100, 1, 2, 3, 4]\n",
      "[100, 1, 2, 3, 4, 5]\n",
      "[100, 1, 2, 3, 4, 5, [6, 7, 8]]\n",
      "[100, 1, 2, 3, 4, 5, [6, 7, 8], 9, 10, 11]\n"
     ]
    }
   ],
   "source": [
    "##### 추가하기 : insert(), append(), extend()\n",
    "\n",
    "a = [1, 2, 3]\n",
    "print(a)\n",
    "\n",
    "a.insert(0, 100)\n",
    "print(a)\n",
    "\n",
    "a.append(4)\n",
    "print(a)\n",
    "\n",
    "a.extend([5])\n",
    "print(a)\n",
    "\n",
    "a.append([6, 7, 8])\n",
    "print(a)\n",
    "\n",
    "a.extend([9, 10, 11])\n",
    "print(a)"
   ]
  },
  {
   "cell_type": "code",
   "execution_count": null,
   "id": "be180885",
   "metadata": {},
   "outputs": [],
   "source": []
  },
  {
   "cell_type": "code",
   "execution_count": null,
   "id": "3e4b13d7",
   "metadata": {},
   "outputs": [],
   "source": []
  },
  {
   "cell_type": "code",
   "execution_count": null,
   "id": "e218a67f",
   "metadata": {},
   "outputs": [],
   "source": []
  },
  {
   "cell_type": "code",
   "execution_count": null,
   "id": "f3684ed4",
   "metadata": {},
   "outputs": [],
   "source": []
  },
  {
   "cell_type": "code",
   "execution_count": null,
   "id": "1b3d2183",
   "metadata": {},
   "outputs": [],
   "source": []
  },
  {
   "cell_type": "code",
   "execution_count": null,
   "id": "e0e86cfa",
   "metadata": {},
   "outputs": [],
   "source": []
  },
  {
   "cell_type": "code",
   "execution_count": null,
   "id": "2477e409",
   "metadata": {},
   "outputs": [],
   "source": []
  },
  {
   "cell_type": "code",
   "execution_count": null,
   "id": "c8801aa4",
   "metadata": {},
   "outputs": [],
   "source": []
  },
  {
   "cell_type": "code",
   "execution_count": null,
   "id": "241afea0",
   "metadata": {},
   "outputs": [],
   "source": []
  },
  {
   "cell_type": "code",
   "execution_count": null,
   "id": "669f720e",
   "metadata": {},
   "outputs": [],
   "source": []
  },
  {
   "cell_type": "code",
   "execution_count": null,
   "id": "5f0aaf5a",
   "metadata": {},
   "outputs": [],
   "source": []
  },
  {
   "cell_type": "code",
   "execution_count": null,
   "id": "0400bafd",
   "metadata": {},
   "outputs": [],
   "source": []
  },
  {
   "cell_type": "code",
   "execution_count": null,
   "id": "a75f1709",
   "metadata": {},
   "outputs": [],
   "source": []
  }
 ],
 "metadata": {
  "kernelspec": {
   "display_name": "Python 3",
   "language": "python",
   "name": "python3"
  },
  "language_info": {
   "codemirror_mode": {
    "name": "ipython",
    "version": 3
   },
   "file_extension": ".py",
   "mimetype": "text/x-python",
   "name": "python",
   "nbconvert_exporter": "python",
   "pygments_lexer": "ipython3",
   "version": "3.8.8"
  }
 },
 "nbformat": 4,
 "nbformat_minor": 5
}
