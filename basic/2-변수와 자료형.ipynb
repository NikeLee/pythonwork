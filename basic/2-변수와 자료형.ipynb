{
 "cells": [
  {
   "cell_type": "markdown",
   "id": "4810a7e2",
   "metadata": {},
   "source": [
    "## 1. 변수(Variable)의 정의\n",
    "    - 임시 기억(저장) 공간\n",
    "    \n",
    "\n",
    "## 2. 변수의 특징\n",
    "- 묵시적 선언\n",
    "- 동적 바인딩\n",
    "- immutable(불변성)"
   ]
  },
  {
   "cell_type": "code",
   "execution_count": 8,
   "id": "d8299e70",
   "metadata": {},
   "outputs": [
    {
     "name": "stdout",
     "output_type": "stream",
     "text": [
      "10\n",
      "11\n",
      "안녕하세요\n",
      "3.14\n"
     ]
    },
    {
     "data": {
      "text/plain": [
       "'True'"
      ]
     },
     "execution_count": 8,
     "metadata": {},
     "output_type": "execute_result"
    }
   ],
   "source": [
    "a = 10\n",
    "print(a)\n",
    "\n",
    "a = 11\n",
    "print(a)\n",
    "\n",
    "a = \"안녕하세요\"\n",
    "print(a)\n",
    "\n",
    "a = 3.14\n",
    "print(a)\n",
    "\n",
    "a = True\n",
    "a"
   ]
  },
  {
   "cell_type": "markdown",
   "id": "a7667bbc",
   "metadata": {},
   "source": [
    "## 3. Data Type : 자료형\n",
    "\n",
    "+ 종류\n",
    "    1. 기본 자료형\n",
    "        * int\n",
    "        * float\n",
    "        * str\n",
    "        * bool\n",
    "        \n",
    "        \n",
    "    2. 집합 자료형\n",
    "        * list\n",
    "        * tuple\n",
    "        * dict\n",
    "        * set"
   ]
  },
  {
   "cell_type": "code",
   "execution_count": 11,
   "id": "42e510cd",
   "metadata": {},
   "outputs": [
    {
     "name": "stdout",
     "output_type": "stream",
     "text": [
      "<class 'int'>\n",
      "<class 'float'>\n"
     ]
    }
   ],
   "source": [
    "a = 10\n",
    "print(type(a))\n",
    "\n",
    "a = 3.14\n",
    "print(type(a))"
   ]
  },
  {
   "cell_type": "markdown",
   "id": "19e73f1d",
   "metadata": {},
   "source": [
    "---\n",
    "\n",
    "#### (1) str"
   ]
  },
  {
   "cell_type": "code",
   "execution_count": 18,
   "id": "f3693961",
   "metadata": {
    "scrolled": true
   },
   "outputs": [
    {
     "name": "stdout",
     "output_type": "stream",
     "text": [
      "안녕하세요\n",
      "제 이름은 \"홍길동\" 이라고 합니다\n",
      "안녕하세요\n",
      "    제 이름은 홍길입니다.\n",
      "    만나서 반갑습니다.\n"
     ]
    }
   ],
   "source": [
    "##### 문자열 저장\n",
    "\n",
    "a = 10\n",
    "type(a)\n",
    "\n",
    "a = '10'\n",
    "type(a)\n",
    "\n",
    "a = \"안녕하세요\"\n",
    "print(a)\n",
    "\n",
    "a = '제 이름은 \"홍길동\" 이라고 합니다'\n",
    "print(a)\n",
    "\n",
    "a = \"\"\"안녕하세요\n",
    "    제 이름은 홍길입니다.\n",
    "    만나서 반갑습니다.\"\"\"\n",
    "print(a)"
   ]
  },
  {
   "cell_type": "code",
   "execution_count": 28,
   "id": "0b65d808",
   "metadata": {},
   "outputs": [
    {
     "name": "stdout",
     "output_type": "stream",
     "text": [
      "이것은 파이썬입니다. \\n\\n\\n열심히 공부합시다.\n",
      "현재 시간은 \t\t4시 입니다.\n",
      "\"\\t는 탭키의 기능이다.\"\n"
     ]
    }
   ],
   "source": [
    "##### 특수 문자(제어 문자) : \\문자, \\(escape 문자)\n",
    "\n",
    "a = \"이것은 파이썬입니다. \\\\n\\\\n\\\\n열심히 공부합시다.\"\n",
    "print(a)\n",
    "\n",
    "a = \"현재 시간은 \\t\\t4시 입니다.\"\n",
    "print(a)\n",
    "\n",
    "# \"\\t는 탭키의 기능이다\"\n",
    "print(\"\\\"\\\\t는 탭키의 기능이다.\\\"\")"
   ]
  },
  {
   "cell_type": "code",
   "execution_count": 30,
   "id": "d53aa99c",
   "metadata": {},
   "outputs": [
    {
     "name": "stdout",
     "output_type": "stream",
     "text": [
      "10 + 2 - 3 + 5 + 6 * 7\n"
     ]
    }
   ],
   "source": [
    "##### \\를 줄바꿈의 용도로 사용\n",
    "\n",
    "a = \"10 + 2 - 3 + 5 \\\n",
    "+ 6 * 7\"\n",
    "print(a)"
   ]
  },
  {
   "cell_type": "code",
   "execution_count": 32,
   "id": "c8f53eea",
   "metadata": {},
   "outputs": [
    {
     "name": "stdout",
     "output_type": "stream",
     "text": [
      "('python', ' is fun', ' and great')\n",
      "python is fun and great\n"
     ]
    }
   ],
   "source": [
    "##### 문자열을 연결하기\n",
    "\n",
    "a = \"python\"\n",
    "b = \" is fun\"\n",
    "c = \" and great\"\n",
    "\n",
    "d = a, b, c\n",
    "print(d)\n",
    "\n",
    "d = a + b + c\n",
    "print(d)"
   ]
  },
  {
   "cell_type": "code",
   "execution_count": 35,
   "id": "88cf5e78",
   "metadata": {},
   "outputs": [
    {
     "name": "stdout",
     "output_type": "stream",
     "text": [
      "pythonpythonpython\n"
     ]
    }
   ],
   "source": [
    "##### 문자열 곱하기(반복)\n",
    "\n",
    "print(a * 3)"
   ]
  },
  {
   "cell_type": "code",
   "execution_count": 36,
   "id": "0c54b3a1",
   "metadata": {},
   "outputs": [
    {
     "name": "stdout",
     "output_type": "stream",
     "text": [
      "6\n",
      "7\n",
      "10\n"
     ]
    }
   ],
   "source": [
    "##### 문자열의 길이\n",
    "\n",
    "print(len(a))\n",
    "print(len(b))\n",
    "print(len(c))"
   ]
  },
  {
   "cell_type": "code",
   "execution_count": 42,
   "id": "a13db448",
   "metadata": {
    "collapsed": true
   },
   "outputs": [
    {
     "name": "stdout",
     "output_type": "stream",
     "text": [
      "e\n",
      "o\n",
      "---------------------\n",
      "34\n",
      "n\n",
      "---------------------\n",
      "n\n",
      "o\n"
     ]
    }
   ],
   "source": [
    "##### 인덱싱(indexing) : 원하는 문자에 접근할 수 있는 방법 제공\n",
    "\n",
    "a = \"Life is too short, You need python\"\n",
    "\n",
    "print(a[3])\n",
    "print(a[10])\n",
    "\n",
    "print(\"---------------------\")\n",
    "\n",
    "print(len(a))\n",
    "print(a[len(a)-1])\n",
    "\n",
    "print(\"---------------------\")\n",
    "\n",
    "print(a[-1])\n",
    "print(a[-2])"
   ]
  },
  {
   "cell_type": "code",
   "execution_count": 47,
   "id": "561e715a",
   "metadata": {},
   "outputs": [
    {
     "name": "stdout",
     "output_type": "stream",
     "text": [
      "Life i\n",
      "Life i\n",
      "s too short, You need python\n",
      "Life is too short, You need python\n",
      "You need\n"
     ]
    }
   ],
   "source": [
    "##### 슬라이싱(Slicing) -> [시작위치 : 끝위치]\n",
    "\n",
    "print(a[0:6])\n",
    "print(a[:6])\n",
    "print(a[6:])\n",
    "print(a[:])\n",
    "print(a[19:-7])"
   ]
  },
  {
   "cell_type": "code",
   "execution_count": 51,
   "id": "a72ded46",
   "metadata": {},
   "outputs": [
    {
     "name": "stdout",
     "output_type": "stream",
     "text": [
      "Life is too short, You need python\n",
      "Lf stosot o edpto\n",
      "nohtyp deen uoY ,trohs oot si efiL\n"
     ]
    }
   ],
   "source": [
    "##### [시작위치 : 끝위치 : step]\n",
    "\n",
    "print(a[::1])\n",
    "print(a[::2])\n",
    "print(a[::-1])"
   ]
  },
  {
   "cell_type": "code",
   "execution_count": 53,
   "id": "f699400e",
   "metadata": {},
   "outputs": [
    {
     "ename": "TypeError",
     "evalue": "'str' object does not support item assignment",
     "output_type": "error",
     "traceback": [
      "\u001b[1;31m---------------------------------------------------------------------------\u001b[0m",
      "\u001b[1;31mTypeError\u001b[0m                                 Traceback (most recent call last)",
      "\u001b[1;32m<ipython-input-53-6183999d9ee8>\u001b[0m in \u001b[0;36m<module>\u001b[1;34m\u001b[0m\n\u001b[0;32m      3\u001b[0m \u001b[0ma\u001b[0m \u001b[1;33m=\u001b[0m \u001b[1;34m\"pithon\"\u001b[0m\u001b[1;33m\u001b[0m\u001b[1;33m\u001b[0m\u001b[0m\n\u001b[0;32m      4\u001b[0m \u001b[1;33m\u001b[0m\u001b[0m\n\u001b[1;32m----> 5\u001b[1;33m \u001b[0ma\u001b[0m\u001b[1;33m[\u001b[0m\u001b[1;36m1\u001b[0m\u001b[1;33m]\u001b[0m \u001b[1;33m=\u001b[0m \u001b[1;34m'y'\u001b[0m\u001b[1;33m\u001b[0m\u001b[1;33m\u001b[0m\u001b[0m\n\u001b[0m",
      "\u001b[1;31mTypeError\u001b[0m: 'str' object does not support item assignment"
     ]
    }
   ],
   "source": [
    "##### 수정 불가\n",
    "\n",
    "a = \"pithon\"\n",
    "\n",
    "a[1] = 'y'"
   ]
  },
  {
   "cell_type": "code",
   "execution_count": 55,
   "id": "122a31cd",
   "metadata": {},
   "outputs": [
    {
     "name": "stdout",
     "output_type": "stream",
     "text": [
      "23\n",
      "3\n"
     ]
    }
   ],
   "source": [
    "##### 문자열 관련 함수\n",
    "\n",
    "# count()\n",
    "str1 = \"홍길동, 홍경래, 홍장군, 임경업, 신돌석\"\n",
    "\n",
    "print(len(str1))\n",
    "print(str1.count(\"홍\"))"
   ]
  },
  {
   "cell_type": "code",
   "execution_count": null,
   "id": "27ba2ca8",
   "metadata": {},
   "outputs": [],
   "source": []
  },
  {
   "cell_type": "code",
   "execution_count": null,
   "id": "fc65d130",
   "metadata": {},
   "outputs": [],
   "source": []
  },
  {
   "cell_type": "code",
   "execution_count": null,
   "id": "ff6de41a",
   "metadata": {},
   "outputs": [],
   "source": []
  },
  {
   "cell_type": "code",
   "execution_count": null,
   "id": "1db65bd4",
   "metadata": {},
   "outputs": [],
   "source": []
  },
  {
   "cell_type": "code",
   "execution_count": null,
   "id": "5c1233ec",
   "metadata": {},
   "outputs": [],
   "source": []
  },
  {
   "cell_type": "code",
   "execution_count": null,
   "id": "9ba7388f",
   "metadata": {},
   "outputs": [],
   "source": []
  },
  {
   "cell_type": "code",
   "execution_count": null,
   "id": "c5d8dea6",
   "metadata": {},
   "outputs": [],
   "source": []
  },
  {
   "cell_type": "code",
   "execution_count": null,
   "id": "db036f66",
   "metadata": {},
   "outputs": [],
   "source": []
  },
  {
   "cell_type": "code",
   "execution_count": null,
   "id": "2cb0e2a9",
   "metadata": {},
   "outputs": [],
   "source": []
  },
  {
   "cell_type": "code",
   "execution_count": null,
   "id": "011d08a9",
   "metadata": {},
   "outputs": [],
   "source": []
  },
  {
   "cell_type": "code",
   "execution_count": null,
   "id": "0efd92a3",
   "metadata": {},
   "outputs": [],
   "source": []
  },
  {
   "cell_type": "code",
   "execution_count": null,
   "id": "7fe1ac77",
   "metadata": {},
   "outputs": [],
   "source": []
  },
  {
   "cell_type": "code",
   "execution_count": null,
   "id": "78511d15",
   "metadata": {},
   "outputs": [],
   "source": []
  },
  {
   "cell_type": "code",
   "execution_count": null,
   "id": "be180885",
   "metadata": {},
   "outputs": [],
   "source": []
  },
  {
   "cell_type": "code",
   "execution_count": null,
   "id": "3e4b13d7",
   "metadata": {},
   "outputs": [],
   "source": []
  },
  {
   "cell_type": "code",
   "execution_count": null,
   "id": "e218a67f",
   "metadata": {},
   "outputs": [],
   "source": []
  },
  {
   "cell_type": "code",
   "execution_count": null,
   "id": "f3684ed4",
   "metadata": {},
   "outputs": [],
   "source": []
  },
  {
   "cell_type": "code",
   "execution_count": null,
   "id": "1b3d2183",
   "metadata": {},
   "outputs": [],
   "source": []
  },
  {
   "cell_type": "code",
   "execution_count": null,
   "id": "e0e86cfa",
   "metadata": {},
   "outputs": [],
   "source": []
  },
  {
   "cell_type": "code",
   "execution_count": null,
   "id": "2477e409",
   "metadata": {},
   "outputs": [],
   "source": []
  },
  {
   "cell_type": "code",
   "execution_count": null,
   "id": "c8801aa4",
   "metadata": {},
   "outputs": [],
   "source": []
  },
  {
   "cell_type": "code",
   "execution_count": null,
   "id": "241afea0",
   "metadata": {},
   "outputs": [],
   "source": []
  },
  {
   "cell_type": "code",
   "execution_count": null,
   "id": "669f720e",
   "metadata": {},
   "outputs": [],
   "source": []
  },
  {
   "cell_type": "code",
   "execution_count": null,
   "id": "5f0aaf5a",
   "metadata": {},
   "outputs": [],
   "source": []
  },
  {
   "cell_type": "code",
   "execution_count": null,
   "id": "0400bafd",
   "metadata": {},
   "outputs": [],
   "source": []
  },
  {
   "cell_type": "code",
   "execution_count": null,
   "id": "a75f1709",
   "metadata": {},
   "outputs": [],
   "source": []
  }
 ],
 "metadata": {
  "kernelspec": {
   "display_name": "Python 3",
   "language": "python",
   "name": "python3"
  },
  "language_info": {
   "codemirror_mode": {
    "name": "ipython",
    "version": 3
   },
   "file_extension": ".py",
   "mimetype": "text/x-python",
   "name": "python",
   "nbconvert_exporter": "python",
   "pygments_lexer": "ipython3",
   "version": "3.8.8"
  }
 },
 "nbformat": 4,
 "nbformat_minor": 5
}
