{
 "cells": [
  {
   "cell_type": "markdown",
   "id": "59ff46e7",
   "metadata": {},
   "source": [
    "## 1. 파이썬과 MySQL 활용\n",
    "\n",
    "+ 파이썬과 MySQL을 연결해주는 모듈 : mysqlclient, PyMySQL\n",
    "    - pip install mysqlclient\n",
    "    - pip install PyMySQL"
   ]
  },
  {
   "cell_type": "code",
   "execution_count": 11,
   "id": "7c6cd156",
   "metadata": {},
   "outputs": [
    {
     "name": "stdout",
     "output_type": "stream",
     "text": [
      "<_mysql.connection open to '127.0.0.1' at 00000197657E73E0>\n"
     ]
    }
   ],
   "source": [
    "##### mysqlclient 모듈을 이용한 연결 테스트 \n",
    "\n",
    "import MySQLdb\n",
    "\n",
    "conn = MySQLdb.connect(host=\"127.0.0.1\", user=\"root\", passwd=\"1111\", database=\"testdb\")\n",
    "#conn = MySQLdb.connect(host=\"netsong7.synology.me\", user=\"user2\", \n",
    "#                       password=\"Mysqldb12345!\", database=\"user2db\", port=3307)\n",
    "print(conn)\n",
    "conn.close()"
   ]
  },
  {
   "cell_type": "code",
   "execution_count": 10,
   "id": "b8e199b3",
   "metadata": {},
   "outputs": [
    {
     "name": "stdout",
     "output_type": "stream",
     "text": [
      "<pymysql.connections.Connection object at 0x0000019766330E50>\n"
     ]
    }
   ],
   "source": [
    "##### PyMySQL 모듈을 이용한 연결 테스트 \n",
    "\n",
    "import pymysql\n",
    "\n",
    "conn = pymysql.connect(host=\"127.0.0.1\", user=\"root\", passwd=\"1111\", database=\"testdb\")\n",
    "print(conn)\n",
    "conn.close()"
   ]
  },
  {
   "cell_type": "code",
   "execution_count": 12,
   "id": "90993a8b",
   "metadata": {},
   "outputs": [],
   "source": [
    "config = {\"host\":\"127.0.0.1\", \"user\":\"root\", \"passwd\":\"1111\", \"database\":\"testdb\"}"
   ]
  },
  {
   "cell_type": "code",
   "execution_count": 13,
   "id": "e190a31b",
   "metadata": {},
   "outputs": [
    {
     "name": "stdout",
     "output_type": "stream",
     "text": [
      "<pymysql.connections.Connection object at 0x0000019766330D30>\n"
     ]
    }
   ],
   "source": [
    "conn = pymysql.connect(**config)\n",
    "print(conn)\n",
    "conn.close()"
   ]
  },
  {
   "cell_type": "markdown",
   "id": "83f074f7",
   "metadata": {},
   "source": [
    "### (1) SELECT"
   ]
  },
  {
   "cell_type": "code",
   "execution_count": 17,
   "id": "f166c0a1",
   "metadata": {},
   "outputs": [
    {
     "name": "stdout",
     "output_type": "stream",
     "text": [
      "[(7369, 'SMITH', 'CLERK', 7902, datetime.datetime(1980, 12, 17, 0, 0), 800.0, None, 20), (7499, 'ALLEN', 'SALESMAN', 7698, datetime.datetime(1981, 2, 20, 0, 0), 1600.0, 300.0, 30), (7521, 'WARD', 'SALESMAN', 7698, datetime.datetime(1981, 2, 22, 0, 0), 1250.0, 500.0, 30), (7566, 'JONES', 'MANAGER', 7839, datetime.datetime(1981, 4, 2, 0, 0), 2975.0, None, 20), (7654, 'MARTIN', 'SALESMAN', 7698, datetime.datetime(1981, 9, 28, 0, 0), 1250.0, 1400.0, 30)]\n"
     ]
    }
   ],
   "source": [
    "conn = MySQLdb.connect(**config)\n",
    "\n",
    "sql = \"select * from emp limit 5\"\n",
    "\n",
    "cur = conn.cursor()\n",
    "cur.execute(sql)\n",
    "\n",
    "# print(cur)\n",
    "\n",
    "#for data in cur:\n",
    "#    print(data)\n",
    "\n",
    "#for a, b, c, d, e, f, g, h in cur:\n",
    "#    print(a, b, c, d, e, f, g, h)\n",
    "\n",
    "result = []\n",
    "for data in cur:\n",
    "    result.append(data)\n",
    "    \n",
    "conn.close()\n",
    "\n",
    "print(result)"
   ]
  },
  {
   "cell_type": "markdown",
   "id": "de9b3745",
   "metadata": {},
   "source": [
    "### (2) INSERT"
   ]
  },
  {
   "cell_type": "code",
   "execution_count": 23,
   "id": "ea255559",
   "metadata": {},
   "outputs": [],
   "source": [
    "conn = MySQLdb.connect(**config)\n",
    "\n",
    "sql = \"\"\"create table if not exists tbltest(\n",
    "    empno    int,\n",
    "    ename    varchar(10),\n",
    "    sal      int,\n",
    "    job      varchar(10)\n",
    ")\"\"\"\n",
    "\n",
    "cur = conn.cursor()\n",
    "cur.execute(sql)\n",
    "\n",
    "sql = \"insert into tbltest(empno, ename, sal) values(1, 'scott', 5000)\"\n",
    "cur.execute(sql)\n",
    "conn.commit()\n",
    "\n",
    "conn.close()"
   ]
  },
  {
   "cell_type": "code",
   "execution_count": 28,
   "id": "668e3b8a",
   "metadata": {},
   "outputs": [],
   "source": [
    "empno = 2\n",
    "ename = \"miller\"\n",
    "sal = 1300\n",
    "\n",
    "conn = MySQLdb.connect(**config)\n",
    "cur = conn.cursor()\n",
    "\n",
    "sql = \"insert into tbltest(empno, ename, sal) values(\" \\\n",
    "    + str(empno) + \", '\" + ename + \"', \" + str(sal)+ \")\"\n",
    "    \n",
    "#print(sql)\n",
    "cur.execute(sql)\n",
    "conn.commit()\n",
    "\n",
    "conn.close()"
   ]
  },
  {
   "cell_type": "code",
   "execution_count": 29,
   "id": "d2117fda",
   "metadata": {},
   "outputs": [],
   "source": [
    "empno = 3\n",
    "ename = \"tom\"\n",
    "sal = 2000\n",
    "\n",
    "conn = MySQLdb.connect(**config)\n",
    "cur = conn.cursor()\n",
    "\n",
    "sql = \"insert into tbltest(empno, ename, sal) values(%s, %s, %s)\"\n",
    "sql_data = (str(empno), ename, str(sal))\n",
    "\n",
    "cur.execute(sql, sql_data)\n",
    "conn.commit()\n",
    "\n",
    "conn.close()"
   ]
  },
  {
   "cell_type": "code",
   "execution_count": 30,
   "id": "7d3b8a50",
   "metadata": {},
   "outputs": [],
   "source": [
    "empno = 4\n",
    "ename = \"jerry\"\n",
    "sal = 2000\n",
    "\n",
    "try:\n",
    "    conn = MySQLdb.connect(**config)\n",
    "    cur = conn.cursor()\n",
    "    \n",
    "    sql = \"insert into tbltest(empno, ename, sal) values(%s, %s, %s)\"\n",
    "    sql_data = (str(empno), ename, str(sal))\n",
    "\n",
    "    cur.execute(sql, sql_data)\n",
    "    conn.commit()\n",
    "except Exception as e:\n",
    "    print(\"error : \", e)\n",
    "finally:\n",
    "    conn.close()"
   ]
  },
  {
   "cell_type": "code",
   "execution_count": 31,
   "id": "3fcc6d37",
   "metadata": {},
   "outputs": [],
   "source": [
    "##### 데이터 여러 개 입력하기\n",
    "\n",
    "conn = MySQLdb.connect(**config)\n",
    "cur = conn.cursor()\n",
    "\n",
    "for i in range(10):\n",
    "    sql = \"insert into tbltest(empno, ename, sal) values(5, 'jane', 10000)\"\n",
    "    cur.execute(sql)\n",
    "    conn.commit()\n",
    "    \n",
    "conn.close()"
   ]
  },
  {
   "cell_type": "markdown",
   "id": "3c86c841",
   "metadata": {},
   "source": [
    "### (3) Cursor"
   ]
  },
  {
   "cell_type": "markdown",
   "id": "644831fb",
   "metadata": {},
   "source": [
    "#### 1) fetchall(), fetchmany(), fetchone()\n",
    "\n",
    "+ default는 fetchall()"
   ]
  },
  {
   "cell_type": "code",
   "execution_count": 35,
   "id": "7ddd7959",
   "metadata": {},
   "outputs": [
    {
     "name": "stdout",
     "output_type": "stream",
     "text": [
      "(1, 'scott', 5000, None)\n"
     ]
    }
   ],
   "source": [
    "try:\n",
    "    conn = MySQLdb.connect(**config)\n",
    "    cur = conn.cursor()\n",
    "    \n",
    "    cur.execute(\"select * from tbltest\")\n",
    "    \n",
    "    #for i in cur.fetchall():\n",
    "    #    print(i)\n",
    "    \n",
    "    #for i in cur.fetchmany(5):\n",
    "    #    print(i)\n",
    "    \n",
    "    print(cur.fetchone())\n",
    "        \n",
    "finally:\n",
    "    conn.close()"
   ]
  },
  {
   "cell_type": "markdown",
   "id": "0cad3990",
   "metadata": {},
   "source": [
    "#### 2) DictCursor\n",
    "\n",
    "+ 필드명을 인덱스 대신 키로 사용"
   ]
  },
  {
   "cell_type": "code",
   "execution_count": 39,
   "id": "77163828",
   "metadata": {},
   "outputs": [
    {
     "name": "stdout",
     "output_type": "stream",
     "text": [
      "1 scott 5000\n",
      "1 scott 5000\n",
      "2 miller 1300\n",
      "3 tom 2000\n",
      "4 jerry 2000\n",
      "5 jane 10000\n",
      "5 jane 10000\n",
      "5 jane 10000\n",
      "5 jane 10000\n",
      "5 jane 10000\n",
      "5 jane 10000\n",
      "5 jane 10000\n",
      "5 jane 10000\n",
      "5 jane 10000\n",
      "5 jane 10000\n"
     ]
    }
   ],
   "source": [
    "try:\n",
    "    conn = MySQLdb.connect(**config)\n",
    "    cur = conn.cursor(MySQLdb.cursors.DictCursor)\n",
    "    \n",
    "    cur.execute(\"select * from tbltest\")\n",
    "    \n",
    "    for i in cur.fetchall():\n",
    "        # print(i[0], i[1], i[2])\n",
    "        print(i[\"empno\"], i[\"ename\"], i[\"sal\"])\n",
    "    \n",
    "finally:\n",
    "    conn.close()"
   ]
  },
  {
   "cell_type": "markdown",
   "id": "71abfbbd",
   "metadata": {},
   "source": [
    "## 2. 응용 예제\n",
    "\n",
    "### (1) CSV파일을 DB에 저장"
   ]
  },
  {
   "cell_type": "code",
   "execution_count": null,
   "id": "47f75d57",
   "metadata": {},
   "outputs": [],
   "source": [
    "\"\"\"\n",
    "CREATE TABLE IF NOT EXISTS suppliers(\n",
    "    Supplier_Name    varchar(20),\n",
    "    Invoice_Number   varchar(20),\n",
    "    Part_Number      varchar(20),\n",
    "    Cost             float,\n",
    "    Purchase_Date    date\n",
    ");\n",
    "\n",
    "\"\"\""
   ]
  },
  {
   "cell_type": "code",
   "execution_count": 56,
   "id": "9475f8ab",
   "metadata": {
    "scrolled": true
   },
   "outputs": [],
   "source": [
    "import csv\n",
    "\n",
    "file = csv.reader(open(\"data/input.csv\"))\n",
    "#print(file)\n",
    "\n",
    "#print(next(file))\n",
    "#print(next(file))\n",
    "#print(next(file))\n",
    "#print(next(file))\n",
    "#print(next(file))\n",
    "\n",
    "next(file)\n",
    "\n",
    "try:\n",
    "    conn = MySQLdb.connect(**config)\n",
    "    cur = conn.cursor()\n",
    "    \n",
    "    cur.execute(\"delete from suppliers\")\n",
    "    conn.commit()\n",
    "    \n",
    "    for row in file:\n",
    "        # print(row)\n",
    "        cur.execute(\"insert into suppliers values(%s, %s, %s, %s, %s)\", row)\n",
    "    \n",
    "    conn.commit()\n",
    "    \n",
    "finally:\n",
    "    conn.close()"
   ]
  },
  {
   "cell_type": "markdown",
   "id": "21aaed5c",
   "metadata": {},
   "source": [
    "### (2) DB에서 가져온 데이터를 파일로 저장"
   ]
  },
  {
   "cell_type": "code",
   "execution_count": 61,
   "id": "03f21f13",
   "metadata": {},
   "outputs": [],
   "source": [
    "try:\n",
    "    conn = MySQLdb.connect(**config)\n",
    "    cur = conn.cursor()\n",
    "    \n",
    "    cur.execute(\"select * from suppliers where cost > 500000\")\n",
    "    \n",
    "    #for i in cur:\n",
    "    #    print(i)\n",
    "    \n",
    "    file = csv.writer(open(\"data/output.csv\", \"w\"), delimiter=\",\")\n",
    "    \n",
    "    header = [\"Supplier Name\",\"Invoice Number\",\"Part Number\",\"Cost\",\"Purchase Date\"]\n",
    "    file.writerow(header)\n",
    "    \n",
    "    for row in cur:\n",
    "        file.writerow(row)\n",
    "    \n",
    "finally:\n",
    "    conn.close()"
   ]
  },
  {
   "cell_type": "code",
   "execution_count": null,
   "id": "a0c6a14e",
   "metadata": {},
   "outputs": [],
   "source": []
  },
  {
   "cell_type": "code",
   "execution_count": null,
   "id": "ae04145c",
   "metadata": {},
   "outputs": [],
   "source": []
  },
  {
   "cell_type": "code",
   "execution_count": null,
   "id": "26380755",
   "metadata": {},
   "outputs": [],
   "source": []
  },
  {
   "cell_type": "code",
   "execution_count": null,
   "id": "437b27b6",
   "metadata": {},
   "outputs": [],
   "source": []
  }
 ],
 "metadata": {
  "kernelspec": {
   "display_name": "Python 3",
   "language": "python",
   "name": "python3"
  },
  "language_info": {
   "codemirror_mode": {
    "name": "ipython",
    "version": 3
   },
   "file_extension": ".py",
   "mimetype": "text/x-python",
   "name": "python",
   "nbconvert_exporter": "python",
   "pygments_lexer": "ipython3",
   "version": "3.8.8"
  }
 },
 "nbformat": 4,
 "nbformat_minor": 5
}
