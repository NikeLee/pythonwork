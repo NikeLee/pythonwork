{
 "cells": [
  {
   "cell_type": "markdown",
   "id": "bdcad793",
   "metadata": {},
   "source": [
    "## 1. 특징\n",
    "\n",
    "+ 묶음(코드 블럭)\n",
    "    - 변수(멤버 변수, 속성, 필드), 함수(멤버 함수, 메서드)\n",
    "    - 여러 개의 함수를 묶어서 좀 더 큰 단위의 모듈로 관리\n",
    "    \n",
    "\n",
    "+ 설계도(추상적)\n",
    "    - 인스턴스(instance), 객체(object)\n",
    "    \n",
    "    \n",
    "+ 사용자 정의 자료형\n",
    "\n",
    "\n",
    "+ 객체의 조건\n",
    "    - 상속성(Inheritance)\n",
    "    - 다형성(Polymorphism)\n",
    "    - 캡슐화(Encapsulation)"
   ]
  },
  {
   "cell_type": "markdown",
   "id": "93338807",
   "metadata": {},
   "source": [
    "---\n",
    "\n",
    "## 2. 작성방법\n",
    "\n",
    "    class 이름:\n",
    "        변수\n",
    "        함수\n",
    "        \n",
    "    또는\n",
    "    \n",
    "    class 이름(...):\n",
    "        변수\n",
    "        함수"
   ]
  },
  {
   "cell_type": "code",
   "execution_count": 1,
   "id": "8a7a83ec",
   "metadata": {},
   "outputs": [
    {
     "name": "stdout",
     "output_type": "stream",
     "text": [
      "10\n",
      "Test 클래스\n",
      "<class 'int'>\n"
     ]
    }
   ],
   "source": [
    "##### 인스턴스(객체)의 생성방법\n",
    "\n",
    "class Test:\n",
    "    a = 10\n",
    "    \n",
    "    def show(self):\n",
    "        return \"Test 클래스\"\n",
    "        \n",
    "####################################################\n",
    "\n",
    "#print(Test().a)\n",
    "#print(Test().show())\n",
    "\n",
    "ob = Test()\n",
    "print(ob.a)\n",
    "print(ob.show())\n",
    "\n",
    "a = 10\n",
    "print(type(a))"
   ]
  },
  {
   "cell_type": "code",
   "execution_count": 7,
   "id": "4cc96f32",
   "metadata": {},
   "outputs": [
    {
     "name": "stdout",
     "output_type": "stream",
     "text": [
      "국적 :  한국\n",
      "이름 :  홍길동\n",
      "나이 :  20\n",
      "신장 :  170\n",
      "취미 :  ['독서', '여행']\n",
      "\n",
      "--------------------------\n",
      "국적 :  프랑스\n",
      "이름 :  시몽\n",
      "나이 :  25\n",
      "신장 :  168\n",
      "취미 :  ['우표수집', '여행', '음악감상']\n",
      "\n",
      "--------------------------\n",
      "국적 :  독일\n",
      "이름 :  괴테\n",
      "나이 :  30\n",
      "신장 :  175\n",
      "취미 :  ['낚시']\n",
      "\n",
      "--------------------------\n"
     ]
    }
   ],
   "source": [
    "##### 사용자 정의 자료형\n",
    "# 국적, 이름, 나이, 신장, 취미\n",
    "\n",
    "class Person:\n",
    "    nation = \"한국\"\n",
    "    name = str()\n",
    "    age = int()\n",
    "    height = float()\n",
    "    hobbies = []\n",
    "    \n",
    "    def show(self):\n",
    "        print(\"국적 : \", self.nation)\n",
    "        print(\"이름 : \", self.name)\n",
    "        print(\"나이 : \", self.age)\n",
    "        print(\"신장 : \", self.height)\n",
    "        print(\"취미 : \", self.hobbies)\n",
    "        print(\"\\n--------------------------\")\n",
    "        \n",
    "#####################################################################\n",
    "\n",
    "p1 = Person()\n",
    "p2 = Person()\n",
    "p3 = Person()\n",
    "\n",
    "p1.name = \"홍길동\"\n",
    "p1.age = 20\n",
    "p1.height = 170\n",
    "p1.hobbies = [\"독서\", \"여행\"]\n",
    "\n",
    "p2.nation = \"프랑스\"\n",
    "p2.name = \"시몽\"\n",
    "p2.age = 25\n",
    "p2.height = 168\n",
    "p2.hobbies = [\"우표수집\", \"여행\", \"음악감상\"]\n",
    "\n",
    "p3.nation = \"독일\"\n",
    "p3.name = \"괴테\"\n",
    "p3.age = 30\n",
    "p3.height = 175\n",
    "p3.hobbies = [\"낚시\"]\n",
    "\n",
    "data = [p1, p2, p3]\n",
    "\n",
    "for i in range(len(data)):\n",
    "    data[i].show()"
   ]
  },
  {
   "cell_type": "markdown",
   "id": "06969afa",
   "metadata": {},
   "source": [
    "---\n",
    "\n",
    "### (1) self\n",
    "\n",
    "+ 현재 사용중인 객체의 주소를 저장하고 있는 참조 변수\n",
    "+ read only"
   ]
  },
  {
   "cell_type": "code",
   "execution_count": 22,
   "id": "772f17f6",
   "metadata": {},
   "outputs": [],
   "source": [
    "class Test:\n",
    "    #a = int()\n",
    "    #b = float()\n",
    "    #c = str()\n",
    "    \n",
    "    def show(self):\n",
    "        print(self.a, self.b, self.c)\n",
    "        print(\"현재 주소 : \", id(self))\n",
    "        \n",
    "    def setValue(self, a, b, c):\n",
    "        # 검증 또는 방어코드\n",
    "        self.a = a\n",
    "        self.b = b\n",
    "        self.c = c"
   ]
  },
  {
   "cell_type": "code",
   "execution_count": 23,
   "id": "2bd69b92",
   "metadata": {},
   "outputs": [
    {
     "name": "stdout",
     "output_type": "stream",
     "text": [
      "10 3.14 홍길동\n",
      "현재 주소 :  1985575211888\n",
      "----------------------------\n",
      "100 4.5 임꺽정\n",
      "현재 주소 :  1985575212368\n",
      "----------------------------\n",
      "200 5.5 고길동\n",
      "현재 주소 :  1985575458752\n"
     ]
    }
   ],
   "source": [
    "t1 = Test()\n",
    "t2 = Test()\n",
    "t3 = Test()\n",
    "\n",
    "t1.a = 10\n",
    "t1.b = 3.14\n",
    "t1.c = \"홍길동\"\n",
    "t1.show()\n",
    "\n",
    "print(\"----------------------------\")\n",
    "\n",
    "t2.a = 100\n",
    "t2.b = 4.5\n",
    "t2.c = \"임꺽정\"\n",
    "t2.show()\n",
    "\n",
    "print(\"----------------------------\")\n",
    "\n",
    "t3.setValue(200, 5.5, \"고길동\")\n",
    "t3.show()"
   ]
  },
  {
   "cell_type": "markdown",
   "id": "58657890",
   "metadata": {},
   "source": [
    "---\n",
    "\n",
    "### (2) 생성자(Constructor)와 소멸자(Deconstructor)\n",
    "\n",
    "+ 메서드\n",
    "+ 객체(인스턴스)를 생성하는 용도\n",
    "+ 생성자의 경우 객체를 처음 만들때 호출된다.(단 한번만 호출)\n",
    "+ 초기화"
   ]
  },
  {
   "cell_type": "code",
   "execution_count": 49,
   "id": "cf6f9c1b",
   "metadata": {},
   "outputs": [],
   "source": [
    "class Test:\n",
    "    a = int()\n",
    "    b = str()\n",
    "    \n",
    "#     def __init__(self):\n",
    "#         print(\"생성자 호출됨\")\n",
    "#         self.a = 5\n",
    "#         self.b = \"무명씨\"\n",
    "    \n",
    "    def __init__(self, a=0, b=\" \"):\n",
    "        self.a = a\n",
    "        self.b = b\n",
    "        \n",
    "    def __del__(self):\n",
    "        print(\"소멸자 호출\")\n",
    "    \n",
    "    def setVal(self, a, b):\n",
    "        self.a = a\n",
    "        self.b = b"
   ]
  },
  {
   "cell_type": "code",
   "execution_count": 50,
   "id": "31cbaef4",
   "metadata": {},
   "outputs": [
    {
     "name": "stdout",
     "output_type": "stream",
     "text": [
      "10 홍길동\n",
      "------------------------------\n",
      "20 임꺽정\n",
      "------------------------------\n",
      "0  \n",
      "------------------------------\n",
      "40 고길동\n"
     ]
    }
   ],
   "source": [
    "t1 = Test()\n",
    "t1.setVal(10, \"홍길동\")\n",
    "print(t1.a, t1.b)\n",
    "\n",
    "print(\"------------------------------\")\n",
    "\n",
    "t2 = Test()\n",
    "t2.setVal(20, \"임꺽정\")\n",
    "print(t2.a, t2.b)\n",
    "\n",
    "print(\"------------------------------\")\n",
    "\n",
    "t3 = Test()\n",
    "print(t3.a, t3.b)\n",
    "\n",
    "print(\"------------------------------\")\n",
    "\n",
    "t4 = Test(40, \"고길동\")\n",
    "print(t4.a, t4.b)"
   ]
  },
  {
   "cell_type": "code",
   "execution_count": 51,
   "id": "2bd4b999",
   "metadata": {},
   "outputs": [
    {
     "name": "stdout",
     "output_type": "stream",
     "text": [
      "소멸자 호출\n"
     ]
    }
   ],
   "source": [
    "del t4"
   ]
  },
  {
   "cell_type": "markdown",
   "id": "9d491481",
   "metadata": {},
   "source": [
    "---\n",
    "\n",
    "### (3) static\n",
    "\n",
    "+ 인스턴스와 구별\n",
    "+ 동일한 공간을 모든 객체들이 공동으로 사용\n",
    "+ 정적(클래스) 변수, 정적(클래스) 메서드"
   ]
  },
  {
   "cell_type": "code",
   "execution_count": 85,
   "id": "49572ac9",
   "metadata": {},
   "outputs": [],
   "source": [
    "class Person:\n",
    "    nation = \"한국\"\n",
    "    name = str()\n",
    "    age = int()\n",
    "    height = float()\n",
    "    hobbies = []\n",
    "    company = str()\n",
    "    \n",
    "    def show(self):\n",
    "        print(\"국적 : \", self.nation)\n",
    "        print(\"이름 : \", self.name)\n",
    "        print(\"나이 : \", self.age)\n",
    "        print(\"신장 : \", self.height)\n",
    "        print(\"취미 : \", self.hobbies)\n",
    "        print(self.company)\n",
    "        print(\"회사명 : \", Person.company)\n",
    "        print(\"\\n--------------------------\")\n",
    "    \n",
    "    @staticmethod\n",
    "    def funcCompany():\n",
    "        Person.company = \"파이썬 주식회사\"\n",
    "        return \"회사명 : \" + Person.company"
   ]
  },
  {
   "cell_type": "code",
   "execution_count": 86,
   "id": "e8731729",
   "metadata": {},
   "outputs": [
    {
     "name": "stdout",
     "output_type": "stream",
     "text": [
      "한국\n"
     ]
    }
   ],
   "source": [
    "print(Person.nation)"
   ]
  },
  {
   "cell_type": "code",
   "execution_count": 87,
   "id": "a88e8c25",
   "metadata": {},
   "outputs": [
    {
     "name": "stdout",
     "output_type": "stream",
     "text": [
      "한국 한국\n",
      "독일 프랑스\n",
      "한국\n"
     ]
    }
   ],
   "source": [
    "p1 = Person()\n",
    "p2 = Person()\n",
    "print(p1.nation, p2.nation)\n",
    "\n",
    "p1.nation = \"독일\"\n",
    "p2.nation = \"프랑스\"\n",
    "print(p1.nation, p2.nation)\n",
    "print(Person.nation)"
   ]
  },
  {
   "cell_type": "code",
   "execution_count": 88,
   "id": "f569e1cf",
   "metadata": {},
   "outputs": [
    {
     "name": "stdout",
     "output_type": "stream",
     "text": [
      "파이썬 주식회사 파이썬 주식회사\n",
      "국적 :  독일\n",
      "이름 :  \n",
      "나이 :  0\n",
      "신장 :  0.0\n",
      "취미 :  []\n",
      "파이썬 주식회사\n",
      "회사명 :  파이썬 주식회사\n",
      "\n",
      "--------------------------\n"
     ]
    }
   ],
   "source": [
    "Person.company = \"파이썬 주식회사\"\n",
    "\n",
    "print(p1.company, p2.company)\n",
    "p1.show()"
   ]
  },
  {
   "cell_type": "code",
   "execution_count": 91,
   "id": "ea7a9447",
   "metadata": {},
   "outputs": [
    {
     "data": {
      "text/plain": [
       "'회사명 : 파이썬 주식회사'"
      ]
     },
     "execution_count": 91,
     "metadata": {},
     "output_type": "execute_result"
    }
   ],
   "source": [
    "Person.funcCompany()"
   ]
  },
  {
   "cell_type": "code",
   "execution_count": 105,
   "id": "fbb5c2c3",
   "metadata": {},
   "outputs": [],
   "source": [
    "##### 객체의 수를 카운팅\n",
    "\n",
    "class Counter:\n",
    "    m_cnt = 0\n",
    "    \n",
    "    def __init__(self):\n",
    "        Counter.m_cnt += 1\n",
    "    \n",
    "    @staticmethod\n",
    "    def printCount():\n",
    "        print(\"총 객체의 수 : \", Counter.m_cnt)"
   ]
  },
  {
   "cell_type": "code",
   "execution_count": 106,
   "id": "57a1d911",
   "metadata": {},
   "outputs": [
    {
     "name": "stdout",
     "output_type": "stream",
     "text": [
      "총 객체의 수 :  3\n",
      "총 객체의 수 :  3\n",
      "총 객체의 수 :  3\n",
      "총 객체의 수 :  3\n"
     ]
    }
   ],
   "source": [
    "a, b, c = Counter(), Counter(), Counter()\n",
    "a.printCount()\n",
    "b.printCount()\n",
    "c.printCount()\n",
    "\n",
    "Counter.printCount()"
   ]
  },
  {
   "cell_type": "code",
   "execution_count": null,
   "id": "99df6585",
   "metadata": {},
   "outputs": [],
   "source": [
    "\"\"\"\n",
    "e1 = Employee(1111, \"홍길동\", 1000000, [\"여행\", \"낚시\", \"운동\"])\n",
    "e1.display()\n",
    "\n",
    "결과 :\n",
    "    사번 : 1111\n",
    "    이름 : 홍길동\n",
    "    급여 : 1000000\n",
    "    취미 : 여행, 낚시, 운동\n",
    "    \n",
    "e2 = Employee(1112, \"임꺽정\", 1200000, [\"자전거\", \"볼링\"])\n",
    "e3 = Employee(1113, \"신돌석\", 1400000, [\"독서\"])\n",
    "\n",
    "total = Employee.getCount()\n",
    "print(\"인원수 : \", total)\n",
    "\n",
    "# 데이터 수정\n",
    "e3.setSalary(2000000)\n",
    "e3.appendHobby(\"피아노\", \"드론\")\n",
    "e3.display()\n",
    "\n",
    "결과 :\n",
    "    사번 : 1113\n",
    "    이름 : 신돌석\n",
    "    급여 : 2000000\n",
    "    취미 : 독서, 피아노, 드론\n",
    "\"\"\""
   ]
  },
  {
   "cell_type": "markdown",
   "id": "186fa2e7",
   "metadata": {},
   "source": [
    "---\n",
    "\n",
    "### (4) 원래 설계된 멤버변수외에 객체별로 멤버변수를 추가할 수 있다."
   ]
  },
  {
   "cell_type": "code",
   "execution_count": 3,
   "id": "27b078b2",
   "metadata": {},
   "outputs": [],
   "source": [
    "class Test:\n",
    "    a = 0\n",
    "    \n",
    "    def display(self):\n",
    "        print(self.a)"
   ]
  },
  {
   "cell_type": "code",
   "execution_count": 6,
   "id": "d53a54a1",
   "metadata": {},
   "outputs": [
    {
     "name": "stdout",
     "output_type": "stream",
     "text": [
      "0\n",
      "0\n",
      "10 100\n"
     ]
    }
   ],
   "source": [
    "ob1 = Test()\n",
    "ob1.display()\n",
    "\n",
    "ob2 = Test()\n",
    "ob2.display()\n",
    "\n",
    "ob2.a = 10\n",
    "ob2.b = 100\n",
    "print(ob2.a, ob2.b)"
   ]
  },
  {
   "cell_type": "code",
   "execution_count": null,
   "id": "a75d33c6",
   "metadata": {},
   "outputs": [],
   "source": []
  },
  {
   "cell_type": "markdown",
   "id": "9f452adb",
   "metadata": {},
   "source": [
    "---\n",
    "\n",
    "### (5) _ 와 __\n",
    "\n",
    "+ 기본 인터프리터에서 사용(마지막으로 실행된 결과값을 불러오기) : _\n",
    "+ 값을 무시 : _\n",
    "+ 접근 권한 : _, __"
   ]
  },
  {
   "cell_type": "code",
   "execution_count": 10,
   "id": "236c2234",
   "metadata": {},
   "outputs": [
    {
     "name": "stdout",
     "output_type": "stream",
     "text": [
      "20 30\n"
     ]
    }
   ],
   "source": [
    "_, b, c = (10, 20, 30)\n",
    "a, _, c = (10, 20, 30)\n",
    "_, _, c = (10, 20, 30)\n",
    "\n",
    "print(b, c)"
   ]
  },
  {
   "cell_type": "code",
   "execution_count": 11,
   "id": "81ed7df1",
   "metadata": {},
   "outputs": [
    {
     "name": "stdout",
     "output_type": "stream",
     "text": [
      "10 60\n"
     ]
    }
   ],
   "source": [
    "a, _, _, _, _, b = (10, 20, 30, 40, 50, 60)\n",
    "a, *_, b = (10, 20, 30, 40, 50, 60)\n",
    "print(a, b)"
   ]
  },
  {
   "cell_type": "code",
   "execution_count": 34,
   "id": "d8e8299a",
   "metadata": {},
   "outputs": [],
   "source": [
    "class Test:\n",
    "    str1 = \"안녕하세요!!\"\n",
    "    _str2 = \"홍길동입니다.\"\n",
    "    __str3 = \"이것은 건드리지 마세요\"\n",
    "    \n",
    "    def __funcTest(self):\n",
    "        print(\"funcTest 입니다.\", self.str1)\n",
    "        \n",
    "    def setStr3(self, a):\n",
    "        self.__str3 = a\n",
    "        \n",
    "    def getStr3(self):\n",
    "        return self.__str3"
   ]
  },
  {
   "cell_type": "code",
   "execution_count": 35,
   "id": "1aba7112",
   "metadata": {},
   "outputs": [
    {
     "name": "stdout",
     "output_type": "stream",
     "text": [
      "안녕하세요!!\n",
      "홍길동입니다.\n",
      "임꺽정입니다.\n",
      "['_Test__funcTest', '_Test__str3', '__class__', '__delattr__', '__dict__', '__dir__', '__doc__', '__eq__', '__format__', '__ge__', '__getattribute__', '__gt__', '__hash__', '__init__', '__init_subclass__', '__le__', '__lt__', '__module__', '__ne__', '__new__', '__reduce__', '__reduce_ex__', '__repr__', '__setattr__', '__sizeof__', '__str__', '__subclasshook__', '__weakref__', '_str2', 'getStr3', 'setStr3', 'str1']\n",
      "이것은 건드리지 마세요\n",
      "funcTest 입니다. 안녕하세요!!\n",
      "수정하였음...\n"
     ]
    }
   ],
   "source": [
    "ob1 = Test()\n",
    "print(ob1.str1)\n",
    "\n",
    "print(ob1._str2)\n",
    "ob1._str2 = \"임꺽정입니다.\"\n",
    "print(ob1._str2)\n",
    "\n",
    "# print(ob1.__str3)\n",
    "print(dir(ob1))\n",
    "print(ob1._Test__str3)\n",
    "\n",
    "ob1._Test__funcTest()\n",
    "\n",
    "ob1.setStr3(\"수정하였음...\")\n",
    "print(ob1.getStr3())"
   ]
  },
  {
   "cell_type": "markdown",
   "id": "34e1942b",
   "metadata": {},
   "source": [
    "---\n",
    "\n",
    "## 3. 상속(Inheritance)\n",
    "\n",
    "+ 상속 설계시 고려할 점\n",
    "    - 부모 클래스는 최소한의 코드로 작성(모든 자식들이 공통적으로 필요로 하는 것으로 구성)\n",
    "    - 상속받는 자식 클래스는 반드시 기능을 추가(확장)시켜야 한다.\n",
    "    - 중복된 기능이 있어서는 안된다.\n",
    "    \n",
    "+ Override(재정의), Overload(중복정의)"
   ]
  },
  {
   "cell_type": "code",
   "execution_count": 41,
   "id": "c5f52154",
   "metadata": {},
   "outputs": [],
   "source": [
    "class Animal:\n",
    "    def move(self):\n",
    "        print(\"움직인다.\")\n",
    "        \n",
    "        \n",
    "class Dog(Animal):\n",
    "    def bark(self):\n",
    "        print(\"멍멍~~~\")\n",
    "    \n",
    "    \n",
    "class Horse(Animal):\n",
    "    def speed(self, s):\n",
    "        print(\"현재 속도는 \", s)"
   ]
  },
  {
   "cell_type": "code",
   "execution_count": 42,
   "id": "efef9a1a",
   "metadata": {},
   "outputs": [
    {
     "name": "stdout",
     "output_type": "stream",
     "text": [
      "멍멍~~~\n",
      "움직인다.\n"
     ]
    }
   ],
   "source": [
    "d1 = Dog()\n",
    "d1.bark()\n",
    "d1.move()"
   ]
  },
  {
   "cell_type": "code",
   "execution_count": 47,
   "id": "6b44519b",
   "metadata": {},
   "outputs": [],
   "source": [
    "class Calculator:\n",
    "    first = 0\n",
    "    second = 0\n",
    "    \n",
    "    def __init__(self, first=None, second=None):\n",
    "        self.first = first\n",
    "        self.second = second\n",
    "        \n",
    "    def setData(self, first=None, second=None):\n",
    "        self.first = first\n",
    "        self.second = second\n",
    "        \n",
    "    def sum(self):\n",
    "        return self.first + self.second\n",
    "    \n",
    "    def div(self):\n",
    "        return self.first / self.second\n",
    "    \n",
    "    def mul(self):\n",
    "        return self.first * self.second\n",
    "    \n",
    "    def sub(self):\n",
    "        return self.first - self.second\n",
    "    \n",
    "    \n",
    "class Calculator2(Calculator):\n",
    "    def pow(self):\n",
    "        return self.first ** self.second"
   ]
  },
  {
   "cell_type": "code",
   "execution_count": 49,
   "id": "d053de33",
   "metadata": {},
   "outputs": [
    {
     "name": "stdout",
     "output_type": "stream",
     "text": [
      "30\n",
      "600\n",
      "1024\n",
      "12\n",
      "20\n"
     ]
    }
   ],
   "source": [
    "cal1 = Calculator()\n",
    "cal1.setData(10, 20)\n",
    "print(cal1.sum())\n",
    "\n",
    "cal2 = Calculator(20, 30)\n",
    "print(cal2.mul())\n",
    "\n",
    "cal3 = Calculator2(2, 10)\n",
    "print(cal3.pow())\n",
    "print(cal3.sum())\n",
    "print(cal3.mul())"
   ]
  },
  {
   "cell_type": "code",
   "execution_count": null,
   "id": "879eaff9",
   "metadata": {},
   "outputs": [],
   "source": [
    "class Phone:\n",
    "    def call(self):\n",
    "        print(\"전화 걸기\")\n",
    "        \n",
    "\n",
    "class FolderPhone(Phone):\n",
    "    def call(self):\n",
    "        print(\"전화 걸기 + 게임\")\n",
    "\n",
    "class CameraPhone(Phone):\n",
    "    def call(self):\n",
    "        print(\"전화 걸기 + 카메라 추가\")\n",
    "\n",
    "\n",
    "class SmartPhone(Phone):\n",
    "    def call(self):\n",
    "        print(\"전화 걸기 + 카메라 추가 + 인터넷 기능\")"
   ]
  },
  {
   "cell_type": "code",
   "execution_count": 64,
   "id": "f1f30410",
   "metadata": {},
   "outputs": [],
   "source": [
    "##### super()\n",
    "\n",
    "class Person:\n",
    "    say = \"난 사람이다.\"\n",
    "    age = 20\n",
    "    \n",
    "    def info(self):\n",
    "        print(\"나이 : {}, 하고 싶은말 : {}\".format(self.age, self.say))\n",
    "        \n",
    "    def __init__(self):\n",
    "        print(\"Person 클래스\")\n",
    "        \n",
    "        \n",
    "class Employee(Person):\n",
    "    def __init__(self):\n",
    "        print(\"Employee 클래스\")\n",
    "        \n",
    "    say = \"난 회사원이다\"\n",
    "    \n",
    "    def info(self):\n",
    "        print(self.say)\n",
    "        print(self.age)\n",
    "        print(super().say)\n",
    "        super().info()"
   ]
  },
  {
   "cell_type": "code",
   "execution_count": 65,
   "id": "3376aa70",
   "metadata": {},
   "outputs": [
    {
     "name": "stdout",
     "output_type": "stream",
     "text": [
      "Employee 클래스\n",
      "난 회사원이다\n",
      "20\n",
      "난 사람이다.\n",
      "나이 : 20, 하고 싶은말 : 난 회사원이다\n"
     ]
    }
   ],
   "source": [
    "e1 = Employee()\n",
    "e1.info()"
   ]
  },
  {
   "cell_type": "markdown",
   "id": "77298d74",
   "metadata": {},
   "source": [
    "---\n",
    "\n",
    "## 4. 다중 상속"
   ]
  },
  {
   "cell_type": "code",
   "execution_count": 66,
   "id": "7e96aa28",
   "metadata": {},
   "outputs": [],
   "source": [
    "class Phone:\n",
    "    def call(self):\n",
    "        print(\"전화 걸기\")\n",
    "        \n",
    "class Camera:\n",
    "    def picture(self):\n",
    "        print(\"사진 찍기\")\n",
    "        \n",
    "class Game:\n",
    "    def rendering(self):\n",
    "        print(\"화면 그리기\")\n",
    "        \n",
    "class SmartPhone(Phone, Camera):\n",
    "    pass"
   ]
  },
  {
   "cell_type": "code",
   "execution_count": 67,
   "id": "68cd8b26",
   "metadata": {},
   "outputs": [
    {
     "name": "stdout",
     "output_type": "stream",
     "text": [
      "전화 걸기\n",
      "사진 찍기\n"
     ]
    }
   ],
   "source": [
    "sp = SmartPhone()\n",
    "sp.call()\n",
    "sp.picture()"
   ]
  },
  {
   "cell_type": "markdown",
   "id": "fb8b302e",
   "metadata": {},
   "source": [
    "---\n",
    "\n",
    "## 5. object\n",
    "\n",
    "+ 파이썬 클래스들 중에서 가장 상위 클래스"
   ]
  },
  {
   "cell_type": "code",
   "execution_count": 68,
   "id": "506d966b",
   "metadata": {},
   "outputs": [
    {
     "name": "stdout",
     "output_type": "stream",
     "text": [
      "['__class__', '__delattr__', '__dir__', '__doc__', '__eq__', '__format__', '__ge__', '__getattribute__', '__gt__', '__hash__', '__init__', '__init_subclass__', '__le__', '__lt__', '__ne__', '__new__', '__reduce__', '__reduce_ex__', '__repr__', '__setattr__', '__sizeof__', '__str__', '__subclasshook__']\n"
     ]
    }
   ],
   "source": [
    "print(dir(object))"
   ]
  },
  {
   "cell_type": "code",
   "execution_count": 69,
   "id": "737ca285",
   "metadata": {},
   "outputs": [],
   "source": [
    "class Test:\n",
    "    a = 10"
   ]
  },
  {
   "cell_type": "code",
   "execution_count": 70,
   "id": "cc685a14",
   "metadata": {},
   "outputs": [
    {
     "name": "stdout",
     "output_type": "stream",
     "text": [
      "['__class__', '__delattr__', '__dict__', '__dir__', '__doc__', '__eq__', '__format__', '__ge__', '__getattribute__', '__gt__', '__hash__', '__init__', '__init_subclass__', '__le__', '__lt__', '__module__', '__ne__', '__new__', '__reduce__', '__reduce_ex__', '__repr__', '__setattr__', '__sizeof__', '__str__', '__subclasshook__', '__weakref__', 'a']\n"
     ]
    }
   ],
   "source": [
    "print(dir(Test))"
   ]
  },
  {
   "cell_type": "markdown",
   "id": "7cfa88fd",
   "metadata": {},
   "source": [
    "---\n",
    "\n",
    "## 6. 고급함수"
   ]
  },
  {
   "cell_type": "markdown",
   "id": "855b05f4",
   "metadata": {},
   "source": [
    "####  (1) 변수의 생존 범위 : global, nonlocal  "
   ]
  },
  {
   "cell_type": "code",
   "execution_count": 73,
   "id": "a976f4f5",
   "metadata": {},
   "outputs": [
    {
     "name": "stdout",
     "output_type": "stream",
     "text": [
      "전국 대표\n",
      "지역 대표\n"
     ]
    }
   ],
   "source": [
    "player = \"전국 대표\"\n",
    "\n",
    "def funcSoccer():\n",
    "    global player\n",
    "    \n",
    "    name = \"홍길동\"\n",
    "    player = \"지역 대표\"\n",
    "    \n",
    "##########################################\n",
    "\n",
    "print(player)\n",
    "funcSoccer()\n",
    "print(player)"
   ]
  },
  {
   "cell_type": "code",
   "execution_count": 83,
   "id": "22534832",
   "metadata": {},
   "outputs": [
    {
     "name": "stdout",
     "output_type": "stream",
     "text": [
      "100\n",
      "kbs2 함수 내부 :  2\n",
      "kbs1 함수 내부 :  2\n",
      "100\n"
     ]
    }
   ],
   "source": [
    "a = 100\n",
    "\n",
    "def kbs1():\n",
    "    a = 1\n",
    "    \n",
    "    def kbs2():\n",
    "        # global a\n",
    "        nonlocal a\n",
    "        a = 2\n",
    "        print(\"kbs2 함수 내부 : \", a)\n",
    "        \n",
    "    kbs2()\n",
    "    print(\"kbs1 함수 내부 : \", a)\n",
    "###############################################\n",
    "print(a)\n",
    "kbs1()\n",
    "print(a)"
   ]
  },
  {
   "cell_type": "markdown",
   "id": "095c2281",
   "metadata": {},
   "source": [
    "####  (2) 클로저(Closer)\n",
    "\n",
    "+ 함수 밖에서 임의의 함수 안에 선언된 지역변수를 계속 참조할 수 있게 하는 방법"
   ]
  },
  {
   "cell_type": "code",
   "execution_count": 89,
   "id": "d7a49363",
   "metadata": {},
   "outputs": [
    {
     "name": "stdout",
     "output_type": "stream",
     "text": [
      "1\n",
      "2\n",
      "3\n"
     ]
    }
   ],
   "source": [
    "count = 0\n",
    "\n",
    "def out():\n",
    "    count = 0\n",
    "    \n",
    "    def inn():\n",
    "        global count\n",
    "        \n",
    "        count += 1\n",
    "        print(count)\n",
    "        \n",
    "    inn()\n",
    "    \n",
    "###########################################\n",
    "\n",
    "out()\n",
    "out()\n",
    "out()"
   ]
  },
  {
   "cell_type": "code",
   "execution_count": 93,
   "id": "b8781572",
   "metadata": {},
   "outputs": [
    {
     "name": "stdout",
     "output_type": "stream",
     "text": [
      "1\n",
      "2\n",
      "3\n",
      "1\n",
      "2\n",
      "3\n"
     ]
    }
   ],
   "source": [
    "def out():\n",
    "    count = 0\n",
    "    \n",
    "    def inn():\n",
    "        nonlocal count\n",
    "        \n",
    "        count += 1\n",
    "        print(count)\n",
    "        \n",
    "    return inn\n",
    "    \n",
    "###########################################\n",
    "\n",
    "a = out()\n",
    "a()\n",
    "a()\n",
    "a()\n",
    "\n",
    "b = out()\n",
    "b()\n",
    "b()\n",
    "b()"
   ]
  },
  {
   "cell_type": "code",
   "execution_count": 1,
   "id": "df9f2efb",
   "metadata": {},
   "outputs": [
    {
     "name": "stdout",
     "output_type": "stream",
     "text": [
      "2500.0\n",
      "3600.0\n",
      "1250.0\n"
     ]
    }
   ],
   "source": [
    "def outer(tax):\n",
    "    def inner(su, dan):\n",
    "        amount = su * dan * tax\n",
    "        return amount\n",
    "    \n",
    "    return inner\n",
    "\n",
    "###########################################\n",
    "\n",
    "tax_rate = outer(0.1)\n",
    "mouse = tax_rate(5, 5000)\n",
    "print(mouse)\n",
    "\n",
    "usb = tax_rate(3, 12000)\n",
    "print(usb)\n",
    "\n",
    "tax_rate2 = outer(0.05)\n",
    "mouse = tax_rate2(5, 5000)\n",
    "print(mouse)"
   ]
  },
  {
   "cell_type": "markdown",
   "id": "02c8683a",
   "metadata": {},
   "source": [
    "####  (3) 람다 함수(무명 함수, 익명 함수)"
   ]
  },
  {
   "cell_type": "code",
   "execution_count": 2,
   "id": "d88897cc",
   "metadata": {},
   "outputs": [
    {
     "name": "stdout",
     "output_type": "stream",
     "text": [
      "30\n"
     ]
    }
   ],
   "source": [
    "def hap(x, y):\n",
    "    return x + y\n",
    "\n",
    "#############################\n",
    "\n",
    "result = hap(10, 20)\n",
    "print(result)"
   ]
  },
  {
   "cell_type": "code",
   "execution_count": 3,
   "id": "36101e5e",
   "metadata": {},
   "outputs": [
    {
     "data": {
      "text/plain": [
       "30"
      ]
     },
     "execution_count": 3,
     "metadata": {},
     "output_type": "execute_result"
    }
   ],
   "source": [
    "(lambda x, y : x + y)(10, 20)"
   ]
  },
  {
   "cell_type": "code",
   "execution_count": 6,
   "id": "6e6c0e1a",
   "metadata": {},
   "outputs": [
    {
     "name": "stdout",
     "output_type": "stream",
     "text": [
      "50\n",
      "40\n"
     ]
    }
   ],
   "source": [
    "add = (lambda x, y=10 : x + y)\n",
    "print(add(20, 30))\n",
    "print(add(30))"
   ]
  },
  {
   "cell_type": "code",
   "execution_count": 8,
   "id": "c59ac3d0",
   "metadata": {},
   "outputs": [
    {
     "name": "stdout",
     "output_type": "stream",
     "text": [
      "1 (2, 3, 4, 5) {'m': 6, 'n': 7, 'o': 8}\n",
      "1 (2, 3, 4, 5) {'m': 6, 'n': 7, 'o': 8}\n"
     ]
    }
   ],
   "source": [
    "def func_test(a, *b, **c):\n",
    "    print(a, b, c)\n",
    "    \n",
    "###############################\n",
    "\n",
    "func_test(1, 2, 3, 4, 5, m=6, n=7, o=8)\n",
    "\n",
    "###############################\n",
    "\n",
    "(lambda a, *b, **c : print(a, b, c))(1, 2, 3, 4, 5, m=6, n=7, o=8)"
   ]
  },
  {
   "cell_type": "code",
   "execution_count": 13,
   "id": "98715d94",
   "metadata": {},
   "outputs": [
    {
     "name": "stdout",
     "output_type": "stream",
     "text": [
      "[1, 4, 3, 16, 5]\n",
      "[1, 4, 3, 16, 5]\n",
      "[1, 4, 3, 16, 5]\n"
     ]
    }
   ],
   "source": [
    "ex = [1, 2, 3, 4, 5]\n",
    "\n",
    "def func_test(x):\n",
    "    if x % 2 == 0:\n",
    "        return x ** 2\n",
    "    else:\n",
    "        return x\n",
    "\n",
    "##################################\n",
    "\n",
    "result = []\n",
    "for i in ex:\n",
    "    result.append(func_test(i))\n",
    "    \n",
    "print(result)\n",
    "\n",
    "##################################\n",
    "\n",
    "print(list(map(func_test, ex)))\n",
    "\n",
    "##################################\n",
    "\n",
    "print(list(map((lambda x : x**2 if x%2==0 else x), ex)))"
   ]
  },
  {
   "cell_type": "markdown",
   "id": "d78c8f04",
   "metadata": {},
   "source": [
    "####  (4) 함수 장식자(decorator)\n",
    "\n",
    "+ 일종의 함수 감싸기(wrapping)를 해주는 디자인 패턴\n",
    "+ 메타 프로그래밍 기법\n",
    "+ @staticmethod, @classmethod, @abstract, ...."
   ]
  },
  {
   "cell_type": "code",
   "execution_count": 21,
   "id": "6adc8e67",
   "metadata": {},
   "outputs": [
    {
     "data": {
      "text/plain": [
       "'안녕 반가워 홍길동'"
      ]
     },
     "execution_count": 21,
     "metadata": {},
     "output_type": "execute_result"
    }
   ],
   "source": [
    "def make2(fn):\n",
    "    return lambda : \"안녕 \" + fn()\n",
    "\n",
    "def make1(fn):\n",
    "    return lambda : \"반가워\" + fn()\n",
    "\n",
    "def hello():\n",
    "    return \"홍길동\"\n",
    "\n",
    "########################################\n",
    "\n",
    "# m1 = make1(hello)\n",
    "# m1()\n",
    "\n",
    "make2(make1(hello))()"
   ]
  },
  {
   "cell_type": "code",
   "execution_count": 22,
   "id": "1f0c4109",
   "metadata": {},
   "outputs": [
    {
     "data": {
      "text/plain": [
       "'안녕 반가워 홍길동'"
      ]
     },
     "execution_count": 22,
     "metadata": {},
     "output_type": "execute_result"
    }
   ],
   "source": [
    "def make2(fn):\n",
    "    return lambda : \"안녕 \" + fn()\n",
    "\n",
    "def make1(fn):\n",
    "    return lambda : \"반가워 \" + fn()\n",
    "\n",
    "@make2\n",
    "@make1\n",
    "def hello():\n",
    "    return \"홍길동\"\n",
    "\n",
    "########################################\n",
    "\n",
    "hello()"
   ]
  },
  {
   "cell_type": "code",
   "execution_count": 25,
   "id": "504871b1",
   "metadata": {},
   "outputs": [
    {
     "name": "stdout",
     "output_type": "stream",
     "text": [
      "결과는 30 이다.\n"
     ]
    }
   ],
   "source": [
    "def outer(fn):\n",
    "    def inner(n1, n2):\n",
    "        print(\"결과는 {} 이다.\".format(fn(n1, n2)))\n",
    "        \n",
    "    return inner\n",
    "\n",
    "@outer\n",
    "def func(n1, n2):\n",
    "    return n1 + n2\n",
    "#####################################################\n",
    "\n",
    "# result = outer(func)\n",
    "# result(10, 20)\n",
    "\n",
    "func(10, 20)"
   ]
  },
  {
   "cell_type": "code",
   "execution_count": null,
   "id": "236ce103",
   "metadata": {},
   "outputs": [],
   "source": []
  },
  {
   "cell_type": "code",
   "execution_count": null,
   "id": "b2a5a3b4",
   "metadata": {},
   "outputs": [],
   "source": []
  }
 ],
 "metadata": {
  "kernelspec": {
   "display_name": "Python 3",
   "language": "python",
   "name": "python3"
  },
  "language_info": {
   "codemirror_mode": {
    "name": "ipython",
    "version": 3
   },
   "file_extension": ".py",
   "mimetype": "text/x-python",
   "name": "python",
   "nbconvert_exporter": "python",
   "pygments_lexer": "ipython3",
   "version": "3.8.8"
  }
 },
 "nbformat": 4,
 "nbformat_minor": 5
}
